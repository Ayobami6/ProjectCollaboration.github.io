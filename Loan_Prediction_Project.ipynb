{
    "cells": [
        {
            "metadata": {},
            "cell_type": "markdown",
            "source": "# Loan Prediction"
        },
        {
            "metadata": {},
            "cell_type": "markdown",
            "source": "Project Objectives"
        },
        {
            "metadata": {},
            "cell_type": "code",
            "source": "import pandas as pd \nimport numpy as np \nimport matplotlib.pyplot as plt\nimport seaborn as sns",
            "execution_count": 1,
            "outputs": []
        },
        {
            "metadata": {},
            "cell_type": "code",
            "source": "pd.set_option(\"precision\", 2)\npd.options.display.float_format = '{:.2f}'.format",
            "execution_count": 2,
            "outputs": []
        },
        {
            "metadata": {},
            "cell_type": "code",
            "source": "\nimport os, types\nimport pandas as pd\nfrom botocore.client import Config\nimport ibm_boto3\n\ndef __iter__(self): return 0\n\n# @hidden_cell\n# The following code accesses a file in your IBM Cloud Object Storage. It includes your credentials.\n# You might want to remove those credentials before you share the notebook.\nclient_48666d84cd264f008ab8dadb68e43a71 = ibm_boto3.client(service_name='s3',\n    ibm_api_key_id='vSxsfEALoBcgRV8lsBODUn7UzKixGfxwpS8GlJk3pvWm',\n    ibm_auth_endpoint=\"https://iam.cloud.ibm.com/oidc/token\",\n    config=Config(signature_version='oauth'),\n    endpoint_url='https://s3.private.eu.cloud-object-storage.appdomain.cloud')\n\nbody = client_48666d84cd264f008ab8dadb68e43a71.get_object(Bucket='loanpredicionmlproject-donotdelete-pr-mkdib2fzxyyxjq',Key='credit_train.csv')['Body']\n# add missing __iter__ method, so pandas accepts body as file-like object\nif not hasattr(body, \"__iter__\"): body.__iter__ = types.MethodType( __iter__, body )\n\ndf_data_1 = pd.read_csv(body)\ndf_data_1.head()",
            "execution_count": 3,
            "outputs": [
                {
                    "output_type": "execute_result",
                    "execution_count": 3,
                    "data": {
                        "text/plain": "                                Loan ID                           Customer ID  \\\n0  14dd8831-6af5-400b-83ec-68e61888a048  981165ec-3274-42f5-a3b4-d104041a9ca9   \n1  4771cc26-131a-45db-b5aa-537ea4ba5342  2de017a3-2e01-49cb-a581-08169e83be29   \n2  4eed4e6a-aa2f-4c91-8651-ce984ee8fb26  5efb2b2b-bf11-4dfd-a572-3761a2694725   \n3  77598f7b-32e7-4e3b-a6e5-06ba0d98fe8a  e777faab-98ae-45af-9a86-7ce5b33b1011   \n4  d4062e70-befa-4995-8643-a0de73938182  81536ad9-5ccf-4eb8-befb-47a4d608658e   \n\n  Loan Status  Current Loan Amount        Term  Credit Score  Annual Income  \\\n0  Fully Paid            445412.00  Short Term        709.00     1167493.00   \n1  Fully Paid            262328.00  Short Term           NaN            NaN   \n2  Fully Paid          99999999.00  Short Term        741.00     2231892.00   \n3  Fully Paid            347666.00   Long Term        721.00      806949.00   \n4  Fully Paid            176220.00  Short Term           NaN            NaN   \n\n  Years in current job Home Ownership             Purpose  Monthly Debt  \\\n0              8 years  Home Mortgage   Home Improvements       5214.74   \n1            10+ years  Home Mortgage  Debt Consolidation      33295.98   \n2              8 years       Own Home  Debt Consolidation      29200.53   \n3              3 years       Own Home  Debt Consolidation       8741.90   \n4              5 years           Rent  Debt Consolidation      20639.70   \n\n   Years of Credit History  Months since last delinquent  \\\n0                    17.20                           NaN   \n1                    21.10                          8.00   \n2                    14.90                         29.00   \n3                    12.00                           NaN   \n4                     6.10                           NaN   \n\n   Number of Open Accounts  Number of Credit Problems  Current Credit Balance  \\\n0                     6.00                       1.00               228190.00   \n1                    35.00                       0.00               229976.00   \n2                    18.00                       1.00               297996.00   \n3                     9.00                       0.00               256329.00   \n4                    15.00                       0.00               253460.00   \n\n   Maximum Open Credit  Bankruptcies  Tax Liens  \n0            416746.00          1.00       0.00  \n1            850784.00          0.00       0.00  \n2            750090.00          0.00       0.00  \n3            386958.00          0.00       0.00  \n4            427174.00          0.00       0.00  ",
                        "text/html": "<div>\n<style scoped>\n    .dataframe tbody tr th:only-of-type {\n        vertical-align: middle;\n    }\n\n    .dataframe tbody tr th {\n        vertical-align: top;\n    }\n\n    .dataframe thead th {\n        text-align: right;\n    }\n</style>\n<table border=\"1\" class=\"dataframe\">\n  <thead>\n    <tr style=\"text-align: right;\">\n      <th></th>\n      <th>Loan ID</th>\n      <th>Customer ID</th>\n      <th>Loan Status</th>\n      <th>Current Loan Amount</th>\n      <th>Term</th>\n      <th>Credit Score</th>\n      <th>Annual Income</th>\n      <th>Years in current job</th>\n      <th>Home Ownership</th>\n      <th>Purpose</th>\n      <th>Monthly Debt</th>\n      <th>Years of Credit History</th>\n      <th>Months since last delinquent</th>\n      <th>Number of Open Accounts</th>\n      <th>Number of Credit Problems</th>\n      <th>Current Credit Balance</th>\n      <th>Maximum Open Credit</th>\n      <th>Bankruptcies</th>\n      <th>Tax Liens</th>\n    </tr>\n  </thead>\n  <tbody>\n    <tr>\n      <th>0</th>\n      <td>14dd8831-6af5-400b-83ec-68e61888a048</td>\n      <td>981165ec-3274-42f5-a3b4-d104041a9ca9</td>\n      <td>Fully Paid</td>\n      <td>445412.00</td>\n      <td>Short Term</td>\n      <td>709.00</td>\n      <td>1167493.00</td>\n      <td>8 years</td>\n      <td>Home Mortgage</td>\n      <td>Home Improvements</td>\n      <td>5214.74</td>\n      <td>17.20</td>\n      <td>NaN</td>\n      <td>6.00</td>\n      <td>1.00</td>\n      <td>228190.00</td>\n      <td>416746.00</td>\n      <td>1.00</td>\n      <td>0.00</td>\n    </tr>\n    <tr>\n      <th>1</th>\n      <td>4771cc26-131a-45db-b5aa-537ea4ba5342</td>\n      <td>2de017a3-2e01-49cb-a581-08169e83be29</td>\n      <td>Fully Paid</td>\n      <td>262328.00</td>\n      <td>Short Term</td>\n      <td>NaN</td>\n      <td>NaN</td>\n      <td>10+ years</td>\n      <td>Home Mortgage</td>\n      <td>Debt Consolidation</td>\n      <td>33295.98</td>\n      <td>21.10</td>\n      <td>8.00</td>\n      <td>35.00</td>\n      <td>0.00</td>\n      <td>229976.00</td>\n      <td>850784.00</td>\n      <td>0.00</td>\n      <td>0.00</td>\n    </tr>\n    <tr>\n      <th>2</th>\n      <td>4eed4e6a-aa2f-4c91-8651-ce984ee8fb26</td>\n      <td>5efb2b2b-bf11-4dfd-a572-3761a2694725</td>\n      <td>Fully Paid</td>\n      <td>99999999.00</td>\n      <td>Short Term</td>\n      <td>741.00</td>\n      <td>2231892.00</td>\n      <td>8 years</td>\n      <td>Own Home</td>\n      <td>Debt Consolidation</td>\n      <td>29200.53</td>\n      <td>14.90</td>\n      <td>29.00</td>\n      <td>18.00</td>\n      <td>1.00</td>\n      <td>297996.00</td>\n      <td>750090.00</td>\n      <td>0.00</td>\n      <td>0.00</td>\n    </tr>\n    <tr>\n      <th>3</th>\n      <td>77598f7b-32e7-4e3b-a6e5-06ba0d98fe8a</td>\n      <td>e777faab-98ae-45af-9a86-7ce5b33b1011</td>\n      <td>Fully Paid</td>\n      <td>347666.00</td>\n      <td>Long Term</td>\n      <td>721.00</td>\n      <td>806949.00</td>\n      <td>3 years</td>\n      <td>Own Home</td>\n      <td>Debt Consolidation</td>\n      <td>8741.90</td>\n      <td>12.00</td>\n      <td>NaN</td>\n      <td>9.00</td>\n      <td>0.00</td>\n      <td>256329.00</td>\n      <td>386958.00</td>\n      <td>0.00</td>\n      <td>0.00</td>\n    </tr>\n    <tr>\n      <th>4</th>\n      <td>d4062e70-befa-4995-8643-a0de73938182</td>\n      <td>81536ad9-5ccf-4eb8-befb-47a4d608658e</td>\n      <td>Fully Paid</td>\n      <td>176220.00</td>\n      <td>Short Term</td>\n      <td>NaN</td>\n      <td>NaN</td>\n      <td>5 years</td>\n      <td>Rent</td>\n      <td>Debt Consolidation</td>\n      <td>20639.70</td>\n      <td>6.10</td>\n      <td>NaN</td>\n      <td>15.00</td>\n      <td>0.00</td>\n      <td>253460.00</td>\n      <td>427174.00</td>\n      <td>0.00</td>\n      <td>0.00</td>\n    </tr>\n  </tbody>\n</table>\n</div>"
                    },
                    "metadata": {}
                }
            ]
        },
        {
            "metadata": {},
            "cell_type": "code",
            "source": "df_data_1.shape",
            "execution_count": 4,
            "outputs": [
                {
                    "output_type": "execute_result",
                    "execution_count": 4,
                    "data": {
                        "text/plain": "(100514, 19)"
                    },
                    "metadata": {}
                }
            ]
        },
        {
            "metadata": {},
            "cell_type": "markdown",
            "source": "Data Cleaning:\nDealing with missing values "
        },
        {
            "metadata": {},
            "cell_type": "code",
            "source": "m_v = df_data_1.isnull().sum()",
            "execution_count": 5,
            "outputs": []
        },
        {
            "metadata": {},
            "cell_type": "code",
            "source": "m_v",
            "execution_count": 6,
            "outputs": [
                {
                    "output_type": "execute_result",
                    "execution_count": 6,
                    "data": {
                        "text/plain": "Loan ID                           514\nCustomer ID                       514\nLoan Status                       514\nCurrent Loan Amount               514\nTerm                              514\nCredit Score                    19668\nAnnual Income                   19668\nYears in current job             4736\nHome Ownership                    514\nPurpose                           514\nMonthly Debt                      514\nYears of Credit History           514\nMonths since last delinquent    53655\nNumber of Open Accounts           514\nNumber of Credit Problems         514\nCurrent Credit Balance            514\nMaximum Open Credit               516\nBankruptcies                      718\nTax Liens                         524\ndtype: int64"
                    },
                    "metadata": {}
                }
            ]
        },
        {
            "metadata": {},
            "cell_type": "code",
            "source": "m_v.sum()",
            "execution_count": 7,
            "outputs": [
                {
                    "output_type": "execute_result",
                    "execution_count": 7,
                    "data": {
                        "text/plain": "105653"
                    },
                    "metadata": {}
                }
            ]
        },
        {
            "metadata": {},
            "cell_type": "code",
            "source": "n_n = df_data_1.notnull().sum()",
            "execution_count": 8,
            "outputs": []
        },
        {
            "metadata": {
                "scrolled": true
            },
            "cell_type": "code",
            "source": "n_n",
            "execution_count": 9,
            "outputs": [
                {
                    "output_type": "execute_result",
                    "execution_count": 9,
                    "data": {
                        "text/plain": "Loan ID                         100000\nCustomer ID                     100000\nLoan Status                     100000\nCurrent Loan Amount             100000\nTerm                            100000\nCredit Score                     80846\nAnnual Income                    80846\nYears in current job             95778\nHome Ownership                  100000\nPurpose                         100000\nMonthly Debt                    100000\nYears of Credit History         100000\nMonths since last delinquent     46859\nNumber of Open Accounts         100000\nNumber of Credit Problems       100000\nCurrent Credit Balance          100000\nMaximum Open Credit              99998\nBankruptcies                     99796\nTax Liens                        99990\ndtype: int64"
                    },
                    "metadata": {}
                }
            ]
        },
        {
            "metadata": {},
            "cell_type": "code",
            "source": "n_n.sum()",
            "execution_count": 10,
            "outputs": [
                {
                    "output_type": "execute_result",
                    "execution_count": 10,
                    "data": {
                        "text/plain": "1804113"
                    },
                    "metadata": {}
                }
            ]
        },
        {
            "metadata": {},
            "cell_type": "code",
            "source": "df_data_1.drop('Months since last delinquent', axis=1, inplace=True)",
            "execution_count": 11,
            "outputs": []
        },
        {
            "metadata": {},
            "cell_type": "code",
            "source": "df_data_1.isnull().any()",
            "execution_count": 12,
            "outputs": [
                {
                    "output_type": "execute_result",
                    "execution_count": 12,
                    "data": {
                        "text/plain": "Loan ID                      True\nCustomer ID                  True\nLoan Status                  True\nCurrent Loan Amount          True\nTerm                         True\nCredit Score                 True\nAnnual Income                True\nYears in current job         True\nHome Ownership               True\nPurpose                      True\nMonthly Debt                 True\nYears of Credit History      True\nNumber of Open Accounts      True\nNumber of Credit Problems    True\nCurrent Credit Balance       True\nMaximum Open Credit          True\nBankruptcies                 True\nTax Liens                    True\ndtype: bool"
                    },
                    "metadata": {}
                }
            ]
        },
        {
            "metadata": {},
            "cell_type": "code",
            "source": "df_data_1.dtypes",
            "execution_count": 13,
            "outputs": [
                {
                    "output_type": "execute_result",
                    "execution_count": 13,
                    "data": {
                        "text/plain": "Loan ID                       object\nCustomer ID                   object\nLoan Status                   object\nCurrent Loan Amount          float64\nTerm                          object\nCredit Score                 float64\nAnnual Income                float64\nYears in current job          object\nHome Ownership                object\nPurpose                       object\nMonthly Debt                 float64\nYears of Credit History      float64\nNumber of Open Accounts      float64\nNumber of Credit Problems    float64\nCurrent Credit Balance       float64\nMaximum Open Credit          float64\nBankruptcies                 float64\nTax Liens                    float64\ndtype: object"
                    },
                    "metadata": {}
                }
            ]
        },
        {
            "metadata": {},
            "cell_type": "code",
            "source": "Average_Credit_score = round(df_data_1['Credit Score'].mean(), 2)",
            "execution_count": 14,
            "outputs": []
        },
        {
            "metadata": {},
            "cell_type": "code",
            "source": "Average_Credit_score",
            "execution_count": 15,
            "outputs": [
                {
                    "output_type": "execute_result",
                    "execution_count": 15,
                    "data": {
                        "text/plain": "1076.46"
                    },
                    "metadata": {}
                }
            ]
        },
        {
            "metadata": {},
            "cell_type": "code",
            "source": "df_data_1['Credit Score'].fillna(Average_Credit_score, inplace=True)",
            "execution_count": 16,
            "outputs": []
        },
        {
            "metadata": {},
            "cell_type": "code",
            "source": "df_data_1.isnull().sum()",
            "execution_count": 17,
            "outputs": [
                {
                    "output_type": "execute_result",
                    "execution_count": 17,
                    "data": {
                        "text/plain": "Loan ID                        514\nCustomer ID                    514\nLoan Status                    514\nCurrent Loan Amount            514\nTerm                           514\nCredit Score                     0\nAnnual Income                19668\nYears in current job          4736\nHome Ownership                 514\nPurpose                        514\nMonthly Debt                   514\nYears of Credit History        514\nNumber of Open Accounts        514\nNumber of Credit Problems      514\nCurrent Credit Balance         514\nMaximum Open Credit            516\nBankruptcies                   718\nTax Liens                      524\ndtype: int64"
                    },
                    "metadata": {}
                }
            ]
        },
        {
            "metadata": {},
            "cell_type": "code",
            "source": "for i in df_data_1.columns:\n    if df_data_1[i].isnull().any()==True and df_data_1[i].dtypes=='float64':\n        df_data_1[i].fillna(df_data_1[i].mean(), inplace=True)\n        ",
            "execution_count": 18,
            "outputs": []
        },
        {
            "metadata": {},
            "cell_type": "code",
            "source": "df_data_1.isnull().sum()",
            "execution_count": 19,
            "outputs": [
                {
                    "output_type": "execute_result",
                    "execution_count": 19,
                    "data": {
                        "text/plain": "Loan ID                       514\nCustomer ID                   514\nLoan Status                   514\nCurrent Loan Amount             0\nTerm                          514\nCredit Score                    0\nAnnual Income                   0\nYears in current job         4736\nHome Ownership                514\nPurpose                       514\nMonthly Debt                    0\nYears of Credit History         0\nNumber of Open Accounts         0\nNumber of Credit Problems       0\nCurrent Credit Balance          0\nMaximum Open Credit             0\nBankruptcies                    0\nTax Liens                       0\ndtype: int64"
                    },
                    "metadata": {}
                }
            ]
        },
        {
            "metadata": {},
            "cell_type": "code",
            "source": "for i in df_data_1.columns:\n    if df_data_1[i].isnull().any()==True and df_data_1[i].dtypes=='object':\n        df_data_1[i].fillna(df_data_1[i].mode()[0], inplace=True)",
            "execution_count": 20,
            "outputs": []
        },
        {
            "metadata": {},
            "cell_type": "code",
            "source": "df_data_1.isnull().sum()",
            "execution_count": 21,
            "outputs": [
                {
                    "output_type": "execute_result",
                    "execution_count": 21,
                    "data": {
                        "text/plain": "Loan ID                      0\nCustomer ID                  0\nLoan Status                  0\nCurrent Loan Amount          0\nTerm                         0\nCredit Score                 0\nAnnual Income                0\nYears in current job         0\nHome Ownership               0\nPurpose                      0\nMonthly Debt                 0\nYears of Credit History      0\nNumber of Open Accounts      0\nNumber of Credit Problems    0\nCurrent Credit Balance       0\nMaximum Open Credit          0\nBankruptcies                 0\nTax Liens                    0\ndtype: int64"
                    },
                    "metadata": {}
                }
            ]
        },
        {
            "metadata": {},
            "cell_type": "code",
            "source": "df_data_1.head()",
            "execution_count": 22,
            "outputs": [
                {
                    "output_type": "execute_result",
                    "execution_count": 22,
                    "data": {
                        "text/plain": "                                Loan ID                           Customer ID  \\\n0  14dd8831-6af5-400b-83ec-68e61888a048  981165ec-3274-42f5-a3b4-d104041a9ca9   \n1  4771cc26-131a-45db-b5aa-537ea4ba5342  2de017a3-2e01-49cb-a581-08169e83be29   \n2  4eed4e6a-aa2f-4c91-8651-ce984ee8fb26  5efb2b2b-bf11-4dfd-a572-3761a2694725   \n3  77598f7b-32e7-4e3b-a6e5-06ba0d98fe8a  e777faab-98ae-45af-9a86-7ce5b33b1011   \n4  d4062e70-befa-4995-8643-a0de73938182  81536ad9-5ccf-4eb8-befb-47a4d608658e   \n\n  Loan Status  Current Loan Amount        Term  Credit Score  Annual Income  \\\n0  Fully Paid            445412.00  Short Term        709.00     1167493.00   \n1  Fully Paid            262328.00  Short Term       1076.46     1378276.56   \n2  Fully Paid          99999999.00  Short Term        741.00     2231892.00   \n3  Fully Paid            347666.00   Long Term        721.00      806949.00   \n4  Fully Paid            176220.00  Short Term       1076.46     1378276.56   \n\n  Years in current job Home Ownership             Purpose  Monthly Debt  \\\n0              8 years  Home Mortgage   Home Improvements       5214.74   \n1            10+ years  Home Mortgage  Debt Consolidation      33295.98   \n2              8 years       Own Home  Debt Consolidation      29200.53   \n3              3 years       Own Home  Debt Consolidation       8741.90   \n4              5 years           Rent  Debt Consolidation      20639.70   \n\n   Years of Credit History  Number of Open Accounts  \\\n0                    17.20                     6.00   \n1                    21.10                    35.00   \n2                    14.90                    18.00   \n3                    12.00                     9.00   \n4                     6.10                    15.00   \n\n   Number of Credit Problems  Current Credit Balance  Maximum Open Credit  \\\n0                       1.00               228190.00            416746.00   \n1                       0.00               229976.00            850784.00   \n2                       1.00               297996.00            750090.00   \n3                       0.00               256329.00            386958.00   \n4                       0.00               253460.00            427174.00   \n\n   Bankruptcies  Tax Liens  \n0          1.00       0.00  \n1          0.00       0.00  \n2          0.00       0.00  \n3          0.00       0.00  \n4          0.00       0.00  ",
                        "text/html": "<div>\n<style scoped>\n    .dataframe tbody tr th:only-of-type {\n        vertical-align: middle;\n    }\n\n    .dataframe tbody tr th {\n        vertical-align: top;\n    }\n\n    .dataframe thead th {\n        text-align: right;\n    }\n</style>\n<table border=\"1\" class=\"dataframe\">\n  <thead>\n    <tr style=\"text-align: right;\">\n      <th></th>\n      <th>Loan ID</th>\n      <th>Customer ID</th>\n      <th>Loan Status</th>\n      <th>Current Loan Amount</th>\n      <th>Term</th>\n      <th>Credit Score</th>\n      <th>Annual Income</th>\n      <th>Years in current job</th>\n      <th>Home Ownership</th>\n      <th>Purpose</th>\n      <th>Monthly Debt</th>\n      <th>Years of Credit History</th>\n      <th>Number of Open Accounts</th>\n      <th>Number of Credit Problems</th>\n      <th>Current Credit Balance</th>\n      <th>Maximum Open Credit</th>\n      <th>Bankruptcies</th>\n      <th>Tax Liens</th>\n    </tr>\n  </thead>\n  <tbody>\n    <tr>\n      <th>0</th>\n      <td>14dd8831-6af5-400b-83ec-68e61888a048</td>\n      <td>981165ec-3274-42f5-a3b4-d104041a9ca9</td>\n      <td>Fully Paid</td>\n      <td>445412.00</td>\n      <td>Short Term</td>\n      <td>709.00</td>\n      <td>1167493.00</td>\n      <td>8 years</td>\n      <td>Home Mortgage</td>\n      <td>Home Improvements</td>\n      <td>5214.74</td>\n      <td>17.20</td>\n      <td>6.00</td>\n      <td>1.00</td>\n      <td>228190.00</td>\n      <td>416746.00</td>\n      <td>1.00</td>\n      <td>0.00</td>\n    </tr>\n    <tr>\n      <th>1</th>\n      <td>4771cc26-131a-45db-b5aa-537ea4ba5342</td>\n      <td>2de017a3-2e01-49cb-a581-08169e83be29</td>\n      <td>Fully Paid</td>\n      <td>262328.00</td>\n      <td>Short Term</td>\n      <td>1076.46</td>\n      <td>1378276.56</td>\n      <td>10+ years</td>\n      <td>Home Mortgage</td>\n      <td>Debt Consolidation</td>\n      <td>33295.98</td>\n      <td>21.10</td>\n      <td>35.00</td>\n      <td>0.00</td>\n      <td>229976.00</td>\n      <td>850784.00</td>\n      <td>0.00</td>\n      <td>0.00</td>\n    </tr>\n    <tr>\n      <th>2</th>\n      <td>4eed4e6a-aa2f-4c91-8651-ce984ee8fb26</td>\n      <td>5efb2b2b-bf11-4dfd-a572-3761a2694725</td>\n      <td>Fully Paid</td>\n      <td>99999999.00</td>\n      <td>Short Term</td>\n      <td>741.00</td>\n      <td>2231892.00</td>\n      <td>8 years</td>\n      <td>Own Home</td>\n      <td>Debt Consolidation</td>\n      <td>29200.53</td>\n      <td>14.90</td>\n      <td>18.00</td>\n      <td>1.00</td>\n      <td>297996.00</td>\n      <td>750090.00</td>\n      <td>0.00</td>\n      <td>0.00</td>\n    </tr>\n    <tr>\n      <th>3</th>\n      <td>77598f7b-32e7-4e3b-a6e5-06ba0d98fe8a</td>\n      <td>e777faab-98ae-45af-9a86-7ce5b33b1011</td>\n      <td>Fully Paid</td>\n      <td>347666.00</td>\n      <td>Long Term</td>\n      <td>721.00</td>\n      <td>806949.00</td>\n      <td>3 years</td>\n      <td>Own Home</td>\n      <td>Debt Consolidation</td>\n      <td>8741.90</td>\n      <td>12.00</td>\n      <td>9.00</td>\n      <td>0.00</td>\n      <td>256329.00</td>\n      <td>386958.00</td>\n      <td>0.00</td>\n      <td>0.00</td>\n    </tr>\n    <tr>\n      <th>4</th>\n      <td>d4062e70-befa-4995-8643-a0de73938182</td>\n      <td>81536ad9-5ccf-4eb8-befb-47a4d608658e</td>\n      <td>Fully Paid</td>\n      <td>176220.00</td>\n      <td>Short Term</td>\n      <td>1076.46</td>\n      <td>1378276.56</td>\n      <td>5 years</td>\n      <td>Rent</td>\n      <td>Debt Consolidation</td>\n      <td>20639.70</td>\n      <td>6.10</td>\n      <td>15.00</td>\n      <td>0.00</td>\n      <td>253460.00</td>\n      <td>427174.00</td>\n      <td>0.00</td>\n      <td>0.00</td>\n    </tr>\n  </tbody>\n</table>\n</div>"
                    },
                    "metadata": {}
                }
            ]
        },
        {
            "metadata": {},
            "cell_type": "code",
            "source": "df_data_1.describe()",
            "execution_count": 23,
            "outputs": [
                {
                    "output_type": "execute_result",
                    "execution_count": 23,
                    "data": {
                        "text/plain": "       Current Loan Amount  Credit Score  Annual Income  Monthly Debt  \\\ncount            100514.00     100514.00      100514.00     100514.00   \nmean           11760447.39       1076.46     1378276.56      18472.41   \nstd            31702570.56       1323.20      969808.18      12143.82   \nmin               10802.00        585.00       76627.00          0.00   \n25%              179916.00        711.00      932425.00      10245.84   \n50%              313852.00        733.00     1378241.00      16280.91   \n75%              528968.00        750.00     1509968.00      23959.47   \nmax            99999999.00       7510.00   165557393.00     435843.28   \n\n       Years of Credit History  Number of Open Accounts  \\\ncount                100514.00                100514.00   \nmean                     18.20                    11.13   \nstd                       7.00                     5.00   \nmin                       3.60                     0.00   \n25%                      13.50                     8.00   \n50%                      17.00                    10.00   \n75%                      21.60                    14.00   \nmax                      70.50                    76.00   \n\n       Number of Credit Problems  Current Credit Balance  Maximum Open Credit  \\\ncount                  100514.00               100514.00            100514.00   \nmean                        0.17               294637.38            760798.38   \nstd                         0.48               375207.88           8362954.17   \nmin                         0.00                    0.00                 0.00   \n25%                         0.00               113107.00            274516.00   \n50%                         0.00               210900.00            470118.00   \n75%                         0.00               366657.25            780428.00   \nmax                        15.00             32878968.00        1539737892.00   \n\n       Bankruptcies  Tax Liens  \ncount     100514.00  100514.00  \nmean           0.12       0.03  \nstd            0.35       0.26  \nmin            0.00       0.00  \n25%            0.00       0.00  \n50%            0.00       0.00  \n75%            0.00       0.00  \nmax            7.00      15.00  ",
                        "text/html": "<div>\n<style scoped>\n    .dataframe tbody tr th:only-of-type {\n        vertical-align: middle;\n    }\n\n    .dataframe tbody tr th {\n        vertical-align: top;\n    }\n\n    .dataframe thead th {\n        text-align: right;\n    }\n</style>\n<table border=\"1\" class=\"dataframe\">\n  <thead>\n    <tr style=\"text-align: right;\">\n      <th></th>\n      <th>Current Loan Amount</th>\n      <th>Credit Score</th>\n      <th>Annual Income</th>\n      <th>Monthly Debt</th>\n      <th>Years of Credit History</th>\n      <th>Number of Open Accounts</th>\n      <th>Number of Credit Problems</th>\n      <th>Current Credit Balance</th>\n      <th>Maximum Open Credit</th>\n      <th>Bankruptcies</th>\n      <th>Tax Liens</th>\n    </tr>\n  </thead>\n  <tbody>\n    <tr>\n      <th>count</th>\n      <td>100514.00</td>\n      <td>100514.00</td>\n      <td>100514.00</td>\n      <td>100514.00</td>\n      <td>100514.00</td>\n      <td>100514.00</td>\n      <td>100514.00</td>\n      <td>100514.00</td>\n      <td>100514.00</td>\n      <td>100514.00</td>\n      <td>100514.00</td>\n    </tr>\n    <tr>\n      <th>mean</th>\n      <td>11760447.39</td>\n      <td>1076.46</td>\n      <td>1378276.56</td>\n      <td>18472.41</td>\n      <td>18.20</td>\n      <td>11.13</td>\n      <td>0.17</td>\n      <td>294637.38</td>\n      <td>760798.38</td>\n      <td>0.12</td>\n      <td>0.03</td>\n    </tr>\n    <tr>\n      <th>std</th>\n      <td>31702570.56</td>\n      <td>1323.20</td>\n      <td>969808.18</td>\n      <td>12143.82</td>\n      <td>7.00</td>\n      <td>5.00</td>\n      <td>0.48</td>\n      <td>375207.88</td>\n      <td>8362954.17</td>\n      <td>0.35</td>\n      <td>0.26</td>\n    </tr>\n    <tr>\n      <th>min</th>\n      <td>10802.00</td>\n      <td>585.00</td>\n      <td>76627.00</td>\n      <td>0.00</td>\n      <td>3.60</td>\n      <td>0.00</td>\n      <td>0.00</td>\n      <td>0.00</td>\n      <td>0.00</td>\n      <td>0.00</td>\n      <td>0.00</td>\n    </tr>\n    <tr>\n      <th>25%</th>\n      <td>179916.00</td>\n      <td>711.00</td>\n      <td>932425.00</td>\n      <td>10245.84</td>\n      <td>13.50</td>\n      <td>8.00</td>\n      <td>0.00</td>\n      <td>113107.00</td>\n      <td>274516.00</td>\n      <td>0.00</td>\n      <td>0.00</td>\n    </tr>\n    <tr>\n      <th>50%</th>\n      <td>313852.00</td>\n      <td>733.00</td>\n      <td>1378241.00</td>\n      <td>16280.91</td>\n      <td>17.00</td>\n      <td>10.00</td>\n      <td>0.00</td>\n      <td>210900.00</td>\n      <td>470118.00</td>\n      <td>0.00</td>\n      <td>0.00</td>\n    </tr>\n    <tr>\n      <th>75%</th>\n      <td>528968.00</td>\n      <td>750.00</td>\n      <td>1509968.00</td>\n      <td>23959.47</td>\n      <td>21.60</td>\n      <td>14.00</td>\n      <td>0.00</td>\n      <td>366657.25</td>\n      <td>780428.00</td>\n      <td>0.00</td>\n      <td>0.00</td>\n    </tr>\n    <tr>\n      <th>max</th>\n      <td>99999999.00</td>\n      <td>7510.00</td>\n      <td>165557393.00</td>\n      <td>435843.28</td>\n      <td>70.50</td>\n      <td>76.00</td>\n      <td>15.00</td>\n      <td>32878968.00</td>\n      <td>1539737892.00</td>\n      <td>7.00</td>\n      <td>15.00</td>\n    </tr>\n  </tbody>\n</table>\n</div>"
                    },
                    "metadata": {}
                }
            ]
        },
        {
            "metadata": {},
            "cell_type": "markdown",
            "source": "Data Visualization for more insights on the data"
        },
        {
            "metadata": {
                "scrolled": true
            },
            "cell_type": "code",
            "source": "fig, axes = plt.subplots(2, 2)\nplt.figure(figsize=(10,4))\ndf_data_1.boxplot(column='Credit Score', ax=axes[0,0])\ndf_data_1.boxplot(column='Tax Liens', ax=axes[0,1]);",
            "execution_count": 24,
            "outputs": [
                {
                    "output_type": "execute_result",
                    "execution_count": 24,
                    "data": {
                        "text/plain": "<AxesSubplot:>"
                    },
                    "metadata": {}
                },
                {
                    "output_type": "display_data",
                    "data": {
                        "text/plain": "<Figure size 432x288 with 4 Axes>",
                        "image/png": "[encoded data removed]"
                    },
                    "metadata": {
                        "needs_background": "light"
                    }
                },
                {
                    "output_type": "display_data",
                    "data": {
                        "text/plain": "<Figure size 720x288 with 0 Axes>"
                    },
                    "metadata": {}
                }
            ]
        },
        {
            "metadata": {},
            "cell_type": "code",
            "source": "sns.set(style='whitegrid')\nsns.boxplot(y=df_data_1['Current Loan Amount'])",
            "execution_count": 28,
            "outputs": [
                {
                    "output_type": "execute_result",
                    "execution_count": 28,
                    "data": {
                        "text/plain": "<AxesSubplot:ylabel='Current Loan Amount'>"
                    },
                    "metadata": {}
                },
                {
                    "output_type": "display_data",
                    "data": {
                        "text/plain": "<Figure size 432x288 with 1 Axes>",
                        "image/png": "[encoded data removed]"
                    },
                    "metadata": {}
                }
            ]
        },
        {
            "metadata": {},
            "cell_type": "code",
            "source": "print(np.where(df_data_1['Credit Score'] > 750))",
            "execution_count": 26,
            "outputs": [
                {
                    "output_type": "stream",
                    "text": "(array([     1,      4,      5, ..., 100511, 100512, 100513]),)\n",
                    "name": "stdout"
                }
            ]
        },
        {
            "metadata": {},
            "cell_type": "code",
            "source": "df_data_1.drop('Tax Liens', axis='columns', inplace=True)\n    ",
            "execution_count": 33,
            "outputs": []
        },
        {
            "metadata": {},
            "cell_type": "code",
            "source": "df_data_1.head()",
            "execution_count": 34,
            "outputs": [
                {
                    "output_type": "execute_result",
                    "execution_count": 34,
                    "data": {
                        "text/plain": "                                Loan ID                           Customer ID  \\\n0  14dd8831-6af5-400b-83ec-68e61888a048  981165ec-3274-42f5-a3b4-d104041a9ca9   \n1  4771cc26-131a-45db-b5aa-537ea4ba5342  2de017a3-2e01-49cb-a581-08169e83be29   \n2  4eed4e6a-aa2f-4c91-8651-ce984ee8fb26  5efb2b2b-bf11-4dfd-a572-3761a2694725   \n3  77598f7b-32e7-4e3b-a6e5-06ba0d98fe8a  e777faab-98ae-45af-9a86-7ce5b33b1011   \n4  d4062e70-befa-4995-8643-a0de73938182  81536ad9-5ccf-4eb8-befb-47a4d608658e   \n\n  Loan Status  Current Loan Amount        Term  Credit Score  Annual Income  \\\n0  Fully Paid            445412.00  Short Term        709.00     1167493.00   \n1  Fully Paid            262328.00  Short Term       1076.46     1378276.56   \n2  Fully Paid          99999999.00  Short Term        741.00     2231892.00   \n3  Fully Paid            347666.00   Long Term        721.00      806949.00   \n4  Fully Paid            176220.00  Short Term       1076.46     1378276.56   \n\n  Years in current job Home Ownership             Purpose  Monthly Debt  \\\n0              8 years  Home Mortgage   Home Improvements       5214.74   \n1            10+ years  Home Mortgage  Debt Consolidation      33295.98   \n2              8 years       Own Home  Debt Consolidation      29200.53   \n3              3 years       Own Home  Debt Consolidation       8741.90   \n4              5 years           Rent  Debt Consolidation      20639.70   \n\n   Years of Credit History  Number of Open Accounts  \\\n0                    17.20                     6.00   \n1                    21.10                    35.00   \n2                    14.90                    18.00   \n3                    12.00                     9.00   \n4                     6.10                    15.00   \n\n   Number of Credit Problems  Current Credit Balance  Maximum Open Credit  \\\n0                       1.00               228190.00            416746.00   \n1                       0.00               229976.00            850784.00   \n2                       1.00               297996.00            750090.00   \n3                       0.00               256329.00            386958.00   \n4                       0.00               253460.00            427174.00   \n\n   Bankruptcies  \n0          1.00  \n1          0.00  \n2          0.00  \n3          0.00  \n4          0.00  ",
                        "text/html": "<div>\n<style scoped>\n    .dataframe tbody tr th:only-of-type {\n        vertical-align: middle;\n    }\n\n    .dataframe tbody tr th {\n        vertical-align: top;\n    }\n\n    .dataframe thead th {\n        text-align: right;\n    }\n</style>\n<table border=\"1\" class=\"dataframe\">\n  <thead>\n    <tr style=\"text-align: right;\">\n      <th></th>\n      <th>Loan ID</th>\n      <th>Customer ID</th>\n      <th>Loan Status</th>\n      <th>Current Loan Amount</th>\n      <th>Term</th>\n      <th>Credit Score</th>\n      <th>Annual Income</th>\n      <th>Years in current job</th>\n      <th>Home Ownership</th>\n      <th>Purpose</th>\n      <th>Monthly Debt</th>\n      <th>Years of Credit History</th>\n      <th>Number of Open Accounts</th>\n      <th>Number of Credit Problems</th>\n      <th>Current Credit Balance</th>\n      <th>Maximum Open Credit</th>\n      <th>Bankruptcies</th>\n    </tr>\n  </thead>\n  <tbody>\n    <tr>\n      <th>0</th>\n      <td>14dd8831-6af5-400b-83ec-68e61888a048</td>\n      <td>981165ec-3274-42f5-a3b4-d104041a9ca9</td>\n      <td>Fully Paid</td>\n      <td>445412.00</td>\n      <td>Short Term</td>\n      <td>709.00</td>\n      <td>1167493.00</td>\n      <td>8 years</td>\n      <td>Home Mortgage</td>\n      <td>Home Improvements</td>\n      <td>5214.74</td>\n      <td>17.20</td>\n      <td>6.00</td>\n      <td>1.00</td>\n      <td>228190.00</td>\n      <td>416746.00</td>\n      <td>1.00</td>\n    </tr>\n    <tr>\n      <th>1</th>\n      <td>4771cc26-131a-45db-b5aa-537ea4ba5342</td>\n      <td>2de017a3-2e01-49cb-a581-08169e83be29</td>\n      <td>Fully Paid</td>\n      <td>262328.00</td>\n      <td>Short Term</td>\n      <td>1076.46</td>\n      <td>1378276.56</td>\n      <td>10+ years</td>\n      <td>Home Mortgage</td>\n      <td>Debt Consolidation</td>\n      <td>33295.98</td>\n      <td>21.10</td>\n      <td>35.00</td>\n      <td>0.00</td>\n      <td>229976.00</td>\n      <td>850784.00</td>\n      <td>0.00</td>\n    </tr>\n    <tr>\n      <th>2</th>\n      <td>4eed4e6a-aa2f-4c91-8651-ce984ee8fb26</td>\n      <td>5efb2b2b-bf11-4dfd-a572-3761a2694725</td>\n      <td>Fully Paid</td>\n      <td>99999999.00</td>\n      <td>Short Term</td>\n      <td>741.00</td>\n      <td>2231892.00</td>\n      <td>8 years</td>\n      <td>Own Home</td>\n      <td>Debt Consolidation</td>\n      <td>29200.53</td>\n      <td>14.90</td>\n      <td>18.00</td>\n      <td>1.00</td>\n      <td>297996.00</td>\n      <td>750090.00</td>\n      <td>0.00</td>\n    </tr>\n    <tr>\n      <th>3</th>\n      <td>77598f7b-32e7-4e3b-a6e5-06ba0d98fe8a</td>\n      <td>e777faab-98ae-45af-9a86-7ce5b33b1011</td>\n      <td>Fully Paid</td>\n      <td>347666.00</td>\n      <td>Long Term</td>\n      <td>721.00</td>\n      <td>806949.00</td>\n      <td>3 years</td>\n      <td>Own Home</td>\n      <td>Debt Consolidation</td>\n      <td>8741.90</td>\n      <td>12.00</td>\n      <td>9.00</td>\n      <td>0.00</td>\n      <td>256329.00</td>\n      <td>386958.00</td>\n      <td>0.00</td>\n    </tr>\n    <tr>\n      <th>4</th>\n      <td>d4062e70-befa-4995-8643-a0de73938182</td>\n      <td>81536ad9-5ccf-4eb8-befb-47a4d608658e</td>\n      <td>Fully Paid</td>\n      <td>176220.00</td>\n      <td>Short Term</td>\n      <td>1076.46</td>\n      <td>1378276.56</td>\n      <td>5 years</td>\n      <td>Rent</td>\n      <td>Debt Consolidation</td>\n      <td>20639.70</td>\n      <td>6.10</td>\n      <td>15.00</td>\n      <td>0.00</td>\n      <td>253460.00</td>\n      <td>427174.00</td>\n      <td>0.00</td>\n    </tr>\n  </tbody>\n</table>\n</div>"
                    },
                    "metadata": {}
                }
            ]
        },
        {
            "metadata": {},
            "cell_type": "code",
            "source": "def top5_rows(data):\n    return data.head()",
            "execution_count": 35,
            "outputs": []
        },
        {
            "metadata": {},
            "cell_type": "code",
            "source": "def last5_rows(data):\n    return data.tail()",
            "execution_count": 36,
            "outputs": []
        },
        {
            "metadata": {},
            "cell_type": "code",
            "source": "last5_rows(df_data_1)",
            "execution_count": 37,
            "outputs": [
                {
                    "output_type": "execute_result",
                    "execution_count": 37,
                    "data": {
                        "text/plain": "                                     Loan ID  \\\n100509  00069ff1-a877-4d35-81be-7cd359b99956   \n100510  00069ff1-a877-4d35-81be-7cd359b99956   \n100511  00069ff1-a877-4d35-81be-7cd359b99956   \n100512  00069ff1-a877-4d35-81be-7cd359b99956   \n100513  00069ff1-a877-4d35-81be-7cd359b99956   \n\n                                 Customer ID Loan Status  Current Loan Amount  \\\n100509  000877d4-55ed-4126-abda-968f61da7b7f  Fully Paid          11760447.39   \n100510  000877d4-55ed-4126-abda-968f61da7b7f  Fully Paid          11760447.39   \n100511  000877d4-55ed-4126-abda-968f61da7b7f  Fully Paid          11760447.39   \n100512  000877d4-55ed-4126-abda-968f61da7b7f  Fully Paid          11760447.39   \n100513  000877d4-55ed-4126-abda-968f61da7b7f  Fully Paid          11760447.39   \n\n              Term  Credit Score  Annual Income Years in current job  \\\n100509  Short Term       1076.46     1378276.56            10+ years   \n100510  Short Term       1076.46     1378276.56            10+ years   \n100511  Short Term       1076.46     1378276.56            10+ years   \n100512  Short Term       1076.46     1378276.56            10+ years   \n100513  Short Term       1076.46     1378276.56            10+ years   \n\n       Home Ownership             Purpose  Monthly Debt  \\\n100509  Home Mortgage  Debt Consolidation      18472.41   \n100510  Home Mortgage  Debt Consolidation      18472.41   \n100511  Home Mortgage  Debt Consolidation      18472.41   \n100512  Home Mortgage  Debt Consolidation      18472.41   \n100513  Home Mortgage  Debt Consolidation      18472.41   \n\n        Years of Credit History  Number of Open Accounts  \\\n100509                    18.20                    11.13   \n100510                    18.20                    11.13   \n100511                    18.20                    11.13   \n100512                    18.20                    11.13   \n100513                    18.20                    11.13   \n\n        Number of Credit Problems  Current Credit Balance  \\\n100509                       0.17               294637.38   \n100510                       0.17               294637.38   \n100511                       0.17               294637.38   \n100512                       0.17               294637.38   \n100513                       0.17               294637.38   \n\n        Maximum Open Credit  Bankruptcies  \n100509            760798.38          0.12  \n100510            760798.38          0.12  \n100511            760798.38          0.12  \n100512            760798.38          0.12  \n100513            760798.38          0.12  ",
                        "text/html": "<div>\n<style scoped>\n    .dataframe tbody tr th:only-of-type {\n        vertical-align: middle;\n    }\n\n    .dataframe tbody tr th {\n        vertical-align: top;\n    }\n\n    .dataframe thead th {\n        text-align: right;\n    }\n</style>\n<table border=\"1\" class=\"dataframe\">\n  <thead>\n    <tr style=\"text-align: right;\">\n      <th></th>\n      <th>Loan ID</th>\n      <th>Customer ID</th>\n      <th>Loan Status</th>\n      <th>Current Loan Amount</th>\n      <th>Term</th>\n      <th>Credit Score</th>\n      <th>Annual Income</th>\n      <th>Years in current job</th>\n      <th>Home Ownership</th>\n      <th>Purpose</th>\n      <th>Monthly Debt</th>\n      <th>Years of Credit History</th>\n      <th>Number of Open Accounts</th>\n      <th>Number of Credit Problems</th>\n      <th>Current Credit Balance</th>\n      <th>Maximum Open Credit</th>\n      <th>Bankruptcies</th>\n    </tr>\n  </thead>\n  <tbody>\n    <tr>\n      <th>100509</th>\n      <td>00069ff1-a877-4d35-81be-7cd359b99956</td>\n      <td>000877d4-55ed-4126-abda-968f61da7b7f</td>\n      <td>Fully Paid</td>\n      <td>11760447.39</td>\n      <td>Short Term</td>\n      <td>1076.46</td>\n      <td>1378276.56</td>\n      <td>10+ years</td>\n      <td>Home Mortgage</td>\n      <td>Debt Consolidation</td>\n      <td>18472.41</td>\n      <td>18.20</td>\n      <td>11.13</td>\n      <td>0.17</td>\n      <td>294637.38</td>\n      <td>760798.38</td>\n      <td>0.12</td>\n    </tr>\n    <tr>\n      <th>100510</th>\n      <td>00069ff1-a877-4d35-81be-7cd359b99956</td>\n      <td>000877d4-55ed-4126-abda-968f61da7b7f</td>\n      <td>Fully Paid</td>\n      <td>11760447.39</td>\n      <td>Short Term</td>\n      <td>1076.46</td>\n      <td>1378276.56</td>\n      <td>10+ years</td>\n      <td>Home Mortgage</td>\n      <td>Debt Consolidation</td>\n      <td>18472.41</td>\n      <td>18.20</td>\n      <td>11.13</td>\n      <td>0.17</td>\n      <td>294637.38</td>\n      <td>760798.38</td>\n      <td>0.12</td>\n    </tr>\n    <tr>\n      <th>100511</th>\n      <td>00069ff1-a877-4d35-81be-7cd359b99956</td>\n      <td>000877d4-55ed-4126-abda-968f61da7b7f</td>\n      <td>Fully Paid</td>\n      <td>11760447.39</td>\n      <td>Short Term</td>\n      <td>1076.46</td>\n      <td>1378276.56</td>\n      <td>10+ years</td>\n      <td>Home Mortgage</td>\n      <td>Debt Consolidation</td>\n      <td>18472.41</td>\n      <td>18.20</td>\n      <td>11.13</td>\n      <td>0.17</td>\n      <td>294637.38</td>\n      <td>760798.38</td>\n      <td>0.12</td>\n    </tr>\n    <tr>\n      <th>100512</th>\n      <td>00069ff1-a877-4d35-81be-7cd359b99956</td>\n      <td>000877d4-55ed-4126-abda-968f61da7b7f</td>\n      <td>Fully Paid</td>\n      <td>11760447.39</td>\n      <td>Short Term</td>\n      <td>1076.46</td>\n      <td>1378276.56</td>\n      <td>10+ years</td>\n      <td>Home Mortgage</td>\n      <td>Debt Consolidation</td>\n      <td>18472.41</td>\n      <td>18.20</td>\n      <td>11.13</td>\n      <td>0.17</td>\n      <td>294637.38</td>\n      <td>760798.38</td>\n      <td>0.12</td>\n    </tr>\n    <tr>\n      <th>100513</th>\n      <td>00069ff1-a877-4d35-81be-7cd359b99956</td>\n      <td>000877d4-55ed-4126-abda-968f61da7b7f</td>\n      <td>Fully Paid</td>\n      <td>11760447.39</td>\n      <td>Short Term</td>\n      <td>1076.46</td>\n      <td>1378276.56</td>\n      <td>10+ years</td>\n      <td>Home Mortgage</td>\n      <td>Debt Consolidation</td>\n      <td>18472.41</td>\n      <td>18.20</td>\n      <td>11.13</td>\n      <td>0.17</td>\n      <td>294637.38</td>\n      <td>760798.38</td>\n      <td>0.12</td>\n    </tr>\n  </tbody>\n</table>\n</div>"
                    },
                    "metadata": {}
                }
            ]
        },
        {
            "metadata": {},
            "cell_type": "code",
            "source": "",
            "execution_count": null,
            "outputs": []
        }
    ],
    "metadata": {
        "kernelspec": {
            "name": "python3",
            "display_name": "Python 3.9",
            "language": "python"
        },
        "language_info": {
            "name": "python",
            "version": "3.9.7",
            "mimetype": "text/x-python",
            "codemirror_mode": {
                "name": "ipython",
                "version": 3
            },
            "pygments_lexer": "ipython3",
            "nbconvert_exporter": "python",
            "file_extension": ".py"
        }
    },
    "nbformat": 4,
    "nbformat_minor": 1
}