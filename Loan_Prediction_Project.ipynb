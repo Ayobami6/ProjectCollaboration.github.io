{
    "cells": [
        {
            "metadata": {},
            "cell_type": "markdown",
            "source": "# Loan Prediction"
        },
        {
            "metadata": {},
            "cell_type": "markdown",
            "source": "Project Objectives"
        },
        {
            "metadata": {},
            "cell_type": "markdown",
            "source": "1."
        },
        {
            "metadata": {},
            "cell_type": "code",
            "source": "import numpy as np \nimport matplotlib.pyplot as plt\nimport seaborn as sns",
            "execution_count": 12,
            "outputs": []
        },
        {
            "metadata": {},
            "cell_type": "code",
            "source": "\nimport os, types\nimport pandas as pd\nfrom botocore.client import Config\nimport ibm_boto3\n\ndef __iter__(self): return 0\n\n# @hidden_cell\n# The following code accesses a file in your IBM Cloud Object Storage. It includes your credentials.\n# You might want to remove those credentials before you share the notebook.\nclient_48666d84cd264f008ab8dadb68e43a71 = ibm_boto3.client(service_name='s3',\n    ibm_api_key_id='vSxsfEALoBcgRV8lsBODUn7UzKixGfxwpS8GlJk3pvWm',\n    ibm_auth_endpoint=\"https://iam.cloud.ibm.com/oidc/token\",\n    config=Config(signature_version='oauth'),\n    endpoint_url='https://s3.private.eu.cloud-object-storage.appdomain.cloud')\n\nbody = client_48666d84cd264f008ab8dadb68e43a71.get_object(Bucket='loanpredicionmlproject-donotdelete-pr-mkdib2fzxyyxjq',Key='credit_train.csv')['Body']\n# add missing __iter__ method, so pandas accepts body as file-like object\nif not hasattr(body, \"__iter__\"): body.__iter__ = types.MethodType( __iter__, body )\n\ndf_data_1 = pd.read_csv(body)\ndf_data_1.head()",
            "execution_count": 3,
            "outputs": [
                {
                    "output_type": "execute_result",
                    "execution_count": 3,
                    "data": {
                        "text/plain": "                                Loan ID                           Customer ID  \\\n0  14dd8831-6af5-400b-83ec-68e61888a048  981165ec-3274-42f5-a3b4-d104041a9ca9   \n1  4771cc26-131a-45db-b5aa-537ea4ba5342  2de017a3-2e01-49cb-a581-08169e83be29   \n2  4eed4e6a-aa2f-4c91-8651-ce984ee8fb26  5efb2b2b-bf11-4dfd-a572-3761a2694725   \n3  77598f7b-32e7-4e3b-a6e5-06ba0d98fe8a  e777faab-98ae-45af-9a86-7ce5b33b1011   \n4  d4062e70-befa-4995-8643-a0de73938182  81536ad9-5ccf-4eb8-befb-47a4d608658e   \n\n  Loan Status  Current Loan Amount        Term  Credit Score  Annual Income  \\\n0  Fully Paid             445412.0  Short Term         709.0      1167493.0   \n1  Fully Paid             262328.0  Short Term           NaN            NaN   \n2  Fully Paid           99999999.0  Short Term         741.0      2231892.0   \n3  Fully Paid             347666.0   Long Term         721.0       806949.0   \n4  Fully Paid             176220.0  Short Term           NaN            NaN   \n\n  Years in current job Home Ownership             Purpose  Monthly Debt  \\\n0              8 years  Home Mortgage   Home Improvements       5214.74   \n1            10+ years  Home Mortgage  Debt Consolidation      33295.98   \n2              8 years       Own Home  Debt Consolidation      29200.53   \n3              3 years       Own Home  Debt Consolidation       8741.90   \n4              5 years           Rent  Debt Consolidation      20639.70   \n\n   Years of Credit History  Months since last delinquent  \\\n0                     17.2                           NaN   \n1                     21.1                           8.0   \n2                     14.9                          29.0   \n3                     12.0                           NaN   \n4                      6.1                           NaN   \n\n   Number of Open Accounts  Number of Credit Problems  Current Credit Balance  \\\n0                      6.0                        1.0                228190.0   \n1                     35.0                        0.0                229976.0   \n2                     18.0                        1.0                297996.0   \n3                      9.0                        0.0                256329.0   \n4                     15.0                        0.0                253460.0   \n\n   Maximum Open Credit  Bankruptcies  Tax Liens  \n0             416746.0           1.0        0.0  \n1             850784.0           0.0        0.0  \n2             750090.0           0.0        0.0  \n3             386958.0           0.0        0.0  \n4             427174.0           0.0        0.0  ",
                        "text/html": "<div>\n<style scoped>\n    .dataframe tbody tr th:only-of-type {\n        vertical-align: middle;\n    }\n\n    .dataframe tbody tr th {\n        vertical-align: top;\n    }\n\n    .dataframe thead th {\n        text-align: right;\n    }\n</style>\n<table border=\"1\" class=\"dataframe\">\n  <thead>\n    <tr style=\"text-align: right;\">\n      <th></th>\n      <th>Loan ID</th>\n      <th>Customer ID</th>\n      <th>Loan Status</th>\n      <th>Current Loan Amount</th>\n      <th>Term</th>\n      <th>Credit Score</th>\n      <th>Annual Income</th>\n      <th>Years in current job</th>\n      <th>Home Ownership</th>\n      <th>Purpose</th>\n      <th>Monthly Debt</th>\n      <th>Years of Credit History</th>\n      <th>Months since last delinquent</th>\n      <th>Number of Open Accounts</th>\n      <th>Number of Credit Problems</th>\n      <th>Current Credit Balance</th>\n      <th>Maximum Open Credit</th>\n      <th>Bankruptcies</th>\n      <th>Tax Liens</th>\n    </tr>\n  </thead>\n  <tbody>\n    <tr>\n      <th>0</th>\n      <td>14dd8831-6af5-400b-83ec-68e61888a048</td>\n      <td>981165ec-3274-42f5-a3b4-d104041a9ca9</td>\n      <td>Fully Paid</td>\n      <td>445412.0</td>\n      <td>Short Term</td>\n      <td>709.0</td>\n      <td>1167493.0</td>\n      <td>8 years</td>\n      <td>Home Mortgage</td>\n      <td>Home Improvements</td>\n      <td>5214.74</td>\n      <td>17.2</td>\n      <td>NaN</td>\n      <td>6.0</td>\n      <td>1.0</td>\n      <td>228190.0</td>\n      <td>416746.0</td>\n      <td>1.0</td>\n      <td>0.0</td>\n    </tr>\n    <tr>\n      <th>1</th>\n      <td>4771cc26-131a-45db-b5aa-537ea4ba5342</td>\n      <td>2de017a3-2e01-49cb-a581-08169e83be29</td>\n      <td>Fully Paid</td>\n      <td>262328.0</td>\n      <td>Short Term</td>\n      <td>NaN</td>\n      <td>NaN</td>\n      <td>10+ years</td>\n      <td>Home Mortgage</td>\n      <td>Debt Consolidation</td>\n      <td>33295.98</td>\n      <td>21.1</td>\n      <td>8.0</td>\n      <td>35.0</td>\n      <td>0.0</td>\n      <td>229976.0</td>\n      <td>850784.0</td>\n      <td>0.0</td>\n      <td>0.0</td>\n    </tr>\n    <tr>\n      <th>2</th>\n      <td>4eed4e6a-aa2f-4c91-8651-ce984ee8fb26</td>\n      <td>5efb2b2b-bf11-4dfd-a572-3761a2694725</td>\n      <td>Fully Paid</td>\n      <td>99999999.0</td>\n      <td>Short Term</td>\n      <td>741.0</td>\n      <td>2231892.0</td>\n      <td>8 years</td>\n      <td>Own Home</td>\n      <td>Debt Consolidation</td>\n      <td>29200.53</td>\n      <td>14.9</td>\n      <td>29.0</td>\n      <td>18.0</td>\n      <td>1.0</td>\n      <td>297996.0</td>\n      <td>750090.0</td>\n      <td>0.0</td>\n      <td>0.0</td>\n    </tr>\n    <tr>\n      <th>3</th>\n      <td>77598f7b-32e7-4e3b-a6e5-06ba0d98fe8a</td>\n      <td>e777faab-98ae-45af-9a86-7ce5b33b1011</td>\n      <td>Fully Paid</td>\n      <td>347666.0</td>\n      <td>Long Term</td>\n      <td>721.0</td>\n      <td>806949.0</td>\n      <td>3 years</td>\n      <td>Own Home</td>\n      <td>Debt Consolidation</td>\n      <td>8741.90</td>\n      <td>12.0</td>\n      <td>NaN</td>\n      <td>9.0</td>\n      <td>0.0</td>\n      <td>256329.0</td>\n      <td>386958.0</td>\n      <td>0.0</td>\n      <td>0.0</td>\n    </tr>\n    <tr>\n      <th>4</th>\n      <td>d4062e70-befa-4995-8643-a0de73938182</td>\n      <td>81536ad9-5ccf-4eb8-befb-47a4d608658e</td>\n      <td>Fully Paid</td>\n      <td>176220.0</td>\n      <td>Short Term</td>\n      <td>NaN</td>\n      <td>NaN</td>\n      <td>5 years</td>\n      <td>Rent</td>\n      <td>Debt Consolidation</td>\n      <td>20639.70</td>\n      <td>6.1</td>\n      <td>NaN</td>\n      <td>15.0</td>\n      <td>0.0</td>\n      <td>253460.0</td>\n      <td>427174.0</td>\n      <td>0.0</td>\n      <td>0.0</td>\n    </tr>\n  </tbody>\n</table>\n</div>"
                    },
                    "metadata": {}
                }
            ]
        },
        {
            "metadata": {},
            "cell_type": "code",
            "source": "df_data_1.shape",
            "execution_count": 4,
            "outputs": [
                {
                    "output_type": "execute_result",
                    "execution_count": 4,
                    "data": {
                        "text/plain": "(100514, 19)"
                    },
                    "metadata": {}
                }
            ]
        },
        {
            "metadata": {},
            "cell_type": "code",
            "source": "m_v = df_data_1.isnull().sum()",
            "execution_count": 7,
            "outputs": []
        },
        {
            "metadata": {},
            "cell_type": "code",
            "source": "m_v",
            "execution_count": 8,
            "outputs": [
                {
                    "output_type": "execute_result",
                    "execution_count": 8,
                    "data": {
                        "text/plain": "Loan ID                           514\nCustomer ID                       514\nLoan Status                       514\nCurrent Loan Amount               514\nTerm                              514\nCredit Score                    19668\nAnnual Income                   19668\nYears in current job             4736\nHome Ownership                    514\nPurpose                           514\nMonthly Debt                      514\nYears of Credit History           514\nMonths since last delinquent    53655\nNumber of Open Accounts           514\nNumber of Credit Problems         514\nCurrent Credit Balance            514\nMaximum Open Credit               516\nBankruptcies                      718\nTax Liens                         524\ndtype: int64"
                    },
                    "metadata": {}
                }
            ]
        },
        {
            "metadata": {},
            "cell_type": "code",
            "source": "m_v.sum()",
            "execution_count": 9,
            "outputs": [
                {
                    "output_type": "execute_result",
                    "execution_count": 9,
                    "data": {
                        "text/plain": "105653"
                    },
                    "metadata": {}
                }
            ]
        },
        {
            "metadata": {},
            "cell_type": "code",
            "source": "n_n = df_data_1.notnull().sum()",
            "execution_count": 10,
            "outputs": []
        },
        {
            "metadata": {},
            "cell_type": "code",
            "source": "n_n",
            "execution_count": 11,
            "outputs": [
                {
                    "output_type": "execute_result",
                    "execution_count": 11,
                    "data": {
                        "text/plain": "Loan ID                         100000\nCustomer ID                     100000\nLoan Status                     100000\nCurrent Loan Amount             100000\nTerm                            100000\nCredit Score                     80846\nAnnual Income                    80846\nYears in current job             95778\nHome Ownership                  100000\nPurpose                         100000\nMonthly Debt                    100000\nYears of Credit History         100000\nMonths since last delinquent     46859\nNumber of Open Accounts         100000\nNumber of Credit Problems       100000\nCurrent Credit Balance          100000\nMaximum Open Credit              99998\nBankruptcies                     99796\nTax Liens                        99990\ndtype: int64"
                    },
                    "metadata": {}
                }
            ]
        },
        {
            "metadata": {},
            "cell_type": "code",
            "source": "n_n.sum()",
            "execution_count": 13,
            "outputs": [
                {
                    "output_type": "execute_result",
                    "execution_count": 13,
                    "data": {
                        "text/plain": "1804113"
                    },
                    "metadata": {}
                }
            ]
        },
        {
            "metadata": {},
            "cell_type": "code",
            "source": "",
            "execution_count": null,
            "outputs": []
        }
    ],
    "metadata": {
        "kernelspec": {
            "name": "python3",
            "display_name": "Python 3.9",
            "language": "python"
        },
        "language_info": {
            "name": "python",
            "version": "3.9.7",
            "mimetype": "text/x-python",
            "codemirror_mode": {
                "name": "ipython",
                "version": 3
            },
            "pygments_lexer": "ipython3",
            "nbconvert_exporter": "python",
            "file_extension": ".py"
        }
    },
    "nbformat": 4,
    "nbformat_minor": 1
}