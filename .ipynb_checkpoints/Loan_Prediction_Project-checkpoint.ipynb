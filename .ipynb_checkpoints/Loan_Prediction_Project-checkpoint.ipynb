{
  "cells": [
    {
      "cell_type": "markdown",
      "metadata": {
        "colab_type": "text",
        "id": "view-in-github"
      },
      "source": [
        "<a href=\"https://colab.research.google.com/github/Ayobami6/ProjectCollaboration.github.io/blob/corrections/Loan_Prediction_Project.ipynb\" target=\"_parent\"><img src=\"https://colab.research.google.com/assets/colab-badge.svg\" alt=\"Open In Colab\"/></a>"
      ]
    },
    {
      "cell_type": "markdown",
      "metadata": {
        "id": "ixFnDtgZzLWh"
      },
      "source": [
        "# Loan Prediction"
      ]
    },
    {
      "cell_type": "markdown",
      "metadata": {
        "id": "_xXtADqgzLXC"
      },
      "source": [
        "Project Objectives"
      ]
    },
    {
      "cell_type": "code",
      "execution_count": 1,
      "metadata": {
        "id": "kaUBjAKWix5R"
      },
      "outputs": [],
      "source": [
        "import MultiTrain"
      ]
    },
    {
      "cell_type": "markdown",
      "metadata": {
        "id": "cQTK1FGkizqS"
      },
      "source": [
        "## Importing Libraries"
      ]
    },
    {
      "cell_type": "code",
      "execution_count": 2,
      "metadata": {
        "id": "-lP5F7y_zLXL"
      },
      "outputs": [],
      "source": [
        "import pandas as pd \n",
        "import numpy as np \n",
        "import matplotlib.pyplot as plt\n",
        "import seaborn as sns"
      ]
    },
    {
      "cell_type": "code",
      "execution_count": null,
      "metadata": {
        "id": "6ql_bX85zLXX"
      },
      "outputs": [],
      "source": [
        "# Setting the all the to 2 decimal places\n",
        "pd.set_option(\"precision\", 2)\n",
        "pd.options.display.float_format = '{:.2f}'.format"
      ]
    },
    {
      "cell_type": "code",
      "execution_count": 3,
      "metadata": {
        "id": "E9UlKecVz9-n"
      },
      "outputs": [],
      "source": [
        "# Reading in the dataset from google sheet with the sheet id \n",
        "url_id = '1v7qBibZ-yO2CgGNZsUvJKoXeU8ppcA5j_XH9SoiwP5Q'\n",
        "df_data_1 = pd.read_csv(f'https://docs.google.com/spreadsheets/d/{url_id}/export?format=csv')"
      ]
    },
    {
      "cell_type": "code",
      "execution_count": 4,
      "metadata": {
        "colab": {
          "base_uri": "https://localhost:8080/",
          "height": 582
        },
        "id": "ynbj5cR1OgCn",
        "outputId": "9dbaf73c-e899-49e0-c14e-2d522e88a009"
      },
      "outputs": [
        {
          "data": {
            "text/html": [
              "<div>\n",
              "<style scoped>\n",
              "    .dataframe tbody tr th:only-of-type {\n",
              "        vertical-align: middle;\n",
              "    }\n",
              "\n",
              "    .dataframe tbody tr th {\n",
              "        vertical-align: top;\n",
              "    }\n",
              "\n",
              "    .dataframe thead th {\n",
              "        text-align: right;\n",
              "    }\n",
              "</style>\n",
              "<table border=\"1\" class=\"dataframe\">\n",
              "  <thead>\n",
              "    <tr style=\"text-align: right;\">\n",
              "      <th></th>\n",
              "      <th>Loan ID</th>\n",
              "      <th>Customer ID</th>\n",
              "      <th>Loan Status</th>\n",
              "      <th>Current Loan Amount</th>\n",
              "      <th>Term</th>\n",
              "      <th>Credit Score</th>\n",
              "      <th>Annual Income</th>\n",
              "      <th>Years in current job</th>\n",
              "      <th>Home Ownership</th>\n",
              "      <th>Purpose</th>\n",
              "      <th>Monthly Debt</th>\n",
              "      <th>Years of Credit History</th>\n",
              "      <th>Months since last delinquent</th>\n",
              "      <th>Number of Open Accounts</th>\n",
              "      <th>Number of Credit Problems</th>\n",
              "      <th>Current Credit Balance</th>\n",
              "      <th>Maximum Open Credit</th>\n",
              "      <th>Bankruptcies</th>\n",
              "      <th>Tax Liens</th>\n",
              "    </tr>\n",
              "  </thead>\n",
              "  <tbody>\n",
              "    <tr>\n",
              "      <th>0</th>\n",
              "      <td>14dd8831-6af5-400b-83ec-68e61888a048</td>\n",
              "      <td>981165ec-3274-42f5-a3b4-d104041a9ca9</td>\n",
              "      <td>Fully Paid</td>\n",
              "      <td>445412</td>\n",
              "      <td>Short Term</td>\n",
              "      <td>709.0</td>\n",
              "      <td>1167493.0</td>\n",
              "      <td>8 years</td>\n",
              "      <td>Home Mortgage</td>\n",
              "      <td>Home Improvements</td>\n",
              "      <td>5214.74</td>\n",
              "      <td>17.2</td>\n",
              "      <td>NaN</td>\n",
              "      <td>6</td>\n",
              "      <td>1</td>\n",
              "      <td>228190</td>\n",
              "      <td>416746.0</td>\n",
              "      <td>1.0</td>\n",
              "      <td>0.0</td>\n",
              "    </tr>\n",
              "    <tr>\n",
              "      <th>1</th>\n",
              "      <td>4771cc26-131a-45db-b5aa-537ea4ba5342</td>\n",
              "      <td>2de017a3-2e01-49cb-a581-08169e83be29</td>\n",
              "      <td>Fully Paid</td>\n",
              "      <td>262328</td>\n",
              "      <td>Short Term</td>\n",
              "      <td>NaN</td>\n",
              "      <td>NaN</td>\n",
              "      <td>10+ years</td>\n",
              "      <td>Home Mortgage</td>\n",
              "      <td>Debt Consolidation</td>\n",
              "      <td>33295.98</td>\n",
              "      <td>21.1</td>\n",
              "      <td>8.0</td>\n",
              "      <td>35</td>\n",
              "      <td>0</td>\n",
              "      <td>229976</td>\n",
              "      <td>850784.0</td>\n",
              "      <td>0.0</td>\n",
              "      <td>0.0</td>\n",
              "    </tr>\n",
              "    <tr>\n",
              "      <th>2</th>\n",
              "      <td>4eed4e6a-aa2f-4c91-8651-ce984ee8fb26</td>\n",
              "      <td>5efb2b2b-bf11-4dfd-a572-3761a2694725</td>\n",
              "      <td>Fully Paid</td>\n",
              "      <td>99999999</td>\n",
              "      <td>Short Term</td>\n",
              "      <td>741.0</td>\n",
              "      <td>2231892.0</td>\n",
              "      <td>8 years</td>\n",
              "      <td>Own Home</td>\n",
              "      <td>Debt Consolidation</td>\n",
              "      <td>29200.53</td>\n",
              "      <td>14.9</td>\n",
              "      <td>29.0</td>\n",
              "      <td>18</td>\n",
              "      <td>1</td>\n",
              "      <td>297996</td>\n",
              "      <td>750090.0</td>\n",
              "      <td>0.0</td>\n",
              "      <td>0.0</td>\n",
              "    </tr>\n",
              "    <tr>\n",
              "      <th>3</th>\n",
              "      <td>77598f7b-32e7-4e3b-a6e5-06ba0d98fe8a</td>\n",
              "      <td>e777faab-98ae-45af-9a86-7ce5b33b1011</td>\n",
              "      <td>Fully Paid</td>\n",
              "      <td>347666</td>\n",
              "      <td>Long Term</td>\n",
              "      <td>721.0</td>\n",
              "      <td>806949.0</td>\n",
              "      <td>3 years</td>\n",
              "      <td>Own Home</td>\n",
              "      <td>Debt Consolidation</td>\n",
              "      <td>8741.90</td>\n",
              "      <td>12.0</td>\n",
              "      <td>NaN</td>\n",
              "      <td>9</td>\n",
              "      <td>0</td>\n",
              "      <td>256329</td>\n",
              "      <td>386958.0</td>\n",
              "      <td>0.0</td>\n",
              "      <td>0.0</td>\n",
              "    </tr>\n",
              "    <tr>\n",
              "      <th>4</th>\n",
              "      <td>d4062e70-befa-4995-8643-a0de73938182</td>\n",
              "      <td>81536ad9-5ccf-4eb8-befb-47a4d608658e</td>\n",
              "      <td>Fully Paid</td>\n",
              "      <td>176220</td>\n",
              "      <td>Short Term</td>\n",
              "      <td>NaN</td>\n",
              "      <td>NaN</td>\n",
              "      <td>5 years</td>\n",
              "      <td>Rent</td>\n",
              "      <td>Debt Consolidation</td>\n",
              "      <td>20639.70</td>\n",
              "      <td>6.1</td>\n",
              "      <td>NaN</td>\n",
              "      <td>15</td>\n",
              "      <td>0</td>\n",
              "      <td>253460</td>\n",
              "      <td>427174.0</td>\n",
              "      <td>0.0</td>\n",
              "      <td>0.0</td>\n",
              "    </tr>\n",
              "  </tbody>\n",
              "</table>\n",
              "</div>"
            ],
            "text/plain": [
              "                                Loan ID                           Customer ID  \\\n",
              "0  14dd8831-6af5-400b-83ec-68e61888a048  981165ec-3274-42f5-a3b4-d104041a9ca9   \n",
              "1  4771cc26-131a-45db-b5aa-537ea4ba5342  2de017a3-2e01-49cb-a581-08169e83be29   \n",
              "2  4eed4e6a-aa2f-4c91-8651-ce984ee8fb26  5efb2b2b-bf11-4dfd-a572-3761a2694725   \n",
              "3  77598f7b-32e7-4e3b-a6e5-06ba0d98fe8a  e777faab-98ae-45af-9a86-7ce5b33b1011   \n",
              "4  d4062e70-befa-4995-8643-a0de73938182  81536ad9-5ccf-4eb8-befb-47a4d608658e   \n",
              "\n",
              "  Loan Status  Current Loan Amount        Term  Credit Score  Annual Income  \\\n",
              "0  Fully Paid               445412  Short Term         709.0      1167493.0   \n",
              "1  Fully Paid               262328  Short Term           NaN            NaN   \n",
              "2  Fully Paid             99999999  Short Term         741.0      2231892.0   \n",
              "3  Fully Paid               347666   Long Term         721.0       806949.0   \n",
              "4  Fully Paid               176220  Short Term           NaN            NaN   \n",
              "\n",
              "  Years in current job Home Ownership             Purpose  Monthly Debt  \\\n",
              "0              8 years  Home Mortgage   Home Improvements       5214.74   \n",
              "1            10+ years  Home Mortgage  Debt Consolidation      33295.98   \n",
              "2              8 years       Own Home  Debt Consolidation      29200.53   \n",
              "3              3 years       Own Home  Debt Consolidation       8741.90   \n",
              "4              5 years           Rent  Debt Consolidation      20639.70   \n",
              "\n",
              "   Years of Credit History  Months since last delinquent  \\\n",
              "0                     17.2                           NaN   \n",
              "1                     21.1                           8.0   \n",
              "2                     14.9                          29.0   \n",
              "3                     12.0                           NaN   \n",
              "4                      6.1                           NaN   \n",
              "\n",
              "   Number of Open Accounts  Number of Credit Problems  Current Credit Balance  \\\n",
              "0                        6                          1                  228190   \n",
              "1                       35                          0                  229976   \n",
              "2                       18                          1                  297996   \n",
              "3                        9                          0                  256329   \n",
              "4                       15                          0                  253460   \n",
              "\n",
              "   Maximum Open Credit  Bankruptcies  Tax Liens  \n",
              "0             416746.0           1.0        0.0  \n",
              "1             850784.0           0.0        0.0  \n",
              "2             750090.0           0.0        0.0  \n",
              "3             386958.0           0.0        0.0  \n",
              "4             427174.0           0.0        0.0  "
            ]
          },
          "execution_count": 4,
          "metadata": {},
          "output_type": "execute_result"
        }
      ],
      "source": [
        "df_data_1.head()"
      ]
    },
    {
      "cell_type": "markdown",
      "metadata": {
        "id": "-X2clmy5Jkqs"
      },
      "source": [
        "# Data Cleaning"
      ]
    },
    {
      "cell_type": "markdown",
      "metadata": {
        "id": "EEJGgiu01st1"
      },
      "source": []
    },
    {
      "cell_type": "code",
      "execution_count": 5,
      "metadata": {
        "colab": {
          "base_uri": "https://localhost:8080/"
        },
        "id": "XTKxKlCmzLXl",
        "outputId": "5e9d691d-912a-4a01-e9a9-5f095c2efcf9"
      },
      "outputs": [
        {
          "data": {
            "text/plain": [
              "(100000, 19)"
            ]
          },
          "execution_count": 5,
          "metadata": {},
          "output_type": "execute_result"
        }
      ],
      "source": [
        "df_data_1.shape"
      ]
    },
    {
      "cell_type": "markdown",
      "metadata": {
        "id": "w0avAdN3zLXq"
      },
      "source": [
        "Data Cleaning:\n",
        "Dealing with missing values "
      ]
    },
    {
      "cell_type": "code",
      "execution_count": 6,
      "metadata": {
        "id": "uTwXR7_YzLXt"
      },
      "outputs": [],
      "source": [
        "m_v = df_data_1.isnull().sum()"
      ]
    },
    {
      "cell_type": "code",
      "execution_count": 7,
      "metadata": {
        "colab": {
          "base_uri": "https://localhost:8080/"
        },
        "id": "JYZW26c_zLXw",
        "outputId": "848ef5c1-e40c-4cdb-e546-0f6f05777b3d"
      },
      "outputs": [
        {
          "data": {
            "text/plain": [
              "Loan ID                             0\n",
              "Customer ID                         0\n",
              "Loan Status                         0\n",
              "Current Loan Amount                 0\n",
              "Term                                0\n",
              "Credit Score                    19154\n",
              "Annual Income                   19154\n",
              "Years in current job             4222\n",
              "Home Ownership                      0\n",
              "Purpose                             0\n",
              "Monthly Debt                        0\n",
              "Years of Credit History             0\n",
              "Months since last delinquent    53141\n",
              "Number of Open Accounts             0\n",
              "Number of Credit Problems           0\n",
              "Current Credit Balance              0\n",
              "Maximum Open Credit                 2\n",
              "Bankruptcies                      204\n",
              "Tax Liens                          10\n",
              "dtype: int64"
            ]
          },
          "execution_count": 7,
          "metadata": {},
          "output_type": "execute_result"
        }
      ],
      "source": [
        "m_v"
      ]
    },
    {
      "cell_type": "code",
      "execution_count": 8,
      "metadata": {
        "colab": {
          "base_uri": "https://localhost:8080/"
        },
        "id": "EoFDlLvUzLX2",
        "outputId": "b5bce9b4-1169-44c2-ca2d-f78ae8bb9392"
      },
      "outputs": [
        {
          "data": {
            "text/plain": [
              "95887"
            ]
          },
          "execution_count": 8,
          "metadata": {},
          "output_type": "execute_result"
        }
      ],
      "source": [
        "# Checkimg the total number of nulls in the dataset\n",
        "m_v.sum()"
      ]
    },
    {
      "cell_type": "code",
      "execution_count": 9,
      "metadata": {
        "id": "h6klniN1zLX7"
      },
      "outputs": [],
      "source": [
        "n_n = df_data_1.notnull().sum()"
      ]
    },
    {
      "cell_type": "code",
      "execution_count": 10,
      "metadata": {
        "colab": {
          "base_uri": "https://localhost:8080/"
        },
        "id": "yJCI1zkzzLX_",
        "outputId": "1a3fe01a-5e82-41a2-e587-ef10df949c7a",
        "scrolled": true
      },
      "outputs": [
        {
          "data": {
            "text/plain": [
              "Loan ID                         100000\n",
              "Customer ID                     100000\n",
              "Loan Status                     100000\n",
              "Current Loan Amount             100000\n",
              "Term                            100000\n",
              "Credit Score                     80846\n",
              "Annual Income                    80846\n",
              "Years in current job             95778\n",
              "Home Ownership                  100000\n",
              "Purpose                         100000\n",
              "Monthly Debt                    100000\n",
              "Years of Credit History         100000\n",
              "Months since last delinquent     46859\n",
              "Number of Open Accounts         100000\n",
              "Number of Credit Problems       100000\n",
              "Current Credit Balance          100000\n",
              "Maximum Open Credit              99998\n",
              "Bankruptcies                     99796\n",
              "Tax Liens                        99990\n",
              "dtype: int64"
            ]
          },
          "execution_count": 10,
          "metadata": {},
          "output_type": "execute_result"
        }
      ],
      "source": [
        "n_n"
      ]
    },
    {
      "cell_type": "code",
      "execution_count": 11,
      "metadata": {
        "colab": {
          "base_uri": "https://localhost:8080/"
        },
        "id": "aelSkIDlzLYD",
        "outputId": "a324439a-00bf-4cd7-8e06-1c2286fdd617"
      },
      "outputs": [
        {
          "data": {
            "text/plain": [
              "1804113"
            ]
          },
          "execution_count": 11,
          "metadata": {},
          "output_type": "execute_result"
        }
      ],
      "source": [
        "# Checking for non nulls in the dataset\n",
        "n_n.sum()"
      ]
    },
    {
      "cell_type": "code",
      "execution_count": 12,
      "metadata": {
        "id": "ucrydS3jzLYG"
      },
      "outputs": [],
      "source": [
        "df_data_1.drop('Months since last delinquent', axis=1, inplace=True)"
      ]
    },
    {
      "cell_type": "code",
      "execution_count": 13,
      "metadata": {
        "colab": {
          "base_uri": "https://localhost:8080/"
        },
        "id": "VP_lyVCTzLYJ",
        "outputId": "9e5df41b-23c4-4f74-ff22-3794ac7a405e"
      },
      "outputs": [
        {
          "data": {
            "text/plain": [
              "Loan ID                      False\n",
              "Customer ID                  False\n",
              "Loan Status                  False\n",
              "Current Loan Amount          False\n",
              "Term                         False\n",
              "Credit Score                  True\n",
              "Annual Income                 True\n",
              "Years in current job          True\n",
              "Home Ownership               False\n",
              "Purpose                      False\n",
              "Monthly Debt                 False\n",
              "Years of Credit History      False\n",
              "Number of Open Accounts      False\n",
              "Number of Credit Problems    False\n",
              "Current Credit Balance       False\n",
              "Maximum Open Credit           True\n",
              "Bankruptcies                  True\n",
              "Tax Liens                     True\n",
              "dtype: bool"
            ]
          },
          "execution_count": 13,
          "metadata": {},
          "output_type": "execute_result"
        }
      ],
      "source": [
        "df_data_1.isnull().any()"
      ]
    },
    {
      "cell_type": "code",
      "execution_count": 14,
      "metadata": {
        "colab": {
          "base_uri": "https://localhost:8080/"
        },
        "id": "2mKfrNCezLYM",
        "outputId": "0cc483f1-7e3a-45b8-c8db-10bda7334918"
      },
      "outputs": [
        {
          "data": {
            "text/plain": [
              "Loan ID                       object\n",
              "Customer ID                   object\n",
              "Loan Status                   object\n",
              "Current Loan Amount            int64\n",
              "Term                          object\n",
              "Credit Score                 float64\n",
              "Annual Income                float64\n",
              "Years in current job          object\n",
              "Home Ownership                object\n",
              "Purpose                       object\n",
              "Monthly Debt                 float64\n",
              "Years of Credit History      float64\n",
              "Number of Open Accounts        int64\n",
              "Number of Credit Problems      int64\n",
              "Current Credit Balance         int64\n",
              "Maximum Open Credit          float64\n",
              "Bankruptcies                 float64\n",
              "Tax Liens                    float64\n",
              "dtype: object"
            ]
          },
          "execution_count": 14,
          "metadata": {},
          "output_type": "execute_result"
        }
      ],
      "source": [
        "df_data_1.dtypes"
      ]
    },
    {
      "cell_type": "code",
      "execution_count": 15,
      "metadata": {
        "id": "FDvBpYTZzLYO"
      },
      "outputs": [],
      "source": [
        "Average_Credit_score = round(df_data_1['Credit Score'].mean(), 2)"
      ]
    },
    {
      "cell_type": "code",
      "execution_count": 16,
      "metadata": {
        "colab": {
          "base_uri": "https://localhost:8080/"
        },
        "id": "muNFvBIpzLYS",
        "outputId": "acb0f2b2-281a-4293-e62c-ab13acf60993"
      },
      "outputs": [
        {
          "data": {
            "text/plain": [
              "1076.46"
            ]
          },
          "execution_count": 16,
          "metadata": {},
          "output_type": "execute_result"
        }
      ],
      "source": [
        "Average_Credit_score"
      ]
    },
    {
      "cell_type": "code",
      "execution_count": 17,
      "metadata": {
        "id": "HWU3XH00zLYU"
      },
      "outputs": [],
      "source": [
        "df_data_1['Credit Score'].fillna(Average_Credit_score, inplace=True)"
      ]
    },
    {
      "cell_type": "code",
      "execution_count": 18,
      "metadata": {
        "colab": {
          "base_uri": "https://localhost:8080/"
        },
        "id": "bEFNtl9azLYX",
        "outputId": "53019ce1-e12d-4b86-fc86-fb81eecbed3b"
      },
      "outputs": [
        {
          "data": {
            "text/plain": [
              "Loan ID                          0\n",
              "Customer ID                      0\n",
              "Loan Status                      0\n",
              "Current Loan Amount              0\n",
              "Term                             0\n",
              "Credit Score                     0\n",
              "Annual Income                19154\n",
              "Years in current job          4222\n",
              "Home Ownership                   0\n",
              "Purpose                          0\n",
              "Monthly Debt                     0\n",
              "Years of Credit History          0\n",
              "Number of Open Accounts          0\n",
              "Number of Credit Problems        0\n",
              "Current Credit Balance           0\n",
              "Maximum Open Credit              2\n",
              "Bankruptcies                   204\n",
              "Tax Liens                       10\n",
              "dtype: int64"
            ]
          },
          "execution_count": 18,
          "metadata": {},
          "output_type": "execute_result"
        }
      ],
      "source": [
        "df_data_1.isnull().sum()"
      ]
    },
    {
      "cell_type": "code",
      "execution_count": 19,
      "metadata": {
        "id": "9bz0lKavzLYZ"
      },
      "outputs": [],
      "source": [
        "# Creating an automation code to fill the null values for columns with float datatypes with their corresponding mean\n",
        "for i in df_data_1.columns:\n",
        "    if df_data_1[i].isnull().any()==True and df_data_1[i].dtypes=='float64':\n",
        "        df_data_1[i].fillna(df_data_1[i].mean(), inplace=True)\n",
        "        "
      ]
    },
    {
      "cell_type": "code",
      "execution_count": 20,
      "metadata": {
        "colab": {
          "base_uri": "https://localhost:8080/"
        },
        "id": "cjf5HUEwzLYb",
        "outputId": "8e73134d-9074-4a85-af1d-100706f761d7"
      },
      "outputs": [
        {
          "data": {
            "text/plain": [
              "Loan ID                         0\n",
              "Customer ID                     0\n",
              "Loan Status                     0\n",
              "Current Loan Amount             0\n",
              "Term                            0\n",
              "Credit Score                    0\n",
              "Annual Income                   0\n",
              "Years in current job         4222\n",
              "Home Ownership                  0\n",
              "Purpose                         0\n",
              "Monthly Debt                    0\n",
              "Years of Credit History         0\n",
              "Number of Open Accounts         0\n",
              "Number of Credit Problems       0\n",
              "Current Credit Balance          0\n",
              "Maximum Open Credit             0\n",
              "Bankruptcies                    0\n",
              "Tax Liens                       0\n",
              "dtype: int64"
            ]
          },
          "execution_count": 20,
          "metadata": {},
          "output_type": "execute_result"
        }
      ],
      "source": [
        "df_data_1.isnull().sum()"
      ]
    },
    {
      "cell_type": "code",
      "execution_count": 21,
      "metadata": {
        "id": "V2BIG9IAzLYe"
      },
      "outputs": [],
      "source": [
        "# Creating an automation code to fill the null values for columns with object datatypes with their corresponding mode\n",
        "for i in df_data_1.columns:\n",
        "    if df_data_1[i].isnull().any()==True and df_data_1[i].dtypes=='object':\n",
        "        df_data_1[i].fillna(df_data_1[i].mode()[0], inplace=True)"
      ]
    },
    {
      "cell_type": "code",
      "execution_count": 22,
      "metadata": {
        "colab": {
          "base_uri": "https://localhost:8080/"
        },
        "id": "so2AmqhWzLYg",
        "outputId": "b43445e3-267c-440f-b1cd-b2aaab44a620"
      },
      "outputs": [
        {
          "data": {
            "text/plain": [
              "Loan ID                      0\n",
              "Customer ID                  0\n",
              "Loan Status                  0\n",
              "Current Loan Amount          0\n",
              "Term                         0\n",
              "Credit Score                 0\n",
              "Annual Income                0\n",
              "Years in current job         0\n",
              "Home Ownership               0\n",
              "Purpose                      0\n",
              "Monthly Debt                 0\n",
              "Years of Credit History      0\n",
              "Number of Open Accounts      0\n",
              "Number of Credit Problems    0\n",
              "Current Credit Balance       0\n",
              "Maximum Open Credit          0\n",
              "Bankruptcies                 0\n",
              "Tax Liens                    0\n",
              "dtype: int64"
            ]
          },
          "execution_count": 22,
          "metadata": {},
          "output_type": "execute_result"
        }
      ],
      "source": [
        "# Checking for nulls in the dataset\n",
        "df_data_1.isnull().sum()"
      ]
    },
    {
      "cell_type": "code",
      "execution_count": 23,
      "metadata": {
        "colab": {
          "base_uri": "https://localhost:8080/",
          "height": 582
        },
        "id": "YY6sHMkczLYj",
        "outputId": "51549634-29b5-467f-d81f-0142600be4dc"
      },
      "outputs": [
        {
          "data": {
            "text/html": [
              "<div>\n",
              "<style scoped>\n",
              "    .dataframe tbody tr th:only-of-type {\n",
              "        vertical-align: middle;\n",
              "    }\n",
              "\n",
              "    .dataframe tbody tr th {\n",
              "        vertical-align: top;\n",
              "    }\n",
              "\n",
              "    .dataframe thead th {\n",
              "        text-align: right;\n",
              "    }\n",
              "</style>\n",
              "<table border=\"1\" class=\"dataframe\">\n",
              "  <thead>\n",
              "    <tr style=\"text-align: right;\">\n",
              "      <th></th>\n",
              "      <th>Loan ID</th>\n",
              "      <th>Customer ID</th>\n",
              "      <th>Loan Status</th>\n",
              "      <th>Current Loan Amount</th>\n",
              "      <th>Term</th>\n",
              "      <th>Credit Score</th>\n",
              "      <th>Annual Income</th>\n",
              "      <th>Years in current job</th>\n",
              "      <th>Home Ownership</th>\n",
              "      <th>Purpose</th>\n",
              "      <th>Monthly Debt</th>\n",
              "      <th>Years of Credit History</th>\n",
              "      <th>Number of Open Accounts</th>\n",
              "      <th>Number of Credit Problems</th>\n",
              "      <th>Current Credit Balance</th>\n",
              "      <th>Maximum Open Credit</th>\n",
              "      <th>Bankruptcies</th>\n",
              "      <th>Tax Liens</th>\n",
              "    </tr>\n",
              "  </thead>\n",
              "  <tbody>\n",
              "    <tr>\n",
              "      <th>0</th>\n",
              "      <td>14dd8831-6af5-400b-83ec-68e61888a048</td>\n",
              "      <td>981165ec-3274-42f5-a3b4-d104041a9ca9</td>\n",
              "      <td>Fully Paid</td>\n",
              "      <td>445412</td>\n",
              "      <td>Short Term</td>\n",
              "      <td>709.00</td>\n",
              "      <td>1.167493e+06</td>\n",
              "      <td>8 years</td>\n",
              "      <td>Home Mortgage</td>\n",
              "      <td>Home Improvements</td>\n",
              "      <td>5214.74</td>\n",
              "      <td>17.2</td>\n",
              "      <td>6</td>\n",
              "      <td>1</td>\n",
              "      <td>228190</td>\n",
              "      <td>416746.0</td>\n",
              "      <td>1.0</td>\n",
              "      <td>0.0</td>\n",
              "    </tr>\n",
              "    <tr>\n",
              "      <th>1</th>\n",
              "      <td>4771cc26-131a-45db-b5aa-537ea4ba5342</td>\n",
              "      <td>2de017a3-2e01-49cb-a581-08169e83be29</td>\n",
              "      <td>Fully Paid</td>\n",
              "      <td>262328</td>\n",
              "      <td>Short Term</td>\n",
              "      <td>1076.46</td>\n",
              "      <td>1.378277e+06</td>\n",
              "      <td>10+ years</td>\n",
              "      <td>Home Mortgage</td>\n",
              "      <td>Debt Consolidation</td>\n",
              "      <td>33295.98</td>\n",
              "      <td>21.1</td>\n",
              "      <td>35</td>\n",
              "      <td>0</td>\n",
              "      <td>229976</td>\n",
              "      <td>850784.0</td>\n",
              "      <td>0.0</td>\n",
              "      <td>0.0</td>\n",
              "    </tr>\n",
              "    <tr>\n",
              "      <th>2</th>\n",
              "      <td>4eed4e6a-aa2f-4c91-8651-ce984ee8fb26</td>\n",
              "      <td>5efb2b2b-bf11-4dfd-a572-3761a2694725</td>\n",
              "      <td>Fully Paid</td>\n",
              "      <td>99999999</td>\n",
              "      <td>Short Term</td>\n",
              "      <td>741.00</td>\n",
              "      <td>2.231892e+06</td>\n",
              "      <td>8 years</td>\n",
              "      <td>Own Home</td>\n",
              "      <td>Debt Consolidation</td>\n",
              "      <td>29200.53</td>\n",
              "      <td>14.9</td>\n",
              "      <td>18</td>\n",
              "      <td>1</td>\n",
              "      <td>297996</td>\n",
              "      <td>750090.0</td>\n",
              "      <td>0.0</td>\n",
              "      <td>0.0</td>\n",
              "    </tr>\n",
              "    <tr>\n",
              "      <th>3</th>\n",
              "      <td>77598f7b-32e7-4e3b-a6e5-06ba0d98fe8a</td>\n",
              "      <td>e777faab-98ae-45af-9a86-7ce5b33b1011</td>\n",
              "      <td>Fully Paid</td>\n",
              "      <td>347666</td>\n",
              "      <td>Long Term</td>\n",
              "      <td>721.00</td>\n",
              "      <td>8.069490e+05</td>\n",
              "      <td>3 years</td>\n",
              "      <td>Own Home</td>\n",
              "      <td>Debt Consolidation</td>\n",
              "      <td>8741.90</td>\n",
              "      <td>12.0</td>\n",
              "      <td>9</td>\n",
              "      <td>0</td>\n",
              "      <td>256329</td>\n",
              "      <td>386958.0</td>\n",
              "      <td>0.0</td>\n",
              "      <td>0.0</td>\n",
              "    </tr>\n",
              "    <tr>\n",
              "      <th>4</th>\n",
              "      <td>d4062e70-befa-4995-8643-a0de73938182</td>\n",
              "      <td>81536ad9-5ccf-4eb8-befb-47a4d608658e</td>\n",
              "      <td>Fully Paid</td>\n",
              "      <td>176220</td>\n",
              "      <td>Short Term</td>\n",
              "      <td>1076.46</td>\n",
              "      <td>1.378277e+06</td>\n",
              "      <td>5 years</td>\n",
              "      <td>Rent</td>\n",
              "      <td>Debt Consolidation</td>\n",
              "      <td>20639.70</td>\n",
              "      <td>6.1</td>\n",
              "      <td>15</td>\n",
              "      <td>0</td>\n",
              "      <td>253460</td>\n",
              "      <td>427174.0</td>\n",
              "      <td>0.0</td>\n",
              "      <td>0.0</td>\n",
              "    </tr>\n",
              "  </tbody>\n",
              "</table>\n",
              "</div>"
            ],
            "text/plain": [
              "                                Loan ID                           Customer ID  \\\n",
              "0  14dd8831-6af5-400b-83ec-68e61888a048  981165ec-3274-42f5-a3b4-d104041a9ca9   \n",
              "1  4771cc26-131a-45db-b5aa-537ea4ba5342  2de017a3-2e01-49cb-a581-08169e83be29   \n",
              "2  4eed4e6a-aa2f-4c91-8651-ce984ee8fb26  5efb2b2b-bf11-4dfd-a572-3761a2694725   \n",
              "3  77598f7b-32e7-4e3b-a6e5-06ba0d98fe8a  e777faab-98ae-45af-9a86-7ce5b33b1011   \n",
              "4  d4062e70-befa-4995-8643-a0de73938182  81536ad9-5ccf-4eb8-befb-47a4d608658e   \n",
              "\n",
              "  Loan Status  Current Loan Amount        Term  Credit Score  Annual Income  \\\n",
              "0  Fully Paid               445412  Short Term        709.00   1.167493e+06   \n",
              "1  Fully Paid               262328  Short Term       1076.46   1.378277e+06   \n",
              "2  Fully Paid             99999999  Short Term        741.00   2.231892e+06   \n",
              "3  Fully Paid               347666   Long Term        721.00   8.069490e+05   \n",
              "4  Fully Paid               176220  Short Term       1076.46   1.378277e+06   \n",
              "\n",
              "  Years in current job Home Ownership             Purpose  Monthly Debt  \\\n",
              "0              8 years  Home Mortgage   Home Improvements       5214.74   \n",
              "1            10+ years  Home Mortgage  Debt Consolidation      33295.98   \n",
              "2              8 years       Own Home  Debt Consolidation      29200.53   \n",
              "3              3 years       Own Home  Debt Consolidation       8741.90   \n",
              "4              5 years           Rent  Debt Consolidation      20639.70   \n",
              "\n",
              "   Years of Credit History  Number of Open Accounts  \\\n",
              "0                     17.2                        6   \n",
              "1                     21.1                       35   \n",
              "2                     14.9                       18   \n",
              "3                     12.0                        9   \n",
              "4                      6.1                       15   \n",
              "\n",
              "   Number of Credit Problems  Current Credit Balance  Maximum Open Credit  \\\n",
              "0                          1                  228190             416746.0   \n",
              "1                          0                  229976             850784.0   \n",
              "2                          1                  297996             750090.0   \n",
              "3                          0                  256329             386958.0   \n",
              "4                          0                  253460             427174.0   \n",
              "\n",
              "   Bankruptcies  Tax Liens  \n",
              "0           1.0        0.0  \n",
              "1           0.0        0.0  \n",
              "2           0.0        0.0  \n",
              "3           0.0        0.0  \n",
              "4           0.0        0.0  "
            ]
          },
          "execution_count": 23,
          "metadata": {},
          "output_type": "execute_result"
        }
      ],
      "source": [
        "df_data_1.head()"
      ]
    },
    {
      "cell_type": "code",
      "execution_count": 24,
      "metadata": {
        "colab": {
          "base_uri": "https://localhost:8080/",
          "height": 379
        },
        "id": "CB_B7CwjzLYl",
        "outputId": "d60a83d8-8e7a-47ec-c95c-e3dd4d7dc49e"
      },
      "outputs": [
        {
          "data": {
            "text/html": [
              "<div>\n",
              "<style scoped>\n",
              "    .dataframe tbody tr th:only-of-type {\n",
              "        vertical-align: middle;\n",
              "    }\n",
              "\n",
              "    .dataframe tbody tr th {\n",
              "        vertical-align: top;\n",
              "    }\n",
              "\n",
              "    .dataframe thead th {\n",
              "        text-align: right;\n",
              "    }\n",
              "</style>\n",
              "<table border=\"1\" class=\"dataframe\">\n",
              "  <thead>\n",
              "    <tr style=\"text-align: right;\">\n",
              "      <th></th>\n",
              "      <th>Current Loan Amount</th>\n",
              "      <th>Credit Score</th>\n",
              "      <th>Annual Income</th>\n",
              "      <th>Monthly Debt</th>\n",
              "      <th>Years of Credit History</th>\n",
              "      <th>Number of Open Accounts</th>\n",
              "      <th>Number of Credit Problems</th>\n",
              "      <th>Current Credit Balance</th>\n",
              "      <th>Maximum Open Credit</th>\n",
              "      <th>Bankruptcies</th>\n",
              "      <th>Tax Liens</th>\n",
              "    </tr>\n",
              "  </thead>\n",
              "  <tbody>\n",
              "    <tr>\n",
              "      <th>count</th>\n",
              "      <td>1.000000e+05</td>\n",
              "      <td>100000.000000</td>\n",
              "      <td>1.000000e+05</td>\n",
              "      <td>100000.000000</td>\n",
              "      <td>100000.000000</td>\n",
              "      <td>100000.00000</td>\n",
              "      <td>100000.000000</td>\n",
              "      <td>1.000000e+05</td>\n",
              "      <td>1.000000e+05</td>\n",
              "      <td>100000.000000</td>\n",
              "      <td>100000.000000</td>\n",
              "    </tr>\n",
              "    <tr>\n",
              "      <th>mean</th>\n",
              "      <td>1.176045e+07</td>\n",
              "      <td>1076.456838</td>\n",
              "      <td>1.378277e+06</td>\n",
              "      <td>18472.412336</td>\n",
              "      <td>18.199141</td>\n",
              "      <td>11.12853</td>\n",
              "      <td>0.168310</td>\n",
              "      <td>2.946374e+05</td>\n",
              "      <td>7.607984e+05</td>\n",
              "      <td>0.117740</td>\n",
              "      <td>0.029313</td>\n",
              "    </tr>\n",
              "    <tr>\n",
              "      <th>std</th>\n",
              "      <td>3.178394e+07</td>\n",
              "      <td>1326.598950</td>\n",
              "      <td>9.722974e+05</td>\n",
              "      <td>12174.992609</td>\n",
              "      <td>7.015324</td>\n",
              "      <td>5.00987</td>\n",
              "      <td>0.482705</td>\n",
              "      <td>3.761709e+05</td>\n",
              "      <td>8.384420e+06</td>\n",
              "      <td>0.351065</td>\n",
              "      <td>0.258170</td>\n",
              "    </tr>\n",
              "    <tr>\n",
              "      <th>min</th>\n",
              "      <td>1.080200e+04</td>\n",
              "      <td>585.000000</td>\n",
              "      <td>7.662700e+04</td>\n",
              "      <td>0.000000</td>\n",
              "      <td>3.600000</td>\n",
              "      <td>0.00000</td>\n",
              "      <td>0.000000</td>\n",
              "      <td>0.000000e+00</td>\n",
              "      <td>0.000000e+00</td>\n",
              "      <td>0.000000</td>\n",
              "      <td>0.000000</td>\n",
              "    </tr>\n",
              "    <tr>\n",
              "      <th>25%</th>\n",
              "      <td>1.796520e+05</td>\n",
              "      <td>711.000000</td>\n",
              "      <td>9.311805e+05</td>\n",
              "      <td>10214.162500</td>\n",
              "      <td>13.500000</td>\n",
              "      <td>8.00000</td>\n",
              "      <td>0.000000</td>\n",
              "      <td>1.126700e+05</td>\n",
              "      <td>2.734380e+05</td>\n",
              "      <td>0.000000</td>\n",
              "      <td>0.000000</td>\n",
              "    </tr>\n",
              "    <tr>\n",
              "      <th>50%</th>\n",
              "      <td>3.122460e+05</td>\n",
              "      <td>733.000000</td>\n",
              "      <td>1.369919e+06</td>\n",
              "      <td>16220.300000</td>\n",
              "      <td>16.900000</td>\n",
              "      <td>10.00000</td>\n",
              "      <td>0.000000</td>\n",
              "      <td>2.098170e+05</td>\n",
              "      <td>4.678850e+05</td>\n",
              "      <td>0.000000</td>\n",
              "      <td>0.000000</td>\n",
              "    </tr>\n",
              "    <tr>\n",
              "      <th>75%</th>\n",
              "      <td>5.249420e+05</td>\n",
              "      <td>750.000000</td>\n",
              "      <td>1.512704e+06</td>\n",
              "      <td>24012.057500</td>\n",
              "      <td>21.700000</td>\n",
              "      <td>14.00000</td>\n",
              "      <td>0.000000</td>\n",
              "      <td>3.679588e+05</td>\n",
              "      <td>7.829580e+05</td>\n",
              "      <td>0.000000</td>\n",
              "      <td>0.000000</td>\n",
              "    </tr>\n",
              "    <tr>\n",
              "      <th>max</th>\n",
              "      <td>1.000000e+08</td>\n",
              "      <td>7510.000000</td>\n",
              "      <td>1.655574e+08</td>\n",
              "      <td>435843.280000</td>\n",
              "      <td>70.500000</td>\n",
              "      <td>76.00000</td>\n",
              "      <td>15.000000</td>\n",
              "      <td>3.287897e+07</td>\n",
              "      <td>1.539738e+09</td>\n",
              "      <td>7.000000</td>\n",
              "      <td>15.000000</td>\n",
              "    </tr>\n",
              "  </tbody>\n",
              "</table>\n",
              "</div>"
            ],
            "text/plain": [
              "       Current Loan Amount   Credit Score  Annual Income   Monthly Debt  \\\n",
              "count         1.000000e+05  100000.000000   1.000000e+05  100000.000000   \n",
              "mean          1.176045e+07    1076.456838   1.378277e+06   18472.412336   \n",
              "std           3.178394e+07    1326.598950   9.722974e+05   12174.992609   \n",
              "min           1.080200e+04     585.000000   7.662700e+04       0.000000   \n",
              "25%           1.796520e+05     711.000000   9.311805e+05   10214.162500   \n",
              "50%           3.122460e+05     733.000000   1.369919e+06   16220.300000   \n",
              "75%           5.249420e+05     750.000000   1.512704e+06   24012.057500   \n",
              "max           1.000000e+08    7510.000000   1.655574e+08  435843.280000   \n",
              "\n",
              "       Years of Credit History  Number of Open Accounts  \\\n",
              "count            100000.000000             100000.00000   \n",
              "mean                 18.199141                 11.12853   \n",
              "std                   7.015324                  5.00987   \n",
              "min                   3.600000                  0.00000   \n",
              "25%                  13.500000                  8.00000   \n",
              "50%                  16.900000                 10.00000   \n",
              "75%                  21.700000                 14.00000   \n",
              "max                  70.500000                 76.00000   \n",
              "\n",
              "       Number of Credit Problems  Current Credit Balance  Maximum Open Credit  \\\n",
              "count              100000.000000            1.000000e+05         1.000000e+05   \n",
              "mean                    0.168310            2.946374e+05         7.607984e+05   \n",
              "std                     0.482705            3.761709e+05         8.384420e+06   \n",
              "min                     0.000000            0.000000e+00         0.000000e+00   \n",
              "25%                     0.000000            1.126700e+05         2.734380e+05   \n",
              "50%                     0.000000            2.098170e+05         4.678850e+05   \n",
              "75%                     0.000000            3.679588e+05         7.829580e+05   \n",
              "max                    15.000000            3.287897e+07         1.539738e+09   \n",
              "\n",
              "        Bankruptcies      Tax Liens  \n",
              "count  100000.000000  100000.000000  \n",
              "mean        0.117740       0.029313  \n",
              "std         0.351065       0.258170  \n",
              "min         0.000000       0.000000  \n",
              "25%         0.000000       0.000000  \n",
              "50%         0.000000       0.000000  \n",
              "75%         0.000000       0.000000  \n",
              "max         7.000000      15.000000  "
            ]
          },
          "execution_count": 24,
          "metadata": {},
          "output_type": "execute_result"
        }
      ],
      "source": [
        "# Getting a peap at the summary statistics of the dataset\n",
        "df_data_1.describe()"
      ]
    },
    {
      "cell_type": "markdown",
      "metadata": {
        "id": "f4s8FR3MzLYn"
      },
      "source": [
        "Data Visualization for more insights on the data"
      ]
    },
    {
      "cell_type": "code",
      "execution_count": 25,
      "metadata": {
        "colab": {
          "base_uri": "https://localhost:8080/",
          "height": 283
        },
        "id": "9WldxA7gzLYo",
        "outputId": "be620371-be1f-4f1b-94f7-476c14ccfa0b",
        "scrolled": true
      },
      "outputs": [
        {
          "data": {
            "image/png": "[encoded data removed]",
            "text/plain": [
              "<Figure size 432x288 with 2 Axes>"
            ]
          },
          "metadata": {
            "needs_background": "light"
          },
          "output_type": "display_data"
        },
        {
          "data": {
            "text/plain": [
              "<Figure size 720x288 with 0 Axes>"
            ]
          },
          "metadata": {},
          "output_type": "display_data"
        }
      ],
      "source": [
        "fig, axes = plt.subplots(2, 1)\n",
        "plt.figure(figsize=(10,4))\n",
        "df_data_1.boxplot(column='Credit Score', ax=axes[0])\n",
        "df_data_1.boxplot(column='Tax Liens', ax=axes[1]);"
      ]
    },
    {
      "cell_type": "code",
      "execution_count": 26,
      "metadata": {
        "colab": {
          "base_uri": "https://localhost:8080/",
          "height": 283
        },
        "id": "LdmKmMRSpK6d",
        "outputId": "f0dbe8f9-db5f-418b-bca1-29a87499872f"
      },
      "outputs": [
        {
          "data": {
            "image/png": "[encoded data removed]",
            "text/plain": [
              "<Figure size 432x288 with 2 Axes>"
            ]
          },
          "metadata": {
            "needs_background": "light"
          },
          "output_type": "display_data"
        },
        {
          "data": {
            "text/plain": [
              "<Figure size 1080x720 with 0 Axes>"
            ]
          },
          "metadata": {},
          "output_type": "display_data"
        }
      ],
      "source": [
        "fig, ax = plt.subplots(2, 1)\n",
        "plt.figure(figsize=(15, 10))\n",
        "ax[0].boxplot(df_data_1['Tax Liens'])\n",
        "ax[1].boxplot(df_data_1['Credit Score']);\n",
        "plt.show()"
      ]
    },
    {
      "cell_type": "code",
      "execution_count": 27,
      "metadata": {
        "colab": {
          "base_uri": "https://localhost:8080/",
          "height": 250
        },
        "id": "yBaIh-aMzLYq",
        "outputId": "bb78080a-c904-4b5d-ff67-20f9ac1d6a48"
      },
      "outputs": [
        {
          "data": {
            "image/png": "[encoded data removed]",
            "text/plain": [
              "<Figure size 432x288 with 1 Axes>"
            ]
          },
          "metadata": {},
          "output_type": "display_data"
        }
      ],
      "source": [
        "sns.set(style='whitegrid')\n",
        "ax =sns.boxplot(y=df_data_1['Current Loan Amount'])\n",
        "ax.set_yscale('log');"
      ]
    },
    {
      "cell_type": "code",
      "execution_count": 28,
      "metadata": {
        "colab": {
          "base_uri": "https://localhost:8080/"
        },
        "id": "J6EKCj_RzLYt",
        "outputId": "f0745d79-e436-4132-fc2e-c2fd2235a72c"
      },
      "outputs": [
        {
          "name": "stdout",
          "output_type": "stream",
          "text": [
            "(array([    1,     4,     5, ..., 99988, 99989, 99992]),)\n"
          ]
        }
      ],
      "source": [
        "# Checking the credit score is greater that 750 \n",
        "print(np.where(df_data_1['Credit Score'] > 750))"
      ]
    },
    {
      "cell_type": "code",
      "execution_count": 29,
      "metadata": {
        "colab": {
          "base_uri": "https://localhost:8080/",
          "height": 632
        },
        "id": "UApthOz6pV6C",
        "outputId": "26a50c68-e1db-4922-ebe9-d3259b5a7cd5"
      },
      "outputs": [
        {
          "data": {
            "text/plain": [
              "Text(0.5, 0, 'Credit Score')"
            ]
          },
          "execution_count": 29,
          "metadata": {},
          "output_type": "execute_result"
        },
        {
          "data": {
            "image/png": "[encoded data removed]",
            "text/plain": [
              "<Figure size 1080x720 with 1 Axes>"
            ]
          },
          "metadata": {},
          "output_type": "display_data"
        }
      ],
      "source": [
        "plt.figure(figsize=(15,10))\n",
        "# plt.subplot(1, 2, 1)\n",
        "# binsize = 1000000\n",
        "count, bin_edges = np.histogram(df_data_1['Credit Score'])\n",
        "df_data_1['Credit Score'].plot(kind='hist', xticks=bin_edges,\n",
        "                   bins=10);\n",
        "# plt.xscale('log')\n",
        "plt.xlabel('Credit Score')"
      ]
    },
    {
      "cell_type": "code",
      "execution_count": 30,
      "metadata": {
        "colab": {
          "base_uri": "https://localhost:8080/",
          "height": 601
        },
        "id": "ob0YcnYcqqDu",
        "outputId": "5a27f6ac-f80b-46c1-93a6-906d3d5c816c"
      },
      "outputs": [
        {
          "data": {
            "image/png": "[encoded data removed]",
            "text/plain": [
              "<Figure size 1080x720 with 1 Axes>"
            ]
          },
          "metadata": {},
          "output_type": "display_data"
        }
      ],
      "source": [
        "plt.figure(figsize=(15,10))\n",
        "log_binsize = 0.020\n",
        "bins = 10 ** np.arange(2.5, np.log10(df_data_1['Credit Score'].max())+log_binsize, log_binsize) # logging the max data point and adding the log binsize\n",
        "count, bin_edges = np.histogram(df_data_1['Credit Score'])\n",
        "df_data_1['Credit Score'].plot(kind='hist',\n",
        "                   bins=bins);\n",
        "plt.xscale('log')"
      ]
    },
    {
      "cell_type": "code",
      "execution_count": 31,
      "metadata": {
        "id": "Xu04xZ1PzLYv"
      },
      "outputs": [],
      "source": [
        "df_data_1.drop('Tax Liens', axis='columns', inplace=True)\n",
        "    "
      ]
    },
    {
      "cell_type": "code",
      "execution_count": 32,
      "metadata": {
        "colab": {
          "base_uri": "https://localhost:8080/",
          "height": 582
        },
        "id": "UhH5kL1zzLYy",
        "outputId": "4079f47c-6d58-4a81-d68b-36ee7c6f7d59"
      },
      "outputs": [
        {
          "data": {
            "text/html": [
              "<div>\n",
              "<style scoped>\n",
              "    .dataframe tbody tr th:only-of-type {\n",
              "        vertical-align: middle;\n",
              "    }\n",
              "\n",
              "    .dataframe tbody tr th {\n",
              "        vertical-align: top;\n",
              "    }\n",
              "\n",
              "    .dataframe thead th {\n",
              "        text-align: right;\n",
              "    }\n",
              "</style>\n",
              "<table border=\"1\" class=\"dataframe\">\n",
              "  <thead>\n",
              "    <tr style=\"text-align: right;\">\n",
              "      <th></th>\n",
              "      <th>Loan ID</th>\n",
              "      <th>Customer ID</th>\n",
              "      <th>Loan Status</th>\n",
              "      <th>Current Loan Amount</th>\n",
              "      <th>Term</th>\n",
              "      <th>Credit Score</th>\n",
              "      <th>Annual Income</th>\n",
              "      <th>Years in current job</th>\n",
              "      <th>Home Ownership</th>\n",
              "      <th>Purpose</th>\n",
              "      <th>Monthly Debt</th>\n",
              "      <th>Years of Credit History</th>\n",
              "      <th>Number of Open Accounts</th>\n",
              "      <th>Number of Credit Problems</th>\n",
              "      <th>Current Credit Balance</th>\n",
              "      <th>Maximum Open Credit</th>\n",
              "      <th>Bankruptcies</th>\n",
              "    </tr>\n",
              "  </thead>\n",
              "  <tbody>\n",
              "    <tr>\n",
              "      <th>0</th>\n",
              "      <td>14dd8831-6af5-400b-83ec-68e61888a048</td>\n",
              "      <td>981165ec-3274-42f5-a3b4-d104041a9ca9</td>\n",
              "      <td>Fully Paid</td>\n",
              "      <td>445412</td>\n",
              "      <td>Short Term</td>\n",
              "      <td>709.00</td>\n",
              "      <td>1.167493e+06</td>\n",
              "      <td>8 years</td>\n",
              "      <td>Home Mortgage</td>\n",
              "      <td>Home Improvements</td>\n",
              "      <td>5214.74</td>\n",
              "      <td>17.2</td>\n",
              "      <td>6</td>\n",
              "      <td>1</td>\n",
              "      <td>228190</td>\n",
              "      <td>416746.0</td>\n",
              "      <td>1.0</td>\n",
              "    </tr>\n",
              "    <tr>\n",
              "      <th>1</th>\n",
              "      <td>4771cc26-131a-45db-b5aa-537ea4ba5342</td>\n",
              "      <td>2de017a3-2e01-49cb-a581-08169e83be29</td>\n",
              "      <td>Fully Paid</td>\n",
              "      <td>262328</td>\n",
              "      <td>Short Term</td>\n",
              "      <td>1076.46</td>\n",
              "      <td>1.378277e+06</td>\n",
              "      <td>10+ years</td>\n",
              "      <td>Home Mortgage</td>\n",
              "      <td>Debt Consolidation</td>\n",
              "      <td>33295.98</td>\n",
              "      <td>21.1</td>\n",
              "      <td>35</td>\n",
              "      <td>0</td>\n",
              "      <td>229976</td>\n",
              "      <td>850784.0</td>\n",
              "      <td>0.0</td>\n",
              "    </tr>\n",
              "    <tr>\n",
              "      <th>2</th>\n",
              "      <td>4eed4e6a-aa2f-4c91-8651-ce984ee8fb26</td>\n",
              "      <td>5efb2b2b-bf11-4dfd-a572-3761a2694725</td>\n",
              "      <td>Fully Paid</td>\n",
              "      <td>99999999</td>\n",
              "      <td>Short Term</td>\n",
              "      <td>741.00</td>\n",
              "      <td>2.231892e+06</td>\n",
              "      <td>8 years</td>\n",
              "      <td>Own Home</td>\n",
              "      <td>Debt Consolidation</td>\n",
              "      <td>29200.53</td>\n",
              "      <td>14.9</td>\n",
              "      <td>18</td>\n",
              "      <td>1</td>\n",
              "      <td>297996</td>\n",
              "      <td>750090.0</td>\n",
              "      <td>0.0</td>\n",
              "    </tr>\n",
              "    <tr>\n",
              "      <th>3</th>\n",
              "      <td>77598f7b-32e7-4e3b-a6e5-06ba0d98fe8a</td>\n",
              "      <td>e777faab-98ae-45af-9a86-7ce5b33b1011</td>\n",
              "      <td>Fully Paid</td>\n",
              "      <td>347666</td>\n",
              "      <td>Long Term</td>\n",
              "      <td>721.00</td>\n",
              "      <td>8.069490e+05</td>\n",
              "      <td>3 years</td>\n",
              "      <td>Own Home</td>\n",
              "      <td>Debt Consolidation</td>\n",
              "      <td>8741.90</td>\n",
              "      <td>12.0</td>\n",
              "      <td>9</td>\n",
              "      <td>0</td>\n",
              "      <td>256329</td>\n",
              "      <td>386958.0</td>\n",
              "      <td>0.0</td>\n",
              "    </tr>\n",
              "    <tr>\n",
              "      <th>4</th>\n",
              "      <td>d4062e70-befa-4995-8643-a0de73938182</td>\n",
              "      <td>81536ad9-5ccf-4eb8-befb-47a4d608658e</td>\n",
              "      <td>Fully Paid</td>\n",
              "      <td>176220</td>\n",
              "      <td>Short Term</td>\n",
              "      <td>1076.46</td>\n",
              "      <td>1.378277e+06</td>\n",
              "      <td>5 years</td>\n",
              "      <td>Rent</td>\n",
              "      <td>Debt Consolidation</td>\n",
              "      <td>20639.70</td>\n",
              "      <td>6.1</td>\n",
              "      <td>15</td>\n",
              "      <td>0</td>\n",
              "      <td>253460</td>\n",
              "      <td>427174.0</td>\n",
              "      <td>0.0</td>\n",
              "    </tr>\n",
              "  </tbody>\n",
              "</table>\n",
              "</div>"
            ],
            "text/plain": [
              "                                Loan ID                           Customer ID  \\\n",
              "0  14dd8831-6af5-400b-83ec-68e61888a048  981165ec-3274-42f5-a3b4-d104041a9ca9   \n",
              "1  4771cc26-131a-45db-b5aa-537ea4ba5342  2de017a3-2e01-49cb-a581-08169e83be29   \n",
              "2  4eed4e6a-aa2f-4c91-8651-ce984ee8fb26  5efb2b2b-bf11-4dfd-a572-3761a2694725   \n",
              "3  77598f7b-32e7-4e3b-a6e5-06ba0d98fe8a  e777faab-98ae-45af-9a86-7ce5b33b1011   \n",
              "4  d4062e70-befa-4995-8643-a0de73938182  81536ad9-5ccf-4eb8-befb-47a4d608658e   \n",
              "\n",
              "  Loan Status  Current Loan Amount        Term  Credit Score  Annual Income  \\\n",
              "0  Fully Paid               445412  Short Term        709.00   1.167493e+06   \n",
              "1  Fully Paid               262328  Short Term       1076.46   1.378277e+06   \n",
              "2  Fully Paid             99999999  Short Term        741.00   2.231892e+06   \n",
              "3  Fully Paid               347666   Long Term        721.00   8.069490e+05   \n",
              "4  Fully Paid               176220  Short Term       1076.46   1.378277e+06   \n",
              "\n",
              "  Years in current job Home Ownership             Purpose  Monthly Debt  \\\n",
              "0              8 years  Home Mortgage   Home Improvements       5214.74   \n",
              "1            10+ years  Home Mortgage  Debt Consolidation      33295.98   \n",
              "2              8 years       Own Home  Debt Consolidation      29200.53   \n",
              "3              3 years       Own Home  Debt Consolidation       8741.90   \n",
              "4              5 years           Rent  Debt Consolidation      20639.70   \n",
              "\n",
              "   Years of Credit History  Number of Open Accounts  \\\n",
              "0                     17.2                        6   \n",
              "1                     21.1                       35   \n",
              "2                     14.9                       18   \n",
              "3                     12.0                        9   \n",
              "4                      6.1                       15   \n",
              "\n",
              "   Number of Credit Problems  Current Credit Balance  Maximum Open Credit  \\\n",
              "0                          1                  228190             416746.0   \n",
              "1                          0                  229976             850784.0   \n",
              "2                          1                  297996             750090.0   \n",
              "3                          0                  256329             386958.0   \n",
              "4                          0                  253460             427174.0   \n",
              "\n",
              "   Bankruptcies  \n",
              "0           1.0  \n",
              "1           0.0  \n",
              "2           0.0  \n",
              "3           0.0  \n",
              "4           0.0  "
            ]
          },
          "execution_count": 32,
          "metadata": {},
          "output_type": "execute_result"
        }
      ],
      "source": [
        "df_data_1.head()"
      ]
    },
    {
      "cell_type": "code",
      "execution_count": 33,
      "metadata": {
        "id": "xX5fsyXszLY0"
      },
      "outputs": [],
      "source": [
        "# Defining function for the top five rows of the dataset.\n",
        "def top5_rows(data):\n",
        "    return data.head()"
      ]
    },
    {
      "cell_type": "code",
      "execution_count": 34,
      "metadata": {
        "id": "pCz2rbH_zLY3"
      },
      "outputs": [],
      "source": [
        "# Defining function for the last 5 rows of the dataset\n",
        "def last5_rows(data):\n",
        "    return data.tail()"
      ]
    },
    {
      "cell_type": "code",
      "execution_count": 35,
      "metadata": {
        "colab": {
          "base_uri": "https://localhost:8080/",
          "height": 461
        },
        "id": "Qj4S8WYMzLY5",
        "outputId": "a7cde717-d228-415b-c7f8-47107204b726"
      },
      "outputs": [
        {
          "data": {
            "text/html": [
              "<div>\n",
              "<style scoped>\n",
              "    .dataframe tbody tr th:only-of-type {\n",
              "        vertical-align: middle;\n",
              "    }\n",
              "\n",
              "    .dataframe tbody tr th {\n",
              "        vertical-align: top;\n",
              "    }\n",
              "\n",
              "    .dataframe thead th {\n",
              "        text-align: right;\n",
              "    }\n",
              "</style>\n",
              "<table border=\"1\" class=\"dataframe\">\n",
              "  <thead>\n",
              "    <tr style=\"text-align: right;\">\n",
              "      <th></th>\n",
              "      <th>Loan ID</th>\n",
              "      <th>Customer ID</th>\n",
              "      <th>Loan Status</th>\n",
              "      <th>Current Loan Amount</th>\n",
              "      <th>Term</th>\n",
              "      <th>Credit Score</th>\n",
              "      <th>Annual Income</th>\n",
              "      <th>Years in current job</th>\n",
              "      <th>Home Ownership</th>\n",
              "      <th>Purpose</th>\n",
              "      <th>Monthly Debt</th>\n",
              "      <th>Years of Credit History</th>\n",
              "      <th>Number of Open Accounts</th>\n",
              "      <th>Number of Credit Problems</th>\n",
              "      <th>Current Credit Balance</th>\n",
              "      <th>Maximum Open Credit</th>\n",
              "      <th>Bankruptcies</th>\n",
              "    </tr>\n",
              "  </thead>\n",
              "  <tbody>\n",
              "    <tr>\n",
              "      <th>99995</th>\n",
              "      <td>3f94c18c-ba8f-45d0-8610-88a684a410a9</td>\n",
              "      <td>2da51983-cfef-4b8f-a733-5dfaf69e9281</td>\n",
              "      <td>Fully Paid</td>\n",
              "      <td>147070</td>\n",
              "      <td>Short Term</td>\n",
              "      <td>725.0</td>\n",
              "      <td>475437.0</td>\n",
              "      <td>7 years</td>\n",
              "      <td>Own Home</td>\n",
              "      <td>other</td>\n",
              "      <td>2202.86</td>\n",
              "      <td>22.3</td>\n",
              "      <td>5</td>\n",
              "      <td>0</td>\n",
              "      <td>47766</td>\n",
              "      <td>658548.0</td>\n",
              "      <td>0.0</td>\n",
              "    </tr>\n",
              "    <tr>\n",
              "      <th>99996</th>\n",
              "      <td>06eba04f-58fc-424a-b666-ed72aa008900</td>\n",
              "      <td>77f2252a-b7d1-4b07-a746-1202a8304290</td>\n",
              "      <td>Fully Paid</td>\n",
              "      <td>99999999</td>\n",
              "      <td>Short Term</td>\n",
              "      <td>732.0</td>\n",
              "      <td>1289416.0</td>\n",
              "      <td>1 year</td>\n",
              "      <td>Rent</td>\n",
              "      <td>Debt Consolidation</td>\n",
              "      <td>13109.05</td>\n",
              "      <td>9.4</td>\n",
              "      <td>22</td>\n",
              "      <td>0</td>\n",
              "      <td>153045</td>\n",
              "      <td>509234.0</td>\n",
              "      <td>0.0</td>\n",
              "    </tr>\n",
              "    <tr>\n",
              "      <th>99997</th>\n",
              "      <td>e1cb4050-eff5-4bdb-a1b0-aabd3f7eaac7</td>\n",
              "      <td>2ced5f10-bd60-4a11-9134-cadce4e7b0a3</td>\n",
              "      <td>Fully Paid</td>\n",
              "      <td>103136</td>\n",
              "      <td>Short Term</td>\n",
              "      <td>742.0</td>\n",
              "      <td>1150545.0</td>\n",
              "      <td>6 years</td>\n",
              "      <td>Rent</td>\n",
              "      <td>Debt Consolidation</td>\n",
              "      <td>7315.57</td>\n",
              "      <td>18.8</td>\n",
              "      <td>12</td>\n",
              "      <td>1</td>\n",
              "      <td>109554</td>\n",
              "      <td>537548.0</td>\n",
              "      <td>1.0</td>\n",
              "    </tr>\n",
              "    <tr>\n",
              "      <th>99998</th>\n",
              "      <td>81ab928b-d1a5-4523-9a3c-271ebb01b4fb</td>\n",
              "      <td>3e45ffda-99fd-4cfc-b8b8-446f4a505f36</td>\n",
              "      <td>Fully Paid</td>\n",
              "      <td>530332</td>\n",
              "      <td>Short Term</td>\n",
              "      <td>746.0</td>\n",
              "      <td>1717524.0</td>\n",
              "      <td>9 years</td>\n",
              "      <td>Rent</td>\n",
              "      <td>Debt Consolidation</td>\n",
              "      <td>9890.07</td>\n",
              "      <td>15.0</td>\n",
              "      <td>8</td>\n",
              "      <td>0</td>\n",
              "      <td>404225</td>\n",
              "      <td>738254.0</td>\n",
              "      <td>0.0</td>\n",
              "    </tr>\n",
              "    <tr>\n",
              "      <th>99999</th>\n",
              "      <td>c63916c6-6d46-47a9-949a-51d09af4414f</td>\n",
              "      <td>1b3014be-5c07-4d41-abe7-44573c375886</td>\n",
              "      <td>Fully Paid</td>\n",
              "      <td>99999999</td>\n",
              "      <td>Short Term</td>\n",
              "      <td>743.0</td>\n",
              "      <td>935180.0</td>\n",
              "      <td>10+ years</td>\n",
              "      <td>Own Home</td>\n",
              "      <td>Debt Consolidation</td>\n",
              "      <td>9118.10</td>\n",
              "      <td>13.0</td>\n",
              "      <td>4</td>\n",
              "      <td>1</td>\n",
              "      <td>45600</td>\n",
              "      <td>91014.0</td>\n",
              "      <td>1.0</td>\n",
              "    </tr>\n",
              "  </tbody>\n",
              "</table>\n",
              "</div>"
            ],
            "text/plain": [
              "                                    Loan ID  \\\n",
              "99995  3f94c18c-ba8f-45d0-8610-88a684a410a9   \n",
              "99996  06eba04f-58fc-424a-b666-ed72aa008900   \n",
              "99997  e1cb4050-eff5-4bdb-a1b0-aabd3f7eaac7   \n",
              "99998  81ab928b-d1a5-4523-9a3c-271ebb01b4fb   \n",
              "99999  c63916c6-6d46-47a9-949a-51d09af4414f   \n",
              "\n",
              "                                Customer ID Loan Status  Current Loan Amount  \\\n",
              "99995  2da51983-cfef-4b8f-a733-5dfaf69e9281  Fully Paid               147070   \n",
              "99996  77f2252a-b7d1-4b07-a746-1202a8304290  Fully Paid             99999999   \n",
              "99997  2ced5f10-bd60-4a11-9134-cadce4e7b0a3  Fully Paid               103136   \n",
              "99998  3e45ffda-99fd-4cfc-b8b8-446f4a505f36  Fully Paid               530332   \n",
              "99999  1b3014be-5c07-4d41-abe7-44573c375886  Fully Paid             99999999   \n",
              "\n",
              "             Term  Credit Score  Annual Income Years in current job  \\\n",
              "99995  Short Term         725.0       475437.0              7 years   \n",
              "99996  Short Term         732.0      1289416.0               1 year   \n",
              "99997  Short Term         742.0      1150545.0              6 years   \n",
              "99998  Short Term         746.0      1717524.0              9 years   \n",
              "99999  Short Term         743.0       935180.0            10+ years   \n",
              "\n",
              "      Home Ownership             Purpose  Monthly Debt  \\\n",
              "99995       Own Home               other       2202.86   \n",
              "99996           Rent  Debt Consolidation      13109.05   \n",
              "99997           Rent  Debt Consolidation       7315.57   \n",
              "99998           Rent  Debt Consolidation       9890.07   \n",
              "99999       Own Home  Debt Consolidation       9118.10   \n",
              "\n",
              "       Years of Credit History  Number of Open Accounts  \\\n",
              "99995                     22.3                        5   \n",
              "99996                      9.4                       22   \n",
              "99997                     18.8                       12   \n",
              "99998                     15.0                        8   \n",
              "99999                     13.0                        4   \n",
              "\n",
              "       Number of Credit Problems  Current Credit Balance  Maximum Open Credit  \\\n",
              "99995                          0                   47766             658548.0   \n",
              "99996                          0                  153045             509234.0   \n",
              "99997                          1                  109554             537548.0   \n",
              "99998                          0                  404225             738254.0   \n",
              "99999                          1                   45600              91014.0   \n",
              "\n",
              "       Bankruptcies  \n",
              "99995           0.0  \n",
              "99996           0.0  \n",
              "99997           1.0  \n",
              "99998           0.0  \n",
              "99999           1.0  "
            ]
          },
          "execution_count": 35,
          "metadata": {},
          "output_type": "execute_result"
        }
      ],
      "source": [
        "last5_rows(df_data_1)"
      ]
    },
    {
      "cell_type": "code",
      "execution_count": 36,
      "metadata": {
        "id": "Hs_4O1pbzLY8"
      },
      "outputs": [],
      "source": [
        "# Converting the years of credit column data type to integer\n",
        "df_data_1['Years of Credit History'] =df_data_1['Years of Credit History'].astype(int)"
      ]
    },
    {
      "cell_type": "code",
      "execution_count": 37,
      "metadata": {
        "colab": {
          "base_uri": "https://localhost:8080/"
        },
        "id": "0hntG2kBzLZA",
        "outputId": "51456530-1af8-4b33-e5aa-0f4f312c4ec9"
      },
      "outputs": [
        {
          "data": {
            "text/plain": [
              "Loan ID                       object\n",
              "Customer ID                   object\n",
              "Loan Status                   object\n",
              "Current Loan Amount            int64\n",
              "Term                          object\n",
              "Credit Score                 float64\n",
              "Annual Income                float64\n",
              "Years in current job          object\n",
              "Home Ownership                object\n",
              "Purpose                       object\n",
              "Monthly Debt                 float64\n",
              "Years of Credit History        int64\n",
              "Number of Open Accounts        int64\n",
              "Number of Credit Problems      int64\n",
              "Current Credit Balance         int64\n",
              "Maximum Open Credit          float64\n",
              "Bankruptcies                 float64\n",
              "dtype: object"
            ]
          },
          "execution_count": 37,
          "metadata": {},
          "output_type": "execute_result"
        }
      ],
      "source": [
        "df_data_1.dtypes"
      ]
    },
    {
      "cell_type": "code",
      "execution_count": 38,
      "metadata": {
        "colab": {
          "base_uri": "https://localhost:8080/",
          "height": 582
        },
        "id": "4C-BqZVVzLZD",
        "outputId": "9edf7337-0f73-4810-f4fb-7632e3fa92ab"
      },
      "outputs": [
        {
          "data": {
            "text/html": [
              "<div>\n",
              "<style scoped>\n",
              "    .dataframe tbody tr th:only-of-type {\n",
              "        vertical-align: middle;\n",
              "    }\n",
              "\n",
              "    .dataframe tbody tr th {\n",
              "        vertical-align: top;\n",
              "    }\n",
              "\n",
              "    .dataframe thead th {\n",
              "        text-align: right;\n",
              "    }\n",
              "</style>\n",
              "<table border=\"1\" class=\"dataframe\">\n",
              "  <thead>\n",
              "    <tr style=\"text-align: right;\">\n",
              "      <th></th>\n",
              "      <th>Loan ID</th>\n",
              "      <th>Customer ID</th>\n",
              "      <th>Loan Status</th>\n",
              "      <th>Current Loan Amount</th>\n",
              "      <th>Term</th>\n",
              "      <th>Credit Score</th>\n",
              "      <th>Annual Income</th>\n",
              "      <th>Years in current job</th>\n",
              "      <th>Home Ownership</th>\n",
              "      <th>Purpose</th>\n",
              "      <th>Monthly Debt</th>\n",
              "      <th>Years of Credit History</th>\n",
              "      <th>Number of Open Accounts</th>\n",
              "      <th>Number of Credit Problems</th>\n",
              "      <th>Current Credit Balance</th>\n",
              "      <th>Maximum Open Credit</th>\n",
              "      <th>Bankruptcies</th>\n",
              "    </tr>\n",
              "  </thead>\n",
              "  <tbody>\n",
              "    <tr>\n",
              "      <th>0</th>\n",
              "      <td>14dd8831-6af5-400b-83ec-68e61888a048</td>\n",
              "      <td>981165ec-3274-42f5-a3b4-d104041a9ca9</td>\n",
              "      <td>Fully Paid</td>\n",
              "      <td>445412</td>\n",
              "      <td>Short Term</td>\n",
              "      <td>709.00</td>\n",
              "      <td>1.167493e+06</td>\n",
              "      <td>8 years</td>\n",
              "      <td>Home Mortgage</td>\n",
              "      <td>Home Improvements</td>\n",
              "      <td>5214.74</td>\n",
              "      <td>17</td>\n",
              "      <td>6</td>\n",
              "      <td>1</td>\n",
              "      <td>228190</td>\n",
              "      <td>416746.0</td>\n",
              "      <td>1.0</td>\n",
              "    </tr>\n",
              "    <tr>\n",
              "      <th>1</th>\n",
              "      <td>4771cc26-131a-45db-b5aa-537ea4ba5342</td>\n",
              "      <td>2de017a3-2e01-49cb-a581-08169e83be29</td>\n",
              "      <td>Fully Paid</td>\n",
              "      <td>262328</td>\n",
              "      <td>Short Term</td>\n",
              "      <td>1076.46</td>\n",
              "      <td>1.378277e+06</td>\n",
              "      <td>10+ years</td>\n",
              "      <td>Home Mortgage</td>\n",
              "      <td>Debt Consolidation</td>\n",
              "      <td>33295.98</td>\n",
              "      <td>21</td>\n",
              "      <td>35</td>\n",
              "      <td>0</td>\n",
              "      <td>229976</td>\n",
              "      <td>850784.0</td>\n",
              "      <td>0.0</td>\n",
              "    </tr>\n",
              "    <tr>\n",
              "      <th>2</th>\n",
              "      <td>4eed4e6a-aa2f-4c91-8651-ce984ee8fb26</td>\n",
              "      <td>5efb2b2b-bf11-4dfd-a572-3761a2694725</td>\n",
              "      <td>Fully Paid</td>\n",
              "      <td>99999999</td>\n",
              "      <td>Short Term</td>\n",
              "      <td>741.00</td>\n",
              "      <td>2.231892e+06</td>\n",
              "      <td>8 years</td>\n",
              "      <td>Own Home</td>\n",
              "      <td>Debt Consolidation</td>\n",
              "      <td>29200.53</td>\n",
              "      <td>14</td>\n",
              "      <td>18</td>\n",
              "      <td>1</td>\n",
              "      <td>297996</td>\n",
              "      <td>750090.0</td>\n",
              "      <td>0.0</td>\n",
              "    </tr>\n",
              "    <tr>\n",
              "      <th>3</th>\n",
              "      <td>77598f7b-32e7-4e3b-a6e5-06ba0d98fe8a</td>\n",
              "      <td>e777faab-98ae-45af-9a86-7ce5b33b1011</td>\n",
              "      <td>Fully Paid</td>\n",
              "      <td>347666</td>\n",
              "      <td>Long Term</td>\n",
              "      <td>721.00</td>\n",
              "      <td>8.069490e+05</td>\n",
              "      <td>3 years</td>\n",
              "      <td>Own Home</td>\n",
              "      <td>Debt Consolidation</td>\n",
              "      <td>8741.90</td>\n",
              "      <td>12</td>\n",
              "      <td>9</td>\n",
              "      <td>0</td>\n",
              "      <td>256329</td>\n",
              "      <td>386958.0</td>\n",
              "      <td>0.0</td>\n",
              "    </tr>\n",
              "    <tr>\n",
              "      <th>4</th>\n",
              "      <td>d4062e70-befa-4995-8643-a0de73938182</td>\n",
              "      <td>81536ad9-5ccf-4eb8-befb-47a4d608658e</td>\n",
              "      <td>Fully Paid</td>\n",
              "      <td>176220</td>\n",
              "      <td>Short Term</td>\n",
              "      <td>1076.46</td>\n",
              "      <td>1.378277e+06</td>\n",
              "      <td>5 years</td>\n",
              "      <td>Rent</td>\n",
              "      <td>Debt Consolidation</td>\n",
              "      <td>20639.70</td>\n",
              "      <td>6</td>\n",
              "      <td>15</td>\n",
              "      <td>0</td>\n",
              "      <td>253460</td>\n",
              "      <td>427174.0</td>\n",
              "      <td>0.0</td>\n",
              "    </tr>\n",
              "  </tbody>\n",
              "</table>\n",
              "</div>"
            ],
            "text/plain": [
              "                                Loan ID                           Customer ID  \\\n",
              "0  14dd8831-6af5-400b-83ec-68e61888a048  981165ec-3274-42f5-a3b4-d104041a9ca9   \n",
              "1  4771cc26-131a-45db-b5aa-537ea4ba5342  2de017a3-2e01-49cb-a581-08169e83be29   \n",
              "2  4eed4e6a-aa2f-4c91-8651-ce984ee8fb26  5efb2b2b-bf11-4dfd-a572-3761a2694725   \n",
              "3  77598f7b-32e7-4e3b-a6e5-06ba0d98fe8a  e777faab-98ae-45af-9a86-7ce5b33b1011   \n",
              "4  d4062e70-befa-4995-8643-a0de73938182  81536ad9-5ccf-4eb8-befb-47a4d608658e   \n",
              "\n",
              "  Loan Status  Current Loan Amount        Term  Credit Score  Annual Income  \\\n",
              "0  Fully Paid               445412  Short Term        709.00   1.167493e+06   \n",
              "1  Fully Paid               262328  Short Term       1076.46   1.378277e+06   \n",
              "2  Fully Paid             99999999  Short Term        741.00   2.231892e+06   \n",
              "3  Fully Paid               347666   Long Term        721.00   8.069490e+05   \n",
              "4  Fully Paid               176220  Short Term       1076.46   1.378277e+06   \n",
              "\n",
              "  Years in current job Home Ownership             Purpose  Monthly Debt  \\\n",
              "0              8 years  Home Mortgage   Home Improvements       5214.74   \n",
              "1            10+ years  Home Mortgage  Debt Consolidation      33295.98   \n",
              "2              8 years       Own Home  Debt Consolidation      29200.53   \n",
              "3              3 years       Own Home  Debt Consolidation       8741.90   \n",
              "4              5 years           Rent  Debt Consolidation      20639.70   \n",
              "\n",
              "   Years of Credit History  Number of Open Accounts  \\\n",
              "0                       17                        6   \n",
              "1                       21                       35   \n",
              "2                       14                       18   \n",
              "3                       12                        9   \n",
              "4                        6                       15   \n",
              "\n",
              "   Number of Credit Problems  Current Credit Balance  Maximum Open Credit  \\\n",
              "0                          1                  228190             416746.0   \n",
              "1                          0                  229976             850784.0   \n",
              "2                          1                  297996             750090.0   \n",
              "3                          0                  256329             386958.0   \n",
              "4                          0                  253460             427174.0   \n",
              "\n",
              "   Bankruptcies  \n",
              "0           1.0  \n",
              "1           0.0  \n",
              "2           0.0  \n",
              "3           0.0  \n",
              "4           0.0  "
            ]
          },
          "execution_count": 38,
          "metadata": {},
          "output_type": "execute_result"
        }
      ],
      "source": [
        "top5_rows(df_data_1)"
      ]
    },
    {
      "cell_type": "code",
      "execution_count": 39,
      "metadata": {
        "id": "gXsDttBlzLZF"
      },
      "outputs": [],
      "source": [
        "# Dropping the Bankruptcies column in the dataset.\n",
        "df_data_1.drop('Bankruptcies', axis='columns', inplace=True)"
      ]
    },
    {
      "cell_type": "code",
      "execution_count": 40,
      "metadata": {
        "colab": {
          "base_uri": "https://localhost:8080/",
          "height": 461
        },
        "id": "Qeqv0HFgzLZH",
        "outputId": "92aac8a8-e2a5-4db3-85e3-d2885c76a29c"
      },
      "outputs": [
        {
          "data": {
            "text/html": [
              "<div>\n",
              "<style scoped>\n",
              "    .dataframe tbody tr th:only-of-type {\n",
              "        vertical-align: middle;\n",
              "    }\n",
              "\n",
              "    .dataframe tbody tr th {\n",
              "        vertical-align: top;\n",
              "    }\n",
              "\n",
              "    .dataframe thead th {\n",
              "        text-align: right;\n",
              "    }\n",
              "</style>\n",
              "<table border=\"1\" class=\"dataframe\">\n",
              "  <thead>\n",
              "    <tr style=\"text-align: right;\">\n",
              "      <th></th>\n",
              "      <th>Loan ID</th>\n",
              "      <th>Customer ID</th>\n",
              "      <th>Loan Status</th>\n",
              "      <th>Current Loan Amount</th>\n",
              "      <th>Term</th>\n",
              "      <th>Credit Score</th>\n",
              "      <th>Annual Income</th>\n",
              "      <th>Years in current job</th>\n",
              "      <th>Home Ownership</th>\n",
              "      <th>Purpose</th>\n",
              "      <th>Monthly Debt</th>\n",
              "      <th>Years of Credit History</th>\n",
              "      <th>Number of Open Accounts</th>\n",
              "      <th>Number of Credit Problems</th>\n",
              "      <th>Current Credit Balance</th>\n",
              "      <th>Maximum Open Credit</th>\n",
              "    </tr>\n",
              "  </thead>\n",
              "  <tbody>\n",
              "    <tr>\n",
              "      <th>0</th>\n",
              "      <td>14dd8831-6af5-400b-83ec-68e61888a048</td>\n",
              "      <td>981165ec-3274-42f5-a3b4-d104041a9ca9</td>\n",
              "      <td>Fully Paid</td>\n",
              "      <td>445412</td>\n",
              "      <td>Short Term</td>\n",
              "      <td>709.00</td>\n",
              "      <td>1.167493e+06</td>\n",
              "      <td>8 years</td>\n",
              "      <td>Home Mortgage</td>\n",
              "      <td>Home Improvements</td>\n",
              "      <td>5214.74</td>\n",
              "      <td>17</td>\n",
              "      <td>6</td>\n",
              "      <td>1</td>\n",
              "      <td>228190</td>\n",
              "      <td>416746.0</td>\n",
              "    </tr>\n",
              "    <tr>\n",
              "      <th>1</th>\n",
              "      <td>4771cc26-131a-45db-b5aa-537ea4ba5342</td>\n",
              "      <td>2de017a3-2e01-49cb-a581-08169e83be29</td>\n",
              "      <td>Fully Paid</td>\n",
              "      <td>262328</td>\n",
              "      <td>Short Term</td>\n",
              "      <td>1076.46</td>\n",
              "      <td>1.378277e+06</td>\n",
              "      <td>10+ years</td>\n",
              "      <td>Home Mortgage</td>\n",
              "      <td>Debt Consolidation</td>\n",
              "      <td>33295.98</td>\n",
              "      <td>21</td>\n",
              "      <td>35</td>\n",
              "      <td>0</td>\n",
              "      <td>229976</td>\n",
              "      <td>850784.0</td>\n",
              "    </tr>\n",
              "    <tr>\n",
              "      <th>2</th>\n",
              "      <td>4eed4e6a-aa2f-4c91-8651-ce984ee8fb26</td>\n",
              "      <td>5efb2b2b-bf11-4dfd-a572-3761a2694725</td>\n",
              "      <td>Fully Paid</td>\n",
              "      <td>99999999</td>\n",
              "      <td>Short Term</td>\n",
              "      <td>741.00</td>\n",
              "      <td>2.231892e+06</td>\n",
              "      <td>8 years</td>\n",
              "      <td>Own Home</td>\n",
              "      <td>Debt Consolidation</td>\n",
              "      <td>29200.53</td>\n",
              "      <td>14</td>\n",
              "      <td>18</td>\n",
              "      <td>1</td>\n",
              "      <td>297996</td>\n",
              "      <td>750090.0</td>\n",
              "    </tr>\n",
              "    <tr>\n",
              "      <th>3</th>\n",
              "      <td>77598f7b-32e7-4e3b-a6e5-06ba0d98fe8a</td>\n",
              "      <td>e777faab-98ae-45af-9a86-7ce5b33b1011</td>\n",
              "      <td>Fully Paid</td>\n",
              "      <td>347666</td>\n",
              "      <td>Long Term</td>\n",
              "      <td>721.00</td>\n",
              "      <td>8.069490e+05</td>\n",
              "      <td>3 years</td>\n",
              "      <td>Own Home</td>\n",
              "      <td>Debt Consolidation</td>\n",
              "      <td>8741.90</td>\n",
              "      <td>12</td>\n",
              "      <td>9</td>\n",
              "      <td>0</td>\n",
              "      <td>256329</td>\n",
              "      <td>386958.0</td>\n",
              "    </tr>\n",
              "    <tr>\n",
              "      <th>4</th>\n",
              "      <td>d4062e70-befa-4995-8643-a0de73938182</td>\n",
              "      <td>81536ad9-5ccf-4eb8-befb-47a4d608658e</td>\n",
              "      <td>Fully Paid</td>\n",
              "      <td>176220</td>\n",
              "      <td>Short Term</td>\n",
              "      <td>1076.46</td>\n",
              "      <td>1.378277e+06</td>\n",
              "      <td>5 years</td>\n",
              "      <td>Rent</td>\n",
              "      <td>Debt Consolidation</td>\n",
              "      <td>20639.70</td>\n",
              "      <td>6</td>\n",
              "      <td>15</td>\n",
              "      <td>0</td>\n",
              "      <td>253460</td>\n",
              "      <td>427174.0</td>\n",
              "    </tr>\n",
              "  </tbody>\n",
              "</table>\n",
              "</div>"
            ],
            "text/plain": [
              "                                Loan ID                           Customer ID  \\\n",
              "0  14dd8831-6af5-400b-83ec-68e61888a048  981165ec-3274-42f5-a3b4-d104041a9ca9   \n",
              "1  4771cc26-131a-45db-b5aa-537ea4ba5342  2de017a3-2e01-49cb-a581-08169e83be29   \n",
              "2  4eed4e6a-aa2f-4c91-8651-ce984ee8fb26  5efb2b2b-bf11-4dfd-a572-3761a2694725   \n",
              "3  77598f7b-32e7-4e3b-a6e5-06ba0d98fe8a  e777faab-98ae-45af-9a86-7ce5b33b1011   \n",
              "4  d4062e70-befa-4995-8643-a0de73938182  81536ad9-5ccf-4eb8-befb-47a4d608658e   \n",
              "\n",
              "  Loan Status  Current Loan Amount        Term  Credit Score  Annual Income  \\\n",
              "0  Fully Paid               445412  Short Term        709.00   1.167493e+06   \n",
              "1  Fully Paid               262328  Short Term       1076.46   1.378277e+06   \n",
              "2  Fully Paid             99999999  Short Term        741.00   2.231892e+06   \n",
              "3  Fully Paid               347666   Long Term        721.00   8.069490e+05   \n",
              "4  Fully Paid               176220  Short Term       1076.46   1.378277e+06   \n",
              "\n",
              "  Years in current job Home Ownership             Purpose  Monthly Debt  \\\n",
              "0              8 years  Home Mortgage   Home Improvements       5214.74   \n",
              "1            10+ years  Home Mortgage  Debt Consolidation      33295.98   \n",
              "2              8 years       Own Home  Debt Consolidation      29200.53   \n",
              "3              3 years       Own Home  Debt Consolidation       8741.90   \n",
              "4              5 years           Rent  Debt Consolidation      20639.70   \n",
              "\n",
              "   Years of Credit History  Number of Open Accounts  \\\n",
              "0                       17                        6   \n",
              "1                       21                       35   \n",
              "2                       14                       18   \n",
              "3                       12                        9   \n",
              "4                        6                       15   \n",
              "\n",
              "   Number of Credit Problems  Current Credit Balance  Maximum Open Credit  \n",
              "0                          1                  228190             416746.0  \n",
              "1                          0                  229976             850784.0  \n",
              "2                          1                  297996             750090.0  \n",
              "3                          0                  256329             386958.0  \n",
              "4                          0                  253460             427174.0  "
            ]
          },
          "execution_count": 40,
          "metadata": {},
          "output_type": "execute_result"
        }
      ],
      "source": [
        "top5_rows(df_data_1)"
      ]
    },
    {
      "cell_type": "code",
      "execution_count": 41,
      "metadata": {
        "id": "FKkCWxKpzLZJ"
      },
      "outputs": [],
      "source": [
        "df_data_1[['Number of Open Accounts', 'Number of Credit Problems']] = df_data_1[['Number of Open Accounts', 'Number of Credit Problems']].astype(int)"
      ]
    },
    {
      "cell_type": "code",
      "execution_count": 42,
      "metadata": {
        "colab": {
          "base_uri": "https://localhost:8080/"
        },
        "id": "3vfmyXYgzLZM",
        "outputId": "ebbe91d8-3f52-4b3d-99d1-a54b9d1ae7a9"
      },
      "outputs": [
        {
          "data": {
            "text/plain": [
              "Loan ID                       object\n",
              "Customer ID                   object\n",
              "Loan Status                   object\n",
              "Current Loan Amount            int64\n",
              "Term                          object\n",
              "Credit Score                 float64\n",
              "Annual Income                float64\n",
              "Years in current job          object\n",
              "Home Ownership                object\n",
              "Purpose                       object\n",
              "Monthly Debt                 float64\n",
              "Years of Credit History        int64\n",
              "Number of Open Accounts        int64\n",
              "Number of Credit Problems      int64\n",
              "Current Credit Balance         int64\n",
              "Maximum Open Credit          float64\n",
              "dtype: object"
            ]
          },
          "execution_count": 42,
          "metadata": {},
          "output_type": "execute_result"
        }
      ],
      "source": [
        "df_data_1.dtypes"
      ]
    },
    {
      "cell_type": "code",
      "execution_count": 43,
      "metadata": {
        "colab": {
          "base_uri": "https://localhost:8080/",
          "height": 286
        },
        "id": "DwGBsHoRzLZO",
        "outputId": "41d52986-a2b3-4464-9774-6a7230ea99d4"
      },
      "outputs": [
        {
          "data": {
            "image/png": "[encoded data removed]",
            "text/plain": [
              "<Figure size 432x288 with 1 Axes>"
            ]
          },
          "metadata": {},
          "output_type": "display_data"
        }
      ],
      "source": [
        "# Visualizing the Loan status count \n",
        "sns.countplot(data=df_data_1, x = 'Loan Status');"
      ]
    },
    {
      "cell_type": "markdown",
      "metadata": {
        "id": "xdwbb1ZCdxQY"
      },
      "source": [
        "From the viz result we can see that most of the client fully paid their loan, however we don't know the patterns or features in the datasets if there is any that might likely influenced the loan status,"
      ]
    },
    {
      "cell_type": "code",
      "execution_count": 44,
      "metadata": {
        "colab": {
          "base_uri": "https://localhost:8080/"
        },
        "id": "3s_oAkE3P1kk",
        "outputId": "57730c25-93c9-4aa9-e005-4f5980f0ba51"
      },
      "outputs": [
        {
          "data": {
            "text/plain": [
              "Fully Paid     77361\n",
              "Charged Off    22639\n",
              "Name: Loan Status, dtype: int64"
            ]
          },
          "execution_count": 44,
          "metadata": {},
          "output_type": "execute_result"
        }
      ],
      "source": [
        "df_data_1['Loan Status'].value_counts()"
      ]
    },
    {
      "cell_type": "code",
      "execution_count": 45,
      "metadata": {
        "id": "yCP8GD5mzLZR"
      },
      "outputs": [],
      "source": [
        "# Dropping the Loan ID column from the datasets\n",
        "df_data_1.drop('Loan ID', axis='columns', inplace=True)"
      ]
    },
    {
      "cell_type": "code",
      "execution_count": 46,
      "metadata": {
        "colab": {
          "base_uri": "https://localhost:8080/",
          "height": 582
        },
        "id": "B_QpSI0DPh6j",
        "outputId": "8243d1c4-c038-49b6-aa80-9cbd078b9dc4"
      },
      "outputs": [
        {
          "data": {
            "text/html": [
              "<div>\n",
              "<style scoped>\n",
              "    .dataframe tbody tr th:only-of-type {\n",
              "        vertical-align: middle;\n",
              "    }\n",
              "\n",
              "    .dataframe tbody tr th {\n",
              "        vertical-align: top;\n",
              "    }\n",
              "\n",
              "    .dataframe thead th {\n",
              "        text-align: right;\n",
              "    }\n",
              "</style>\n",
              "<table border=\"1\" class=\"dataframe\">\n",
              "  <thead>\n",
              "    <tr style=\"text-align: right;\">\n",
              "      <th></th>\n",
              "      <th>Customer ID</th>\n",
              "      <th>Loan Status</th>\n",
              "      <th>Current Loan Amount</th>\n",
              "      <th>Term</th>\n",
              "      <th>Credit Score</th>\n",
              "      <th>Annual Income</th>\n",
              "      <th>Years in current job</th>\n",
              "      <th>Home Ownership</th>\n",
              "      <th>Purpose</th>\n",
              "      <th>Monthly Debt</th>\n",
              "      <th>Years of Credit History</th>\n",
              "      <th>Number of Open Accounts</th>\n",
              "      <th>Number of Credit Problems</th>\n",
              "      <th>Current Credit Balance</th>\n",
              "      <th>Maximum Open Credit</th>\n",
              "    </tr>\n",
              "  </thead>\n",
              "  <tbody>\n",
              "    <tr>\n",
              "      <th>0</th>\n",
              "      <td>981165ec-3274-42f5-a3b4-d104041a9ca9</td>\n",
              "      <td>Fully Paid</td>\n",
              "      <td>445412</td>\n",
              "      <td>Short Term</td>\n",
              "      <td>709.00</td>\n",
              "      <td>1.167493e+06</td>\n",
              "      <td>8 years</td>\n",
              "      <td>Home Mortgage</td>\n",
              "      <td>Home Improvements</td>\n",
              "      <td>5214.74</td>\n",
              "      <td>17</td>\n",
              "      <td>6</td>\n",
              "      <td>1</td>\n",
              "      <td>228190</td>\n",
              "      <td>416746.0</td>\n",
              "    </tr>\n",
              "    <tr>\n",
              "      <th>1</th>\n",
              "      <td>2de017a3-2e01-49cb-a581-08169e83be29</td>\n",
              "      <td>Fully Paid</td>\n",
              "      <td>262328</td>\n",
              "      <td>Short Term</td>\n",
              "      <td>1076.46</td>\n",
              "      <td>1.378277e+06</td>\n",
              "      <td>10+ years</td>\n",
              "      <td>Home Mortgage</td>\n",
              "      <td>Debt Consolidation</td>\n",
              "      <td>33295.98</td>\n",
              "      <td>21</td>\n",
              "      <td>35</td>\n",
              "      <td>0</td>\n",
              "      <td>229976</td>\n",
              "      <td>850784.0</td>\n",
              "    </tr>\n",
              "    <tr>\n",
              "      <th>2</th>\n",
              "      <td>5efb2b2b-bf11-4dfd-a572-3761a2694725</td>\n",
              "      <td>Fully Paid</td>\n",
              "      <td>99999999</td>\n",
              "      <td>Short Term</td>\n",
              "      <td>741.00</td>\n",
              "      <td>2.231892e+06</td>\n",
              "      <td>8 years</td>\n",
              "      <td>Own Home</td>\n",
              "      <td>Debt Consolidation</td>\n",
              "      <td>29200.53</td>\n",
              "      <td>14</td>\n",
              "      <td>18</td>\n",
              "      <td>1</td>\n",
              "      <td>297996</td>\n",
              "      <td>750090.0</td>\n",
              "    </tr>\n",
              "    <tr>\n",
              "      <th>3</th>\n",
              "      <td>e777faab-98ae-45af-9a86-7ce5b33b1011</td>\n",
              "      <td>Fully Paid</td>\n",
              "      <td>347666</td>\n",
              "      <td>Long Term</td>\n",
              "      <td>721.00</td>\n",
              "      <td>8.069490e+05</td>\n",
              "      <td>3 years</td>\n",
              "      <td>Own Home</td>\n",
              "      <td>Debt Consolidation</td>\n",
              "      <td>8741.90</td>\n",
              "      <td>12</td>\n",
              "      <td>9</td>\n",
              "      <td>0</td>\n",
              "      <td>256329</td>\n",
              "      <td>386958.0</td>\n",
              "    </tr>\n",
              "    <tr>\n",
              "      <th>4</th>\n",
              "      <td>81536ad9-5ccf-4eb8-befb-47a4d608658e</td>\n",
              "      <td>Fully Paid</td>\n",
              "      <td>176220</td>\n",
              "      <td>Short Term</td>\n",
              "      <td>1076.46</td>\n",
              "      <td>1.378277e+06</td>\n",
              "      <td>5 years</td>\n",
              "      <td>Rent</td>\n",
              "      <td>Debt Consolidation</td>\n",
              "      <td>20639.70</td>\n",
              "      <td>6</td>\n",
              "      <td>15</td>\n",
              "      <td>0</td>\n",
              "      <td>253460</td>\n",
              "      <td>427174.0</td>\n",
              "    </tr>\n",
              "  </tbody>\n",
              "</table>\n",
              "</div>"
            ],
            "text/plain": [
              "                            Customer ID Loan Status  Current Loan Amount  \\\n",
              "0  981165ec-3274-42f5-a3b4-d104041a9ca9  Fully Paid               445412   \n",
              "1  2de017a3-2e01-49cb-a581-08169e83be29  Fully Paid               262328   \n",
              "2  5efb2b2b-bf11-4dfd-a572-3761a2694725  Fully Paid             99999999   \n",
              "3  e777faab-98ae-45af-9a86-7ce5b33b1011  Fully Paid               347666   \n",
              "4  81536ad9-5ccf-4eb8-befb-47a4d608658e  Fully Paid               176220   \n",
              "\n",
              "         Term  Credit Score  Annual Income Years in current job  \\\n",
              "0  Short Term        709.00   1.167493e+06              8 years   \n",
              "1  Short Term       1076.46   1.378277e+06            10+ years   \n",
              "2  Short Term        741.00   2.231892e+06              8 years   \n",
              "3   Long Term        721.00   8.069490e+05              3 years   \n",
              "4  Short Term       1076.46   1.378277e+06              5 years   \n",
              "\n",
              "  Home Ownership             Purpose  Monthly Debt  Years of Credit History  \\\n",
              "0  Home Mortgage   Home Improvements       5214.74                       17   \n",
              "1  Home Mortgage  Debt Consolidation      33295.98                       21   \n",
              "2       Own Home  Debt Consolidation      29200.53                       14   \n",
              "3       Own Home  Debt Consolidation       8741.90                       12   \n",
              "4           Rent  Debt Consolidation      20639.70                        6   \n",
              "\n",
              "   Number of Open Accounts  Number of Credit Problems  Current Credit Balance  \\\n",
              "0                        6                          1                  228190   \n",
              "1                       35                          0                  229976   \n",
              "2                       18                          1                  297996   \n",
              "3                        9                          0                  256329   \n",
              "4                       15                          0                  253460   \n",
              "\n",
              "   Maximum Open Credit  \n",
              "0             416746.0  \n",
              "1             850784.0  \n",
              "2             750090.0  \n",
              "3             386958.0  \n",
              "4             427174.0  "
            ]
          },
          "execution_count": 46,
          "metadata": {},
          "output_type": "execute_result"
        }
      ],
      "source": [
        "top5_rows(df_data_1)"
      ]
    },
    {
      "cell_type": "code",
      "execution_count": 47,
      "metadata": {
        "id": "-sjzjHMfQ-or"
      },
      "outputs": [],
      "source": [
        "df_data_1.drop('Customer ID', axis='columns', inplace=True)"
      ]
    },
    {
      "cell_type": "code",
      "execution_count": 48,
      "metadata": {
        "colab": {
          "base_uri": "https://localhost:8080/",
          "height": 514
        },
        "id": "iVsppohUr07l",
        "outputId": "ae2a7676-4153-4825-918a-64bd52176d0d"
      },
      "outputs": [
        {
          "data": {
            "text/html": [
              "<div>\n",
              "<style scoped>\n",
              "    .dataframe tbody tr th:only-of-type {\n",
              "        vertical-align: middle;\n",
              "    }\n",
              "\n",
              "    .dataframe tbody tr th {\n",
              "        vertical-align: top;\n",
              "    }\n",
              "\n",
              "    .dataframe thead th {\n",
              "        text-align: right;\n",
              "    }\n",
              "</style>\n",
              "<table border=\"1\" class=\"dataframe\">\n",
              "  <thead>\n",
              "    <tr style=\"text-align: right;\">\n",
              "      <th></th>\n",
              "      <th>Current Loan Amount</th>\n",
              "      <th>Credit Score</th>\n",
              "      <th>Annual Income</th>\n",
              "      <th>Monthly Debt</th>\n",
              "      <th>Years of Credit History</th>\n",
              "      <th>Number of Open Accounts</th>\n",
              "      <th>Number of Credit Problems</th>\n",
              "      <th>Current Credit Balance</th>\n",
              "      <th>Maximum Open Credit</th>\n",
              "    </tr>\n",
              "  </thead>\n",
              "  <tbody>\n",
              "    <tr>\n",
              "      <th>Current Loan Amount</th>\n",
              "      <td>1.000000</td>\n",
              "      <td>-0.095153</td>\n",
              "      <td>0.012909</td>\n",
              "      <td>-0.006643</td>\n",
              "      <td>0.019239</td>\n",
              "      <td>0.001478</td>\n",
              "      <td>-0.002795</td>\n",
              "      <td>0.003880</td>\n",
              "      <td>-0.001271</td>\n",
              "    </tr>\n",
              "    <tr>\n",
              "      <th>Credit Score</th>\n",
              "      <td>-0.095153</td>\n",
              "      <td>1.000000</td>\n",
              "      <td>-0.017078</td>\n",
              "      <td>-0.001512</td>\n",
              "      <td>-0.008609</td>\n",
              "      <td>0.005808</td>\n",
              "      <td>-0.002746</td>\n",
              "      <td>-0.000095</td>\n",
              "      <td>-0.002088</td>\n",
              "    </tr>\n",
              "    <tr>\n",
              "      <th>Annual Income</th>\n",
              "      <td>0.012909</td>\n",
              "      <td>-0.017078</td>\n",
              "      <td>1.000000</td>\n",
              "      <td>0.438402</td>\n",
              "      <td>0.145313</td>\n",
              "      <td>0.131936</td>\n",
              "      <td>-0.015453</td>\n",
              "      <td>0.284947</td>\n",
              "      <td>0.039205</td>\n",
              "    </tr>\n",
              "    <tr>\n",
              "      <th>Monthly Debt</th>\n",
              "      <td>-0.006643</td>\n",
              "      <td>-0.001512</td>\n",
              "      <td>0.438402</td>\n",
              "      <td>1.000000</td>\n",
              "      <td>0.199173</td>\n",
              "      <td>0.411353</td>\n",
              "      <td>-0.055383</td>\n",
              "      <td>0.481348</td>\n",
              "      <td>0.039267</td>\n",
              "    </tr>\n",
              "    <tr>\n",
              "      <th>Years of Credit History</th>\n",
              "      <td>0.019239</td>\n",
              "      <td>-0.008609</td>\n",
              "      <td>0.145313</td>\n",
              "      <td>0.199173</td>\n",
              "      <td>1.000000</td>\n",
              "      <td>0.131830</td>\n",
              "      <td>0.061600</td>\n",
              "      <td>0.208521</td>\n",
              "      <td>0.030813</td>\n",
              "    </tr>\n",
              "    <tr>\n",
              "      <th>Number of Open Accounts</th>\n",
              "      <td>0.001478</td>\n",
              "      <td>0.005808</td>\n",
              "      <td>0.131936</td>\n",
              "      <td>0.411353</td>\n",
              "      <td>0.131830</td>\n",
              "      <td>1.000000</td>\n",
              "      <td>-0.013995</td>\n",
              "      <td>0.228136</td>\n",
              "      <td>0.031341</td>\n",
              "    </tr>\n",
              "    <tr>\n",
              "      <th>Number of Credit Problems</th>\n",
              "      <td>-0.002795</td>\n",
              "      <td>-0.002746</td>\n",
              "      <td>-0.015453</td>\n",
              "      <td>-0.055383</td>\n",
              "      <td>0.061600</td>\n",
              "      <td>-0.013995</td>\n",
              "      <td>1.000000</td>\n",
              "      <td>-0.112516</td>\n",
              "      <td>-0.012072</td>\n",
              "    </tr>\n",
              "    <tr>\n",
              "      <th>Current Credit Balance</th>\n",
              "      <td>0.003880</td>\n",
              "      <td>-0.000095</td>\n",
              "      <td>0.284947</td>\n",
              "      <td>0.481348</td>\n",
              "      <td>0.208521</td>\n",
              "      <td>0.228136</td>\n",
              "      <td>-0.112516</td>\n",
              "      <td>1.000000</td>\n",
              "      <td>0.139203</td>\n",
              "    </tr>\n",
              "    <tr>\n",
              "      <th>Maximum Open Credit</th>\n",
              "      <td>-0.001271</td>\n",
              "      <td>-0.002088</td>\n",
              "      <td>0.039205</td>\n",
              "      <td>0.039267</td>\n",
              "      <td>0.030813</td>\n",
              "      <td>0.031341</td>\n",
              "      <td>-0.012072</td>\n",
              "      <td>0.139203</td>\n",
              "      <td>1.000000</td>\n",
              "    </tr>\n",
              "  </tbody>\n",
              "</table>\n",
              "</div>"
            ],
            "text/plain": [
              "                           Current Loan Amount  Credit Score  Annual Income  \\\n",
              "Current Loan Amount                   1.000000     -0.095153       0.012909   \n",
              "Credit Score                         -0.095153      1.000000      -0.017078   \n",
              "Annual Income                         0.012909     -0.017078       1.000000   \n",
              "Monthly Debt                         -0.006643     -0.001512       0.438402   \n",
              "Years of Credit History               0.019239     -0.008609       0.145313   \n",
              "Number of Open Accounts               0.001478      0.005808       0.131936   \n",
              "Number of Credit Problems            -0.002795     -0.002746      -0.015453   \n",
              "Current Credit Balance                0.003880     -0.000095       0.284947   \n",
              "Maximum Open Credit                  -0.001271     -0.002088       0.039205   \n",
              "\n",
              "                           Monthly Debt  Years of Credit History  \\\n",
              "Current Loan Amount           -0.006643                 0.019239   \n",
              "Credit Score                  -0.001512                -0.008609   \n",
              "Annual Income                  0.438402                 0.145313   \n",
              "Monthly Debt                   1.000000                 0.199173   \n",
              "Years of Credit History        0.199173                 1.000000   \n",
              "Number of Open Accounts        0.411353                 0.131830   \n",
              "Number of Credit Problems     -0.055383                 0.061600   \n",
              "Current Credit Balance         0.481348                 0.208521   \n",
              "Maximum Open Credit            0.039267                 0.030813   \n",
              "\n",
              "                           Number of Open Accounts  Number of Credit Problems  \\\n",
              "Current Loan Amount                       0.001478                  -0.002795   \n",
              "Credit Score                              0.005808                  -0.002746   \n",
              "Annual Income                             0.131936                  -0.015453   \n",
              "Monthly Debt                              0.411353                  -0.055383   \n",
              "Years of Credit History                   0.131830                   0.061600   \n",
              "Number of Open Accounts                   1.000000                  -0.013995   \n",
              "Number of Credit Problems                -0.013995                   1.000000   \n",
              "Current Credit Balance                    0.228136                  -0.112516   \n",
              "Maximum Open Credit                       0.031341                  -0.012072   \n",
              "\n",
              "                           Current Credit Balance  Maximum Open Credit  \n",
              "Current Loan Amount                      0.003880            -0.001271  \n",
              "Credit Score                            -0.000095            -0.002088  \n",
              "Annual Income                            0.284947             0.039205  \n",
              "Monthly Debt                             0.481348             0.039267  \n",
              "Years of Credit History                  0.208521             0.030813  \n",
              "Number of Open Accounts                  0.228136             0.031341  \n",
              "Number of Credit Problems               -0.112516            -0.012072  \n",
              "Current Credit Balance                   1.000000             0.139203  \n",
              "Maximum Open Credit                      0.139203             1.000000  "
            ]
          },
          "execution_count": 48,
          "metadata": {},
          "output_type": "execute_result"
        }
      ],
      "source": [
        "cor = df_data_1.corr()\n",
        "cor"
      ]
    },
    {
      "cell_type": "code",
      "execution_count": 49,
      "metadata": {
        "colab": {
          "base_uri": "https://localhost:8080/",
          "height": 752
        },
        "id": "LuSQcEBksD_K",
        "outputId": "6f7990b4-aba9-4fbd-d5b6-0c5e3cabec97"
      },
      "outputs": [
        {
          "data": {
            "text/plain": [
              "<AxesSubplot:>"
            ]
          },
          "execution_count": 49,
          "metadata": {},
          "output_type": "execute_result"
        },
        {
          "data": {
            "image/png": "[encoded data removed]",
            "text/plain": [
              "<Figure size 1080x720 with 1 Axes>"
            ]
          },
          "metadata": {},
          "output_type": "display_data"
        }
      ],
      "source": [
        "plt.figure(figsize=(15,10))\n",
        "heatmap = sns.heatmap(cor, annot = True, cbar = False, cmap = 'summer')\n",
        "heatmap"
      ]
    },
    {
      "cell_type": "code",
      "execution_count": 50,
      "metadata": {
        "colab": {
          "base_uri": "https://localhost:8080/",
          "height": 1000
        },
        "id": "RsbUbLGSvLFp",
        "outputId": "855f0f7b-e711-479b-e04e-fc5836a90b78"
      },
      "outputs": [
        {
          "name": "stderr",
          "output_type": "stream",
          "text": [
            "\n",
            "KeyboardInterrupt\n",
            "\n"
          ]
        }
      ],
      "source": [
        "sns.set_style('darkgrid')\n",
        "sns.set_palette('Accent')\n",
        "sns.pairplot(df_data_1, hue='Loan Status', height=5.0)"
      ]
    },
    {
      "cell_type": "code",
      "execution_count": 51,
      "metadata": {
        "colab": {
          "base_uri": "https://localhost:8080/"
        },
        "id": "3_LnmxMPT2_W",
        "outputId": "58d21491-5e1d-4834-d67e-64b2c2ed282e"
      },
      "outputs": [
        {
          "data": {
            "text/plain": [
              "Debt Consolidation      78552\n",
              "other                    6037\n",
              "Home Improvements        5839\n",
              "Other                    3250\n",
              "Business Loan            1569\n",
              "Buy a Car                1265\n",
              "Medical Bills            1127\n",
              "Buy House                 678\n",
              "Take a Trip               573\n",
              "major_purchase            352\n",
              "small_business            283\n",
              "moving                    150\n",
              "wedding                   115\n",
              "vacation                  101\n",
              "Educational Expenses       99\n",
              "renewable_energy           10\n",
              "Name: Purpose, dtype: int64"
            ]
          },
          "execution_count": 51,
          "metadata": {},
          "output_type": "execute_result"
        }
      ],
      "source": [
        "# Checking the counts of the different loans \n",
        "df_data_1['Purpose'].value_counts()"
      ]
    },
    {
      "cell_type": "markdown",
      "metadata": {
        "id": "foeZBjbzzLZQ"
      },
      "source": [
        "Splitting the dataset"
      ]
    },
    {
      "cell_type": "code",
      "execution_count": 52,
      "metadata": {
        "id": "4igqmsbKUUaC"
      },
      "outputs": [],
      "source": [
        "X = df_data_1.drop('Loan Status', axis=1)\n",
        "y = df_data_1['Loan Status']"
      ]
    },
    {
      "cell_type": "code",
      "execution_count": 53,
      "metadata": {},
      "outputs": [],
      "source": [
        "map_format = {'Charged Off':0, 'Fully Paid': 1}\n",
        "y = y.map(map_format)"
      ]
    },
    {
      "cell_type": "code",
      "execution_count": 54,
      "metadata": {},
      "outputs": [
        {
          "data": {
            "text/plain": [
              "0    1\n",
              "1    1\n",
              "2    1\n",
              "3    1\n",
              "4    1\n",
              "Name: Loan Status, dtype: int64"
            ]
          },
          "execution_count": 54,
          "metadata": {},
          "output_type": "execute_result"
        }
      ],
      "source": [
        "y.head()"
      ]
    },
    {
      "cell_type": "code",
      "execution_count": 55,
      "metadata": {},
      "outputs": [
        {
          "name": "stdout",
          "output_type": "stream",
          "text": [
            "(100000,)\n"
          ]
        }
      ],
      "source": [
        "print(y.shape)"
      ]
    },
    {
      "cell_type": "code",
      "execution_count": 56,
      "metadata": {
        "colab": {
          "base_uri": "https://localhost:8080/"
        },
        "id": "5IQHuUf3ci-g",
        "outputId": "d5e2494e-18cd-4738-98e7-d417598e1c11"
      },
      "outputs": [
        {
          "data": {
            "text/plain": [
              "1    77361\n",
              "0    22639\n",
              "Name: Loan Status, dtype: int64"
            ]
          },
          "execution_count": 56,
          "metadata": {},
          "output_type": "execute_result"
        }
      ],
      "source": [
        "y.value_counts()"
      ]
    },
    {
      "cell_type": "code",
      "execution_count": 57,
      "metadata": {
        "colab": {
          "base_uri": "https://localhost:8080/",
          "height": 372
        },
        "id": "QKdSRzcbUz7_",
        "outputId": "719bb41a-35a2-4df5-fa80-87ddd3a33c25"
      },
      "outputs": [
        {
          "data": {
            "text/html": [
              "<div>\n",
              "<style scoped>\n",
              "    .dataframe tbody tr th:only-of-type {\n",
              "        vertical-align: middle;\n",
              "    }\n",
              "\n",
              "    .dataframe tbody tr th {\n",
              "        vertical-align: top;\n",
              "    }\n",
              "\n",
              "    .dataframe thead th {\n",
              "        text-align: right;\n",
              "    }\n",
              "</style>\n",
              "<table border=\"1\" class=\"dataframe\">\n",
              "  <thead>\n",
              "    <tr style=\"text-align: right;\">\n",
              "      <th></th>\n",
              "      <th>Current Loan Amount</th>\n",
              "      <th>Term</th>\n",
              "      <th>Credit Score</th>\n",
              "      <th>Annual Income</th>\n",
              "      <th>Years in current job</th>\n",
              "      <th>Home Ownership</th>\n",
              "      <th>Purpose</th>\n",
              "      <th>Monthly Debt</th>\n",
              "      <th>Years of Credit History</th>\n",
              "      <th>Number of Open Accounts</th>\n",
              "      <th>Number of Credit Problems</th>\n",
              "      <th>Current Credit Balance</th>\n",
              "      <th>Maximum Open Credit</th>\n",
              "    </tr>\n",
              "  </thead>\n",
              "  <tbody>\n",
              "    <tr>\n",
              "      <th>0</th>\n",
              "      <td>445412</td>\n",
              "      <td>Short Term</td>\n",
              "      <td>709.00</td>\n",
              "      <td>1.167493e+06</td>\n",
              "      <td>8 years</td>\n",
              "      <td>Home Mortgage</td>\n",
              "      <td>Home Improvements</td>\n",
              "      <td>5214.74</td>\n",
              "      <td>17</td>\n",
              "      <td>6</td>\n",
              "      <td>1</td>\n",
              "      <td>228190</td>\n",
              "      <td>416746.0</td>\n",
              "    </tr>\n",
              "    <tr>\n",
              "      <th>1</th>\n",
              "      <td>262328</td>\n",
              "      <td>Short Term</td>\n",
              "      <td>1076.46</td>\n",
              "      <td>1.378277e+06</td>\n",
              "      <td>10+ years</td>\n",
              "      <td>Home Mortgage</td>\n",
              "      <td>Debt Consolidation</td>\n",
              "      <td>33295.98</td>\n",
              "      <td>21</td>\n",
              "      <td>35</td>\n",
              "      <td>0</td>\n",
              "      <td>229976</td>\n",
              "      <td>850784.0</td>\n",
              "    </tr>\n",
              "    <tr>\n",
              "      <th>2</th>\n",
              "      <td>99999999</td>\n",
              "      <td>Short Term</td>\n",
              "      <td>741.00</td>\n",
              "      <td>2.231892e+06</td>\n",
              "      <td>8 years</td>\n",
              "      <td>Own Home</td>\n",
              "      <td>Debt Consolidation</td>\n",
              "      <td>29200.53</td>\n",
              "      <td>14</td>\n",
              "      <td>18</td>\n",
              "      <td>1</td>\n",
              "      <td>297996</td>\n",
              "      <td>750090.0</td>\n",
              "    </tr>\n",
              "    <tr>\n",
              "      <th>3</th>\n",
              "      <td>347666</td>\n",
              "      <td>Long Term</td>\n",
              "      <td>721.00</td>\n",
              "      <td>8.069490e+05</td>\n",
              "      <td>3 years</td>\n",
              "      <td>Own Home</td>\n",
              "      <td>Debt Consolidation</td>\n",
              "      <td>8741.90</td>\n",
              "      <td>12</td>\n",
              "      <td>9</td>\n",
              "      <td>0</td>\n",
              "      <td>256329</td>\n",
              "      <td>386958.0</td>\n",
              "    </tr>\n",
              "    <tr>\n",
              "      <th>4</th>\n",
              "      <td>176220</td>\n",
              "      <td>Short Term</td>\n",
              "      <td>1076.46</td>\n",
              "      <td>1.378277e+06</td>\n",
              "      <td>5 years</td>\n",
              "      <td>Rent</td>\n",
              "      <td>Debt Consolidation</td>\n",
              "      <td>20639.70</td>\n",
              "      <td>6</td>\n",
              "      <td>15</td>\n",
              "      <td>0</td>\n",
              "      <td>253460</td>\n",
              "      <td>427174.0</td>\n",
              "    </tr>\n",
              "  </tbody>\n",
              "</table>\n",
              "</div>"
            ],
            "text/plain": [
              "   Current Loan Amount        Term  Credit Score  Annual Income  \\\n",
              "0               445412  Short Term        709.00   1.167493e+06   \n",
              "1               262328  Short Term       1076.46   1.378277e+06   \n",
              "2             99999999  Short Term        741.00   2.231892e+06   \n",
              "3               347666   Long Term        721.00   8.069490e+05   \n",
              "4               176220  Short Term       1076.46   1.378277e+06   \n",
              "\n",
              "  Years in current job Home Ownership             Purpose  Monthly Debt  \\\n",
              "0              8 years  Home Mortgage   Home Improvements       5214.74   \n",
              "1            10+ years  Home Mortgage  Debt Consolidation      33295.98   \n",
              "2              8 years       Own Home  Debt Consolidation      29200.53   \n",
              "3              3 years       Own Home  Debt Consolidation       8741.90   \n",
              "4              5 years           Rent  Debt Consolidation      20639.70   \n",
              "\n",
              "   Years of Credit History  Number of Open Accounts  \\\n",
              "0                       17                        6   \n",
              "1                       21                       35   \n",
              "2                       14                       18   \n",
              "3                       12                        9   \n",
              "4                        6                       15   \n",
              "\n",
              "   Number of Credit Problems  Current Credit Balance  Maximum Open Credit  \n",
              "0                          1                  228190             416746.0  \n",
              "1                          0                  229976             850784.0  \n",
              "2                          1                  297996             750090.0  \n",
              "3                          0                  256329             386958.0  \n",
              "4                          0                  253460             427174.0  "
            ]
          },
          "execution_count": 57,
          "metadata": {},
          "output_type": "execute_result"
        }
      ],
      "source": [
        "top5_rows(X)"
      ]
    },
    {
      "cell_type": "code",
      "execution_count": 58,
      "metadata": {
        "id": "sJUgXTRpw_t6"
      },
      "outputs": [],
      "source": [
        "X.drop(columns = ['Years in current job', 'Term', 'Home Ownership', 'Purpose'], inplace=True)"
      ]
    },
    {
      "cell_type": "markdown",
      "metadata": {
        "id": "JxoIHU9AVmrK"
      },
      "source": [
        "## **One Hot Encoding** "
      ]
    },
    {
      "cell_type": "code",
      "execution_count": 59,
      "metadata": {
        "colab": {
          "base_uri": "https://localhost:8080/"
        },
        "id": "eeui0-ar3AXi",
        "outputId": "40c3d442-d256-41c3-a9b8-7004799cf3ba"
      },
      "outputs": [
        {
          "data": {
            "text/plain": [
              "Index(['Current Loan Amount', 'Credit Score', 'Annual Income', 'Monthly Debt',\n",
              "       'Years of Credit History', 'Number of Open Accounts',\n",
              "       'Number of Credit Problems', 'Current Credit Balance',\n",
              "       'Maximum Open Credit'],\n",
              "      dtype='object')"
            ]
          },
          "execution_count": 59,
          "metadata": {},
          "output_type": "execute_result"
        }
      ],
      "source": [
        "# getting the new X data columns\n",
        "X.columns"
      ]
    },
    {
      "cell_type": "code",
      "execution_count": 60,
      "metadata": {
        "colab": {
          "base_uri": "https://localhost:8080/"
        },
        "id": "RzwUDAh05oNv",
        "outputId": "a13aa986-1b5c-47a2-c0ad-af843f905aec"
      },
      "outputs": [
        {
          "data": {
            "text/plain": [
              "(100000, 9)"
            ]
          },
          "execution_count": 60,
          "metadata": {},
          "output_type": "execute_result"
        }
      ],
      "source": [
        "X.shape"
      ]
    },
    {
      "cell_type": "code",
      "execution_count": 61,
      "metadata": {
        "colab": {
          "base_uri": "https://localhost:8080/"
        },
        "id": "-i3uT5dg-Vua",
        "outputId": "77595af8-c207-4a07-9d32-958e85e3f24d"
      },
      "outputs": [
        {
          "data": {
            "text/plain": [
              "0    1\n",
              "1    1\n",
              "2    1\n",
              "3    1\n",
              "4    1\n",
              "Name: Loan Status, dtype: int64"
            ]
          },
          "execution_count": 61,
          "metadata": {},
          "output_type": "execute_result"
        }
      ],
      "source": [
        "# Checking the top 5 rows of the new X dataset\n",
        "top5_rows(y)"
      ]
    },
    {
      "cell_type": "markdown",
      "metadata": {
        "id": "j5cJseK5YIEx"
      },
      "source": [
        "## Model Building"
      ]
    },
    {
      "cell_type": "code",
      "execution_count": 62,
      "metadata": {
        "id": "WLzPeSDiWXxu"
      },
      "outputs": [],
      "source": [
        "# importing the model library for training and evaluation\n",
        "from sklearn.model_selection import train_test_split\n",
        "from sklearn.metrics import accuracy_score, confusion_matrix, classification_report\n",
        "# Creating the model variables using the test slpit functions and the hyperparameters\n",
        "X_train, X_test, y_train, y_test = train_test_split(X, y, test_size = 0.15, random_state = 32)\n",
        "#36 81.9% 0.15\n",
        "#32 82.07% 0.15"
      ]
    },
    {
      "cell_type": "code",
      "execution_count": 63,
      "metadata": {
        "id": "7OU0Mjid7Cis"
      },
      "outputs": [],
      "source": [
        "import sklearn"
      ]
    },
    {
      "cell_type": "code",
      "execution_count": 64,
      "metadata": {
        "colab": {
          "base_uri": "https://localhost:8080/"
        },
        "id": "UBvXkPjYf67E",
        "outputId": "3dbdd423-e389-4c21-e302-c08d3184dcc6"
      },
      "outputs": [
        {
          "data": {
            "text/plain": [
              "'1.1.2'"
            ]
          },
          "execution_count": 64,
          "metadata": {},
          "output_type": "execute_result"
        }
      ],
      "source": [
        "sklearn.__version__"
      ]
    },
    {
      "cell_type": "code",
      "execution_count": 65,
      "metadata": {
        "colab": {
          "base_uri": "https://localhost:8080/"
        },
        "id": "UC_SopJKYG_Z",
        "outputId": "7dbdb949-572a-452c-8952-d974cee488d2"
      },
      "outputs": [
        {
          "name": "stdout",
          "output_type": "stream",
          "text": [
            "accuracy score is :  82.07%\n"
          ]
        }
      ],
      "source": [
        "# Modelling, predicting and evaluating\n",
        "from sklearn.linear_model import LogisticRegression\n",
        "lr = LogisticRegression(max_iter=10000) \n",
        "lr.fit(X_train, y_train)\n",
        "y_pred = lr.predict(X_test)\n",
        "accuracy_test = accuracy_score(y_test, y_pred)\n",
        "print(f'accuracy score is : ',  str(round(accuracy_test * 100, 2)) + '%')"
      ]
    },
    {
      "cell_type": "code",
      "execution_count": 66,
      "metadata": {},
      "outputs": [
        {
          "name": "stdout",
          "output_type": "stream",
          "text": [
            "['Logistic Regression', 'LogisticRegressionCV', 'SGDClassifier', 'PassiveAggressiveClassifier', 'RandomForestClassifier', 'GradientBoostingClassifier', 'HistGradientBoostingClassifier', 'AdaBoostClassifier', 'CatBoostClassifier', 'XGBClassifier', 'GaussianNB', 'LinearDiscriminantAnalysis', 'KNeighborsClassifier', 'MLPClassifier', 'SVC', 'DecisionTreeClassifier', 'BernoulliNB', 'MultinomialNB', 'ComplementNB', 'ExtraTreesClassifier', 'RidgeClassifier', 'RidgeClassifierCV', 'ExtraTreeClassifier', 'QuadraticDiscriminantAnalysis', 'LinearSVC', 'BaggingClassifier', 'BalancedBaggingClassifier', 'Perceptron', 'NuSVC', 'LGBMClassifier']\n"
          ]
        }
      ],
      "source": [
        "from MultiTrain import MultiClassifier\n",
        "train = MultiClassifier()\n",
        "print(train.classifier_model_names())\n"
      ]
    },
    {
      "cell_type": "code",
      "execution_count": 67,
      "metadata": {},
      "outputs": [
        {
          "name": "stdout",
          "output_type": "stream",
          "text": [
            "[10:00:47] WARNING: ../src/learner.cc:627: \n",
            "Parameters: { \"refit\" } might not be used.\n",
            "\n",
            "  This could be a false alarm, with some parameters getting used by language bindings but\n",
            "  then being mistakenly passed down to XGBoost core, or some parameter actually being used\n",
            "  but getting flagged wrongly here. Please open an issue if you find any such cases.\n",
            "\n",
            "\n"
          ]
        },
        {
          "name": "stderr",
          "output_type": "stream",
          "text": [
            "ERROR:MultiTrain.classification.classification_models:NuSVC(random_state=837) has an issue\n",
            "INFO:MultiTrain.classification.classification_models:BEST MODEL BASED ON True\n"
          ]
        }
      ],
      "source": [
        "fit = train.fit(X_train=X_train, \n",
        "              X_test=X_test, \n",
        "              y_train=y_train, \n",
        "              y_test=y_test, \n",
        "              split_self=True, #always set this to true if you used the traditional train_test_split\n",
        "              show_train_score=True, #only set this to true if you want to compare train equivalent of all the metrics shown on the dataframe\n",
        "              return_best_model=True, #setting this to True means that you'll get a dataframe containing only the best performing model\n",
        "              excel=True #when this parameter is set to true, an spreadsheet report of the training is stored in your current working directory\n",
        "              ) "
      ]
    },
    {
      "cell_type": "code",
      "execution_count": null,
      "metadata": {
        "colab": {
          "base_uri": "https://localhost:8080/"
        },
        "id": "SGgIiP9BX57h",
        "outputId": "89918de5-344e-4446-e38e-3992dbb13527"
      },
      "outputs": [
        {
          "name": "stdout",
          "output_type": "stream",
          "text": [
            "              precision    recall  f1-score   support\n",
            "\n",
            " Charged Off       0.91      0.21      0.34      3322\n",
            "  Fully Paid       0.82      0.99      0.90     11678\n",
            "\n",
            "    accuracy                           0.82     15000\n",
            "   macro avg       0.86      0.60      0.62     15000\n",
            "weighted avg       0.84      0.82      0.77     15000\n",
            "\n"
          ]
        }
      ],
      "source": [
        "print(classification_report(y_test, y_pred))"
      ]
    },
    {
      "cell_type": "code",
      "execution_count": null,
      "metadata": {
        "id": "9wS9F6b70Txa"
      },
      "outputs": [],
      "source": [
        "def Confusion_Matrix (ytest, ypred, label = ['Negative', 'Positive']):\n",
        "  cm = confusion_matrix(ytest, ypred)\n",
        "  plt.figure(figsize=(10, 6))\n",
        "  sns.heatmap(cm, annot = True, cbar = False, fmt='d', cmap = 'inferno')\n",
        "  plt.xlabel('Actual', fontsize = 13)\n",
        "  plt.xticks ( [0.5, 1.5], label)\n",
        "  plt.yticks ( [0.5, 1.5], label)\n",
        "  plt.ylabel('Predicted', fontsize = 13)\n",
        "  plt.title('Confusion Matrix');"
      ]
    },
    {
      "cell_type": "code",
      "execution_count": null,
      "metadata": {
        "colab": {
          "base_uri": "https://localhost:8080/"
        },
        "id": "AMI-xOOm3v9g",
        "outputId": "7a27d8d4-73f9-43db-dfb1-1b7a1fef2d09"
      },
      "outputs": [
        {
          "name": "stdout",
          "output_type": "stream",
          "text": [
            "Help on function heatmap in module seaborn.matrix:\n",
            "\n",
            "heatmap(data, *, vmin=None, vmax=None, cmap=None, center=None, robust=False, annot=None, fmt='.2g', annot_kws=None, linewidths=0, linecolor='white', cbar=True, cbar_kws=None, cbar_ax=None, square=False, xticklabels='auto', yticklabels='auto', mask=None, ax=None, **kwargs)\n",
            "    Plot rectangular data as a color-encoded matrix.\n",
            "    \n",
            "    This is an Axes-level function and will draw the heatmap into the\n",
            "    currently-active Axes if none is provided to the ``ax`` argument.  Part of\n",
            "    this Axes space will be taken and used to plot a colormap, unless ``cbar``\n",
            "    is False or a separate Axes is provided to ``cbar_ax``.\n",
            "    \n",
            "    Parameters\n",
            "    ----------\n",
            "    data : rectangular dataset\n",
            "        2D dataset that can be coerced into an ndarray. If a Pandas DataFrame\n",
            "        is provided, the index/column information will be used to label the\n",
            "        columns and rows.\n",
            "    vmin, vmax : floats, optional\n",
            "        Values to anchor the colormap, otherwise they are inferred from the\n",
            "        data and other keyword arguments.\n",
            "    cmap : matplotlib colormap name or object, or list of colors, optional\n",
            "        The mapping from data values to color space. If not provided, the\n",
            "        default will depend on whether ``center`` is set.\n",
            "    center : float, optional\n",
            "        The value at which to center the colormap when plotting divergent data.\n",
            "        Using this parameter will change the default ``cmap`` if none is\n",
            "        specified.\n",
            "    robust : bool, optional\n",
            "        If True and ``vmin`` or ``vmax`` are absent, the colormap range is\n",
            "        computed with robust quantiles instead of the extreme values.\n",
            "    annot : bool or rectangular dataset, optional\n",
            "        If True, write the data value in each cell. If an array-like with the\n",
            "        same shape as ``data``, then use this to annotate the heatmap instead\n",
            "        of the data. Note that DataFrames will match on position, not index.\n",
            "    fmt : str, optional\n",
            "        String formatting code to use when adding annotations.\n",
            "    annot_kws : dict of key, value mappings, optional\n",
            "        Keyword arguments for :meth:`matplotlib.axes.Axes.text` when ``annot``\n",
            "        is True.\n",
            "    linewidths : float, optional\n",
            "        Width of the lines that will divide each cell.\n",
            "    linecolor : color, optional\n",
            "        Color of the lines that will divide each cell.\n",
            "    cbar : bool, optional\n",
            "        Whether to draw a colorbar.\n",
            "    cbar_kws : dict of key, value mappings, optional\n",
            "        Keyword arguments for :meth:`matplotlib.figure.Figure.colorbar`.\n",
            "    cbar_ax : matplotlib Axes, optional\n",
            "        Axes in which to draw the colorbar, otherwise take space from the\n",
            "        main Axes.\n",
            "    square : bool, optional\n",
            "        If True, set the Axes aspect to \"equal\" so each cell will be\n",
            "        square-shaped.\n",
            "    xticklabels, yticklabels : \"auto\", bool, list-like, or int, optional\n",
            "        If True, plot the column names of the dataframe. If False, don't plot\n",
            "        the column names. If list-like, plot these alternate labels as the\n",
            "        xticklabels. If an integer, use the column names but plot only every\n",
            "        n label. If \"auto\", try to densely plot non-overlapping labels.\n",
            "    mask : bool array or DataFrame, optional\n",
            "        If passed, data will not be shown in cells where ``mask`` is True.\n",
            "        Cells with missing values are automatically masked.\n",
            "    ax : matplotlib Axes, optional\n",
            "        Axes in which to draw the plot, otherwise use the currently-active\n",
            "        Axes.\n",
            "    kwargs : other keyword arguments\n",
            "        All other keyword arguments are passed to\n",
            "        :meth:`matplotlib.axes.Axes.pcolormesh`.\n",
            "    \n",
            "    Returns\n",
            "    -------\n",
            "    ax : matplotlib Axes\n",
            "        Axes object with the heatmap.\n",
            "    \n",
            "    See Also\n",
            "    --------\n",
            "    clustermap : Plot a matrix using hierarchical clustering to arrange the\n",
            "                 rows and columns.\n",
            "    \n",
            "    Examples\n",
            "    --------\n",
            "    \n",
            "    Plot a heatmap for a numpy array:\n",
            "    \n",
            "    .. plot::\n",
            "        :context: close-figs\n",
            "    \n",
            "        >>> import numpy as np; np.random.seed(0)\n",
            "        >>> import seaborn as sns; sns.set_theme()\n",
            "        >>> uniform_data = np.random.rand(10, 12)\n",
            "        >>> ax = sns.heatmap(uniform_data)\n",
            "    \n",
            "    Change the limits of the colormap:\n",
            "    \n",
            "    .. plot::\n",
            "        :context: close-figs\n",
            "    \n",
            "        >>> ax = sns.heatmap(uniform_data, vmin=0, vmax=1)\n",
            "    \n",
            "    Plot a heatmap for data centered on 0 with a diverging colormap:\n",
            "    \n",
            "    .. plot::\n",
            "        :context: close-figs\n",
            "    \n",
            "        >>> normal_data = np.random.randn(10, 12)\n",
            "        >>> ax = sns.heatmap(normal_data, center=0)\n",
            "    \n",
            "    Plot a dataframe with meaningful row and column labels:\n",
            "    \n",
            "    .. plot::\n",
            "        :context: close-figs\n",
            "    \n",
            "        >>> flights = sns.load_dataset(\"flights\")\n",
            "        >>> flights = flights.pivot(\"month\", \"year\", \"passengers\")\n",
            "        >>> ax = sns.heatmap(flights)\n",
            "    \n",
            "    Annotate each cell with the numeric value using integer formatting:\n",
            "    \n",
            "    .. plot::\n",
            "        :context: close-figs\n",
            "    \n",
            "        >>> ax = sns.heatmap(flights, annot=True, fmt=\"d\")\n",
            "    \n",
            "    Add lines between each cell:\n",
            "    \n",
            "    .. plot::\n",
            "        :context: close-figs\n",
            "    \n",
            "        >>> ax = sns.heatmap(flights, linewidths=.5)\n",
            "    \n",
            "    Use a different colormap:\n",
            "    \n",
            "    .. plot::\n",
            "        :context: close-figs\n",
            "    \n",
            "        >>> ax = sns.heatmap(flights, cmap=\"YlGnBu\")\n",
            "    \n",
            "    Center the colormap at a specific value:\n",
            "    \n",
            "    .. plot::\n",
            "        :context: close-figs\n",
            "    \n",
            "        >>> ax = sns.heatmap(flights, center=flights.loc[\"Jan\", 1955])\n",
            "    \n",
            "    Plot every other column label and don't plot row labels:\n",
            "    \n",
            "    .. plot::\n",
            "        :context: close-figs\n",
            "    \n",
            "        >>> data = np.random.randn(50, 20)\n",
            "        >>> ax = sns.heatmap(data, xticklabels=2, yticklabels=False)\n",
            "    \n",
            "    Don't draw a colorbar:\n",
            "    \n",
            "    .. plot::\n",
            "        :context: close-figs\n",
            "    \n",
            "        >>> ax = sns.heatmap(flights, cbar=False)\n",
            "    \n",
            "    Use different axes for the colorbar:\n",
            "    \n",
            "    .. plot::\n",
            "        :context: close-figs\n",
            "    \n",
            "        >>> grid_kws = {\"height_ratios\": (.9, .05), \"hspace\": .3}\n",
            "        >>> f, (ax, cbar_ax) = plt.subplots(2, gridspec_kw=grid_kws)\n",
            "        >>> ax = sns.heatmap(flights, ax=ax,\n",
            "        ...                  cbar_ax=cbar_ax,\n",
            "        ...                  cbar_kws={\"orientation\": \"horizontal\"})\n",
            "    \n",
            "    Use a mask to plot only part of a matrix\n",
            "    \n",
            "    .. plot::\n",
            "        :context: close-figs\n",
            "    \n",
            "        >>> corr = np.corrcoef(np.random.randn(10, 200))\n",
            "        >>> mask = np.zeros_like(corr)\n",
            "        >>> mask[np.triu_indices_from(mask)] = True\n",
            "        >>> with sns.axes_style(\"white\"):\n",
            "        ...     f, ax = plt.subplots(figsize=(7, 5))\n",
            "        ...     ax = sns.heatmap(corr, mask=mask, vmax=.3, square=True)\n",
            "\n"
          ]
        }
      ],
      "source": [
        "help(sns.heatmap)"
      ]
    },
    {
      "cell_type": "code",
      "execution_count": null,
      "metadata": {
        "colab": {
          "base_uri": "https://localhost:8080/"
        },
        "id": "nUedhhem2Eqe",
        "outputId": "12f50958-42e5-48c9-cfca-74fc9d124290"
      },
      "outputs": [
        {
          "data": {
            "text/plain": [
              "array([[  702,  2620],\n",
              "       [   69, 11609]])"
            ]
          },
          "execution_count": 74,
          "metadata": {},
          "output_type": "execute_result"
        }
      ],
      "source": [
        "confusion_matrix(y_test, y_pred)"
      ]
    },
    {
      "cell_type": "code",
      "execution_count": null,
      "metadata": {
        "colab": {
          "base_uri": "https://localhost:8080/",
          "height": 410
        },
        "id": "k9lBLeJI1bag",
        "outputId": "7cc31a34-ebd3-439c-d1ea-432f9b7c4511"
      },
      "outputs": [
        {
          "data": {
            "image/png": "[encoded data removed]",
            "text/plain": [
              "<Figure size 720x432 with 1 Axes>"
            ]
          },
          "metadata": {},
          "output_type": "display_data"
        }
      ],
      "source": [
        "Confusion_Matrix(y_test, y_pred, label=['Charged Off', 'Fully Paid'])"
      ]
    },
    {
      "cell_type": "markdown",
      "metadata": {
        "id": "-xq2rCwNOPX2"
      },
      "source": [
        "##Saving the Model"
      ]
    },
    {
      "cell_type": "code",
      "execution_count": null,
      "metadata": {
        "id": "i0GQwwvoOW3n"
      },
      "outputs": [],
      "source": [
        "import pickle "
      ]
    },
    {
      "cell_type": "code",
      "execution_count": null,
      "metadata": {
        "id": "_kBABsJoOaEs"
      },
      "outputs": [],
      "source": [
        "# Saving the model\n",
        "filename = 'trained_model_Loan_Pred.pkl'\n",
        "pickle.dump(lr, open(filename, 'wb'))"
      ]
    },
    {
      "cell_type": "code",
      "execution_count": null,
      "metadata": {
        "id": "1fFbfs4sPJJP"
      },
      "outputs": [
        {
          "ename": "FileNotFoundError",
          "evalue": "[Errno 2] No such file or directory: '/content/new_trained_model_Loan_Pred.pkl'",
          "output_type": "error",
          "traceback": [
            "\u001b[0;31m---------------------------------------------------------------------------\u001b[0m",
            "\u001b[0;31mFileNotFoundError\u001b[0m                         Traceback (most recent call last)",
            "\u001b[1;32m/home/ayo/Desktop/Git_Repos/ProjectCollaboration.github.io/Loan_Prediction_Project.ipynb Cell 84\u001b[0m in \u001b[0;36m<cell line: 1>\u001b[0;34m()\u001b[0m\n\u001b[0;32m----> <a href='vscode-notebook-cell:/home/ayo/Desktop/Git_Repos/ProjectCollaboration.github.io/Loan_Prediction_Project.ipynb#Y146sZmlsZQ%3D%3D?line=0'>1</a>\u001b[0m model \u001b[39m=\u001b[39m pickle\u001b[39m.\u001b[39mload(\u001b[39mopen\u001b[39;49m(\u001b[39m'\u001b[39;49m\u001b[39m/content/new_trained_model_Loan_Pred.pkl\u001b[39;49m\u001b[39m'\u001b[39;49m, \u001b[39m'\u001b[39;49m\u001b[39mrb\u001b[39;49m\u001b[39m'\u001b[39;49m))\n",
            "\u001b[0;31mFileNotFoundError\u001b[0m: [Errno 2] No such file or directory: '/content/new_trained_model_Loan_Pred.pkl'"
          ]
        }
      ],
      "source": [
        "\n",
        "model = pickle.load(open('/content/new_trained_model_Loan_Pred.pkl', 'rb'))\n"
      ]
    },
    {
      "cell_type": "markdown",
      "metadata": {
        "id": "dLDoyddFygVv"
      },
      "source": [
        "## Testing the model"
      ]
    },
    {
      "cell_type": "code",
      "execution_count": null,
      "metadata": {
        "id": "VRGUTa2TydNt"
      },
      "outputs": [],
      "source": [
        " input_data = (445412, \t709.00, \t1167493.00, 5214.74, \t17, \t6, \t1, \t228190, 416746.00)\n"
      ]
    },
    {
      "cell_type": "code",
      "execution_count": null,
      "metadata": {
        "id": "yJgUDHrL0XCt"
      },
      "outputs": [],
      "source": [
        "import numpy as np\n"
      ]
    },
    {
      "cell_type": "code",
      "execution_count": null,
      "metadata": {
        "id": "VDQ2t19u2UjJ"
      },
      "outputs": [],
      "source": [
        "# creating function to make prediction\n",
        "input_data_array = np.array(input_data)\n",
        "reshaped_data = input_data_array.reshape(1, -1)\n",
        "def generateprediction(data):\n",
        "\n",
        "    makeprediction = model.predict(data)\n",
        "    print(makeprediction)\n",
        "\n",
        "    if (makeprediction[0] == 'Fully Paid'):\n",
        "        return 'The Customer will not default'\n",
        "    else:\n",
        "        return 'The Customer will default'"
      ]
    },
    {
      "cell_type": "code",
      "execution_count": null,
      "metadata": {
        "id": "RLtFfedL5WHF"
      },
      "outputs": [],
      "source": [
        "generateprediction(reshaped_data)"
      ]
    }
  ],
  "metadata": {
    "colab": {
      "collapsed_sections": [],
      "include_colab_link": true,
      "name": "Loan_Prediction_Project.ipynb",
      "provenance": []
    },
    "kernelspec": {
      "display_name": "Python 3.9.12 ('base')",
      "language": "python",
      "name": "python3"
    },
    "language_info": {
      "codemirror_mode": {
        "name": "ipython",
        "version": 3
      },
      "file_extension": ".py",
      "mimetype": "text/x-python",
      "name": "python",
      "nbconvert_exporter": "python",
      "pygments_lexer": "ipython3",
      "version": "3.9.12"
    },
    "vscode": {
      "interpreter": {
        "hash": "c80778a9880c3e3763e9392a05512e53b0c979ce5527eac5893f16cf8c3c8fd9"
      }
    }
  },
  "nbformat": 4,
  "nbformat_minor": 0
}
